{
  "nbformat": 4,
  "nbformat_minor": 0,
  "metadata": {
    "colab": {
      "name": "Category Prediction (Text CNN).ipynb",
      "provenance": [],
      "collapsed_sections": [],
      "machine_shape": "hm"
    },
    "kernelspec": {
      "name": "python3",
      "display_name": "Python 3"
    },
    "accelerator": "GPU"
  },
  "cells": [
    {
      "cell_type": "code",
      "metadata": {
        "id": "-RbcaiBoMyrf",
        "colab_type": "code",
        "colab": {
          "base_uri": "https://localhost:8080/",
          "height": 122
        },
        "outputId": "a49af7d9-1bbf-4795-c87a-86822e48cee5"
      },
      "source": [
        "from google.colab import drive\n",
        "drive.mount('/content/drive')"
      ],
      "execution_count": null,
      "outputs": [
        {
          "output_type": "stream",
          "text": [
            "Go to this URL in a browser: https://accounts.google.com/o/oauth2/auth?client_id=947318989803-6bn6qk8qdgf4n4g3pfee6491hc0brc4i.apps.googleusercontent.com&redirect_uri=urn%3aietf%3awg%3aoauth%3a2.0%3aoob&response_type=code&scope=email%20https%3a%2f%2fwww.googleapis.com%2fauth%2fdocs.test%20https%3a%2f%2fwww.googleapis.com%2fauth%2fdrive%20https%3a%2f%2fwww.googleapis.com%2fauth%2fdrive.photos.readonly%20https%3a%2f%2fwww.googleapis.com%2fauth%2fpeopleapi.readonly\n",
            "\n",
            "Enter your authorization code:\n",
            "··········\n",
            "Mounted at /content/drive\n"
          ],
          "name": "stdout"
        }
      ]
    },
    {
      "cell_type": "code",
      "metadata": {
        "id": "-_Dab8aoN1rw",
        "colab_type": "code",
        "colab": {
          "base_uri": "https://localhost:8080/",
          "height": 357
        },
        "outputId": "52b85a37-273e-42e0-b229-7a4caccc1375"
      },
      "source": [
        "# Check GPU\n",
        "!nvidia-smi"
      ],
      "execution_count": null,
      "outputs": [
        {
          "output_type": "stream",
          "text": [
            "Tue Jun 30 21:20:25 2020       \n",
            "+-----------------------------------------------------------------------------+\n",
            "| NVIDIA-SMI 450.36.06    Driver Version: 418.67       CUDA Version: 10.1     |\n",
            "|-------------------------------+----------------------+----------------------+\n",
            "| GPU  Name        Persistence-M| Bus-Id        Disp.A | Volatile Uncorr. ECC |\n",
            "| Fan  Temp  Perf  Pwr:Usage/Cap|         Memory-Usage | GPU-Util  Compute M. |\n",
            "|                               |                      |               MIG M. |\n",
            "|===============================+======================+======================|\n",
            "|   0  Tesla P100-PCIE...  Off  | 00000000:00:04.0 Off |                    0 |\n",
            "| N/A   33C    P0    25W / 250W |      0MiB / 16280MiB |      0%      Default |\n",
            "|                               |                      |                 ERR! |\n",
            "+-------------------------------+----------------------+----------------------+\n",
            "                                                                               \n",
            "+-----------------------------------------------------------------------------+\n",
            "| Processes:                                                                  |\n",
            "|  GPU   GI   CI        PID   Type   Process name                  GPU Memory |\n",
            "|        ID   ID                                                   Usage      |\n",
            "|=============================================================================|\n",
            "|  No running processes found                                                 |\n",
            "+-----------------------------------------------------------------------------+\n"
          ],
          "name": "stdout"
        }
      ]
    },
    {
      "cell_type": "code",
      "metadata": {
        "id": "bT-CT0WeN269",
        "colab_type": "code",
        "colab": {
          "base_uri": "https://localhost:8080/",
          "height": 1000
        },
        "outputId": "0eb4abbc-7ef1-4050-e5c1-665fa9ebb930"
      },
      "source": [
        "!pip install git+https://github.com/d2l-ai/d2l-en # installing d2l\n",
        "!pip install -U mxnet-cu101mkl==1.6.0  # updating mxnet to at least v1.6"
      ],
      "execution_count": null,
      "outputs": [
        {
          "output_type": "stream",
          "text": [
            "Collecting git+https://github.com/d2l-ai/d2l-en\n",
            "  Cloning https://github.com/d2l-ai/d2l-en to /tmp/pip-req-build-atf6xeqv\n",
            "  Running command git clone -q https://github.com/d2l-ai/d2l-en /tmp/pip-req-build-atf6xeqv\n",
            "Requirement already satisfied: jupyter in /usr/local/lib/python3.6/dist-packages (from d2l==0.13.2) (1.0.0)\n",
            "Requirement already satisfied: numpy in /usr/local/lib/python3.6/dist-packages (from d2l==0.13.2) (1.18.5)\n",
            "Requirement already satisfied: matplotlib in /usr/local/lib/python3.6/dist-packages (from d2l==0.13.2) (3.2.2)\n",
            "Requirement already satisfied: pandas in /usr/local/lib/python3.6/dist-packages (from d2l==0.13.2) (1.0.5)\n",
            "Requirement already satisfied: nbconvert in /usr/local/lib/python3.6/dist-packages (from jupyter->d2l==0.13.2) (5.6.1)\n",
            "Requirement already satisfied: jupyter-console in /usr/local/lib/python3.6/dist-packages (from jupyter->d2l==0.13.2) (5.2.0)\n",
            "Requirement already satisfied: ipywidgets in /usr/local/lib/python3.6/dist-packages (from jupyter->d2l==0.13.2) (7.5.1)\n",
            "Requirement already satisfied: ipykernel in /usr/local/lib/python3.6/dist-packages (from jupyter->d2l==0.13.2) (4.10.1)\n",
            "Requirement already satisfied: qtconsole in /usr/local/lib/python3.6/dist-packages (from jupyter->d2l==0.13.2) (4.7.5)\n",
            "Requirement already satisfied: notebook in /usr/local/lib/python3.6/dist-packages (from jupyter->d2l==0.13.2) (5.2.2)\n",
            "Requirement already satisfied: python-dateutil>=2.1 in /usr/local/lib/python3.6/dist-packages (from matplotlib->d2l==0.13.2) (2.8.1)\n",
            "Requirement already satisfied: kiwisolver>=1.0.1 in /usr/local/lib/python3.6/dist-packages (from matplotlib->d2l==0.13.2) (1.2.0)\n",
            "Requirement already satisfied: cycler>=0.10 in /usr/local/lib/python3.6/dist-packages (from matplotlib->d2l==0.13.2) (0.10.0)\n",
            "Requirement already satisfied: pyparsing!=2.0.4,!=2.1.2,!=2.1.6,>=2.0.1 in /usr/local/lib/python3.6/dist-packages (from matplotlib->d2l==0.13.2) (2.4.7)\n",
            "Requirement already satisfied: pytz>=2017.2 in /usr/local/lib/python3.6/dist-packages (from pandas->d2l==0.13.2) (2018.9)\n",
            "Requirement already satisfied: defusedxml in /usr/local/lib/python3.6/dist-packages (from nbconvert->jupyter->d2l==0.13.2) (0.6.0)\n",
            "Requirement already satisfied: mistune<2,>=0.8.1 in /usr/local/lib/python3.6/dist-packages (from nbconvert->jupyter->d2l==0.13.2) (0.8.4)\n",
            "Requirement already satisfied: bleach in /usr/local/lib/python3.6/dist-packages (from nbconvert->jupyter->d2l==0.13.2) (3.1.5)\n",
            "Requirement already satisfied: nbformat>=4.4 in /usr/local/lib/python3.6/dist-packages (from nbconvert->jupyter->d2l==0.13.2) (5.0.7)\n",
            "Requirement already satisfied: traitlets>=4.2 in /usr/local/lib/python3.6/dist-packages (from nbconvert->jupyter->d2l==0.13.2) (4.3.3)\n",
            "Requirement already satisfied: testpath in /usr/local/lib/python3.6/dist-packages (from nbconvert->jupyter->d2l==0.13.2) (0.4.4)\n",
            "Requirement already satisfied: entrypoints>=0.2.2 in /usr/local/lib/python3.6/dist-packages (from nbconvert->jupyter->d2l==0.13.2) (0.3)\n",
            "Requirement already satisfied: pandocfilters>=1.4.1 in /usr/local/lib/python3.6/dist-packages (from nbconvert->jupyter->d2l==0.13.2) (1.4.2)\n",
            "Requirement already satisfied: pygments in /usr/local/lib/python3.6/dist-packages (from nbconvert->jupyter->d2l==0.13.2) (2.1.3)\n",
            "Requirement already satisfied: jupyter-core in /usr/local/lib/python3.6/dist-packages (from nbconvert->jupyter->d2l==0.13.2) (4.6.3)\n",
            "Requirement already satisfied: jinja2>=2.4 in /usr/local/lib/python3.6/dist-packages (from nbconvert->jupyter->d2l==0.13.2) (2.11.2)\n",
            "Requirement already satisfied: jupyter-client in /usr/local/lib/python3.6/dist-packages (from jupyter-console->jupyter->d2l==0.13.2) (5.3.4)\n",
            "Requirement already satisfied: prompt-toolkit<2.0.0,>=1.0.0 in /usr/local/lib/python3.6/dist-packages (from jupyter-console->jupyter->d2l==0.13.2) (1.0.18)\n",
            "Requirement already satisfied: ipython in /usr/local/lib/python3.6/dist-packages (from jupyter-console->jupyter->d2l==0.13.2) (5.5.0)\n",
            "Requirement already satisfied: widgetsnbextension~=3.5.0 in /usr/local/lib/python3.6/dist-packages (from ipywidgets->jupyter->d2l==0.13.2) (3.5.1)\n",
            "Requirement already satisfied: tornado>=4.0 in /usr/local/lib/python3.6/dist-packages (from ipykernel->jupyter->d2l==0.13.2) (4.5.3)\n",
            "Requirement already satisfied: ipython-genutils in /usr/local/lib/python3.6/dist-packages (from qtconsole->jupyter->d2l==0.13.2) (0.2.0)\n",
            "Requirement already satisfied: pyzmq>=17.1 in /usr/local/lib/python3.6/dist-packages (from qtconsole->jupyter->d2l==0.13.2) (19.0.1)\n",
            "Requirement already satisfied: qtpy in /usr/local/lib/python3.6/dist-packages (from qtconsole->jupyter->d2l==0.13.2) (1.9.0)\n",
            "Requirement already satisfied: terminado>=0.3.3; sys_platform != \"win32\" in /usr/local/lib/python3.6/dist-packages (from notebook->jupyter->d2l==0.13.2) (0.8.3)\n",
            "Requirement already satisfied: six>=1.5 in /usr/local/lib/python3.6/dist-packages (from python-dateutil>=2.1->matplotlib->d2l==0.13.2) (1.12.0)\n",
            "Requirement already satisfied: webencodings in /usr/local/lib/python3.6/dist-packages (from bleach->nbconvert->jupyter->d2l==0.13.2) (0.5.1)\n",
            "Requirement already satisfied: packaging in /usr/local/lib/python3.6/dist-packages (from bleach->nbconvert->jupyter->d2l==0.13.2) (20.4)\n",
            "Requirement already satisfied: jsonschema!=2.5.0,>=2.4 in /usr/local/lib/python3.6/dist-packages (from nbformat>=4.4->nbconvert->jupyter->d2l==0.13.2) (2.6.0)\n",
            "Requirement already satisfied: decorator in /usr/local/lib/python3.6/dist-packages (from traitlets>=4.2->nbconvert->jupyter->d2l==0.13.2) (4.4.2)\n",
            "Requirement already satisfied: MarkupSafe>=0.23 in /usr/local/lib/python3.6/dist-packages (from jinja2>=2.4->nbconvert->jupyter->d2l==0.13.2) (1.1.1)\n",
            "Requirement already satisfied: wcwidth in /usr/local/lib/python3.6/dist-packages (from prompt-toolkit<2.0.0,>=1.0.0->jupyter-console->jupyter->d2l==0.13.2) (0.2.5)\n",
            "Requirement already satisfied: simplegeneric>0.8 in /usr/local/lib/python3.6/dist-packages (from ipython->jupyter-console->jupyter->d2l==0.13.2) (0.8.1)\n",
            "Requirement already satisfied: setuptools>=18.5 in /usr/local/lib/python3.6/dist-packages (from ipython->jupyter-console->jupyter->d2l==0.13.2) (47.3.1)\n",
            "Requirement already satisfied: pexpect; sys_platform != \"win32\" in /usr/local/lib/python3.6/dist-packages (from ipython->jupyter-console->jupyter->d2l==0.13.2) (4.8.0)\n",
            "Requirement already satisfied: pickleshare in /usr/local/lib/python3.6/dist-packages (from ipython->jupyter-console->jupyter->d2l==0.13.2) (0.7.5)\n",
            "Requirement already satisfied: ptyprocess; os_name != \"nt\" in /usr/local/lib/python3.6/dist-packages (from terminado>=0.3.3; sys_platform != \"win32\"->notebook->jupyter->d2l==0.13.2) (0.6.0)\n",
            "Building wheels for collected packages: d2l\n",
            "  Building wheel for d2l (setup.py) ... \u001b[?25l\u001b[?25hdone\n",
            "  Created wheel for d2l: filename=d2l-0.13.2-cp36-none-any.whl size=47991 sha256=07d1f83ab158f470c8dce63c9ff0b2ab4e2beb35c7afd58612fdd320dcee8beb\n",
            "  Stored in directory: /tmp/pip-ephem-wheel-cache-82119c29/wheels/82/6f/b8/8422c7ed664272685e3d139b127f89df39d934704a14b2156c\n",
            "Successfully built d2l\n",
            "Installing collected packages: d2l\n",
            "Successfully installed d2l-0.13.2\n",
            "Collecting mxnet-cu101mkl==1.6.0\n",
            "\u001b[?25l  Downloading https://files.pythonhosted.org/packages/3d/4b/e51dc49ca5fe6564028e7c91b10a3f79c00d710dd691b408c77597df5883/mxnet_cu101mkl-1.6.0-py2.py3-none-manylinux1_x86_64.whl (711.0MB)\n",
            "\u001b[K     |████████████████████████████████| 711.0MB 23kB/s \n",
            "\u001b[?25hRequirement already satisfied, skipping upgrade: numpy<2.0.0,>1.16.0 in /usr/local/lib/python3.6/dist-packages (from mxnet-cu101mkl==1.6.0) (1.18.5)\n",
            "Requirement already satisfied, skipping upgrade: requests<3,>=2.20.0 in /usr/local/lib/python3.6/dist-packages (from mxnet-cu101mkl==1.6.0) (2.23.0)\n",
            "Collecting graphviz<0.9.0,>=0.8.1\n",
            "  Downloading https://files.pythonhosted.org/packages/53/39/4ab213673844e0c004bed8a0781a0721a3f6bb23eb8854ee75c236428892/graphviz-0.8.4-py2.py3-none-any.whl\n",
            "Requirement already satisfied, skipping upgrade: idna<3,>=2.5 in /usr/local/lib/python3.6/dist-packages (from requests<3,>=2.20.0->mxnet-cu101mkl==1.6.0) (2.9)\n",
            "Requirement already satisfied, skipping upgrade: chardet<4,>=3.0.2 in /usr/local/lib/python3.6/dist-packages (from requests<3,>=2.20.0->mxnet-cu101mkl==1.6.0) (3.0.4)\n",
            "Requirement already satisfied, skipping upgrade: certifi>=2017.4.17 in /usr/local/lib/python3.6/dist-packages (from requests<3,>=2.20.0->mxnet-cu101mkl==1.6.0) (2020.6.20)\n",
            "Requirement already satisfied, skipping upgrade: urllib3!=1.25.0,!=1.25.1,<1.26,>=1.21.1 in /usr/local/lib/python3.6/dist-packages (from requests<3,>=2.20.0->mxnet-cu101mkl==1.6.0) (1.24.3)\n",
            "Installing collected packages: graphviz, mxnet-cu101mkl\n",
            "  Found existing installation: graphviz 0.10.1\n",
            "    Uninstalling graphviz-0.10.1:\n",
            "      Successfully uninstalled graphviz-0.10.1\n",
            "Successfully installed graphviz-0.8.4 mxnet-cu101mkl-1.6.0\n"
          ],
          "name": "stdout"
        }
      ]
    },
    {
      "cell_type": "code",
      "metadata": {
        "id": "03QOV_cjN7xt",
        "colab_type": "code",
        "colab": {
          "base_uri": "https://localhost:8080/",
          "height": 34
        },
        "outputId": "21d6fe0a-728b-40d7-8157-5c57e7e86518"
      },
      "source": [
        "# Verify MXNet detects GPU\n",
        "from d2l import mxnet as d2l\n",
        "d2l.try_all_gpus()"
      ],
      "execution_count": null,
      "outputs": [
        {
          "output_type": "execute_result",
          "data": {
            "text/plain": [
              "[gpu(0)]"
            ]
          },
          "metadata": {
            "tags": []
          },
          "execution_count": 4
        }
      ]
    },
    {
      "cell_type": "code",
      "metadata": {
        "id": "tnDAHJI7OCex",
        "colab_type": "code",
        "colab": {}
      },
      "source": [
        "import gzip\n",
        "from collections import defaultdict\n",
        "import pandas as pd"
      ],
      "execution_count": null,
      "outputs": []
    },
    {
      "cell_type": "code",
      "metadata": {
        "id": "CUfE8j-MOHT6",
        "colab_type": "code",
        "colab": {}
      },
      "source": [
        "def readFile(f):\n",
        "    for l in open(f):\n",
        "        yield eval(l)"
      ],
      "execution_count": null,
      "outputs": []
    },
    {
      "cell_type": "code",
      "metadata": {
        "id": "kz1SnPPLOLSV",
        "colab_type": "code",
        "colab": {}
      },
      "source": [
        "Review_Text = []\n",
        "Category_ID = []\n",
        "Summary = []\n",
        "Helpful = []\n",
        "Reviewer_ID = []\n",
        "Review_Hash = []\n",
        "Review_Time = []\n",
        "\n",
        "for l in readFile(\"/content/drive/My Drive/Colab Notebooks/train.json\"):\n",
        "    a = l['reviewText']\n",
        "    b = l['categoryID']\n",
        "    c = l['summary']\n",
        "    d = l['helpful']\n",
        "    e = l['reviewerID']\n",
        "    f = l['reviewHash']\n",
        "    g = l['unixReviewTime']\n",
        "    Review_Text.append(a)\n",
        "    Category_ID.append(b)\n",
        "    Summary.append(c)\n",
        "    Helpful.append(d)\n",
        "    Reviewer_ID.append(e)\n",
        "    Review_Hash.append(f)\n",
        "    Review_Time.append(g)"
      ],
      "execution_count": null,
      "outputs": []
    },
    {
      "cell_type": "code",
      "metadata": {
        "id": "mnR0h3_eOXYM",
        "colab_type": "code",
        "colab": {
          "base_uri": "https://localhost:8080/",
          "height": 204
        },
        "outputId": "669a5ae6-528d-4d1f-e752-490ff5671474"
      },
      "source": [
        "df = pd.DataFrame({'Review_Text': Review_Text, 'Summary': Summary, 'Reviewer_ID': Reviewer_ID, 'Helpful': Helpful, 'Review_Hash': Review_Hash,'Review_Time':Review_Time, 'Category_ID': Category_ID})\n",
        "df.head()"
      ],
      "execution_count": null,
      "outputs": [
        {
          "output_type": "execute_result",
          "data": {
            "text/html": [
              "<div>\n",
              "<style scoped>\n",
              "    .dataframe tbody tr th:only-of-type {\n",
              "        vertical-align: middle;\n",
              "    }\n",
              "\n",
              "    .dataframe tbody tr th {\n",
              "        vertical-align: top;\n",
              "    }\n",
              "\n",
              "    .dataframe thead th {\n",
              "        text-align: right;\n",
              "    }\n",
              "</style>\n",
              "<table border=\"1\" class=\"dataframe\">\n",
              "  <thead>\n",
              "    <tr style=\"text-align: right;\">\n",
              "      <th></th>\n",
              "      <th>Review_Text</th>\n",
              "      <th>Summary</th>\n",
              "      <th>Reviewer_ID</th>\n",
              "      <th>Helpful</th>\n",
              "      <th>Review_Hash</th>\n",
              "      <th>Review_Time</th>\n",
              "      <th>Category_ID</th>\n",
              "    </tr>\n",
              "  </thead>\n",
              "  <tbody>\n",
              "    <tr>\n",
              "      <th>0</th>\n",
              "      <td>The model in this picture has them rolled up a...</td>\n",
              "      <td>High Waisted</td>\n",
              "      <td>U490934656</td>\n",
              "      <td>{'nHelpful': 0, 'outOf': 0}</td>\n",
              "      <td>R798569390</td>\n",
              "      <td>1380153600</td>\n",
              "      <td>0</td>\n",
              "    </tr>\n",
              "    <tr>\n",
              "      <th>1</th>\n",
              "      <td>I love the look of this bra, it is what I want...</td>\n",
              "      <td>Beautiful but size runs small</td>\n",
              "      <td>U714157797</td>\n",
              "      <td>{'nHelpful': 0, 'outOf': 0}</td>\n",
              "      <td>R436443063</td>\n",
              "      <td>1360195200</td>\n",
              "      <td>0</td>\n",
              "    </tr>\n",
              "    <tr>\n",
              "      <th>2</th>\n",
              "      <td>I am not comfortable with wearing my wedding b...</td>\n",
              "      <td>Great Alternative for Nurses</td>\n",
              "      <td>U507366950</td>\n",
              "      <td>{'nHelpful': 0, 'outOf': 0}</td>\n",
              "      <td>R103439446</td>\n",
              "      <td>1394928000</td>\n",
              "      <td>0</td>\n",
              "    </tr>\n",
              "    <tr>\n",
              "      <th>3</th>\n",
              "      <td>Like the look of this top and really looks cut...</td>\n",
              "      <td>One size fits all...Questionable</td>\n",
              "      <td>U307862152</td>\n",
              "      <td>{'nHelpful': 0, 'outOf': 0}</td>\n",
              "      <td>R486351639</td>\n",
              "      <td>1394409600</td>\n",
              "      <td>0</td>\n",
              "    </tr>\n",
              "    <tr>\n",
              "      <th>4</th>\n",
              "      <td>I'm quite small and the XS fits me like a regu...</td>\n",
              "      <td>Great shirt</td>\n",
              "      <td>U742726598</td>\n",
              "      <td>{'nHelpful': 1, 'outOf': 1}</td>\n",
              "      <td>R508664275</td>\n",
              "      <td>1375142400</td>\n",
              "      <td>0</td>\n",
              "    </tr>\n",
              "  </tbody>\n",
              "</table>\n",
              "</div>"
            ],
            "text/plain": [
              "                                         Review_Text  ... Category_ID\n",
              "0  The model in this picture has them rolled up a...  ...           0\n",
              "1  I love the look of this bra, it is what I want...  ...           0\n",
              "2  I am not comfortable with wearing my wedding b...  ...           0\n",
              "3  Like the look of this top and really looks cut...  ...           0\n",
              "4  I'm quite small and the XS fits me like a regu...  ...           0\n",
              "\n",
              "[5 rows x 7 columns]"
            ]
          },
          "metadata": {
            "tags": []
          },
          "execution_count": 8
        }
      ]
    },
    {
      "cell_type": "code",
      "metadata": {
        "id": "LoTtlN11UIo1",
        "colab_type": "code",
        "colab": {}
      },
      "source": [
        "df['Helpful'] = df['Helpful'].astype('str')\n",
        "df['Helpful'] = df['Helpful'].str.replace(\"{\",\"\")\n",
        "df['Helpful'] = df['Helpful'].str.replace(\"}\",\"\")\n",
        "df['Helpful'] = df['Helpful'].str.replace(\"'\",\"\")\n",
        "df['Helpful'] = df['Helpful'].str.replace(\":\",\"\")\n",
        "df['Helpful'] = df['Helpful'].str.replace(\" \",\"\")"
      ],
      "execution_count": null,
      "outputs": []
    },
    {
      "cell_type": "code",
      "metadata": {
        "id": "aKCkB4Hg5wwI",
        "colab_type": "code",
        "colab": {
          "base_uri": "https://localhost:8080/",
          "height": 51
        },
        "outputId": "5329230b-6cb9-4df9-b6ef-1bbd2233ab9a"
      },
      "source": [
        "df['Helpful'], df['Outof'] = df['Helpful'].str.split(',', 1).str"
      ],
      "execution_count": null,
      "outputs": [
        {
          "output_type": "stream",
          "text": [
            "/usr/local/lib/python3.6/dist-packages/ipykernel_launcher.py:1: FutureWarning: Columnar iteration over characters will be deprecated in future releases.\n",
            "  \"\"\"Entry point for launching an IPython kernel.\n"
          ],
          "name": "stderr"
        }
      ]
    },
    {
      "cell_type": "code",
      "metadata": {
        "id": "RhlDnQZV6T-l",
        "colab_type": "code",
        "colab": {
          "base_uri": "https://localhost:8080/",
          "height": 204
        },
        "outputId": "5e409273-1ab1-41d6-a172-b371d87eade4"
      },
      "source": [
        "df.head()"
      ],
      "execution_count": null,
      "outputs": [
        {
          "output_type": "execute_result",
          "data": {
            "text/html": [
              "<div>\n",
              "<style scoped>\n",
              "    .dataframe tbody tr th:only-of-type {\n",
              "        vertical-align: middle;\n",
              "    }\n",
              "\n",
              "    .dataframe tbody tr th {\n",
              "        vertical-align: top;\n",
              "    }\n",
              "\n",
              "    .dataframe thead th {\n",
              "        text-align: right;\n",
              "    }\n",
              "</style>\n",
              "<table border=\"1\" class=\"dataframe\">\n",
              "  <thead>\n",
              "    <tr style=\"text-align: right;\">\n",
              "      <th></th>\n",
              "      <th>Review_Text</th>\n",
              "      <th>Summary</th>\n",
              "      <th>Reviewer_ID</th>\n",
              "      <th>Helpful</th>\n",
              "      <th>Review_Hash</th>\n",
              "      <th>Review_Time</th>\n",
              "      <th>Category_ID</th>\n",
              "      <th>Full_Text</th>\n",
              "    </tr>\n",
              "  </thead>\n",
              "  <tbody>\n",
              "    <tr>\n",
              "      <th>0</th>\n",
              "      <td>The model in this picture has them rolled up a...</td>\n",
              "      <td>High Waisted</td>\n",
              "      <td>U490934656</td>\n",
              "      <td>{'nHelpful': 0, 'outOf': 0}</td>\n",
              "      <td>R798569390</td>\n",
              "      <td>1380153600</td>\n",
              "      <td>0</td>\n",
              "      <td>[the, model, in, this, picture, has, them, rol...</td>\n",
              "    </tr>\n",
              "    <tr>\n",
              "      <th>1</th>\n",
              "      <td>I love the look of this bra, it is what I want...</td>\n",
              "      <td>Beautiful but size runs small</td>\n",
              "      <td>U714157797</td>\n",
              "      <td>{'nHelpful': 0, 'outOf': 0}</td>\n",
              "      <td>R436443063</td>\n",
              "      <td>1360195200</td>\n",
              "      <td>0</td>\n",
              "      <td>[i, love, the, look, of, this, bra,, it, is, w...</td>\n",
              "    </tr>\n",
              "    <tr>\n",
              "      <th>2</th>\n",
              "      <td>I am not comfortable with wearing my wedding b...</td>\n",
              "      <td>Great Alternative for Nurses</td>\n",
              "      <td>U507366950</td>\n",
              "      <td>{'nHelpful': 0, 'outOf': 0}</td>\n",
              "      <td>R103439446</td>\n",
              "      <td>1394928000</td>\n",
              "      <td>0</td>\n",
              "      <td>[i, am, not, comfortable, with, wearing, my, w...</td>\n",
              "    </tr>\n",
              "    <tr>\n",
              "      <th>3</th>\n",
              "      <td>Like the look of this top and really looks cut...</td>\n",
              "      <td>One size fits all...Questionable</td>\n",
              "      <td>U307862152</td>\n",
              "      <td>{'nHelpful': 0, 'outOf': 0}</td>\n",
              "      <td>R486351639</td>\n",
              "      <td>1394409600</td>\n",
              "      <td>0</td>\n",
              "      <td>[like, the, look, of, this, top, and, really, ...</td>\n",
              "    </tr>\n",
              "    <tr>\n",
              "      <th>4</th>\n",
              "      <td>I'm quite small and the XS fits me like a regu...</td>\n",
              "      <td>Great shirt</td>\n",
              "      <td>U742726598</td>\n",
              "      <td>{'nHelpful': 1, 'outOf': 1}</td>\n",
              "      <td>R508664275</td>\n",
              "      <td>1375142400</td>\n",
              "      <td>0</td>\n",
              "      <td>[i'm, quite, small, and, the, xs, fits, me, li...</td>\n",
              "    </tr>\n",
              "  </tbody>\n",
              "</table>\n",
              "</div>"
            ],
            "text/plain": [
              "                                         Review_Text  ...                                          Full_Text\n",
              "0  The model in this picture has them rolled up a...  ...  [the, model, in, this, picture, has, them, rol...\n",
              "1  I love the look of this bra, it is what I want...  ...  [i, love, the, look, of, this, bra,, it, is, w...\n",
              "2  I am not comfortable with wearing my wedding b...  ...  [i, am, not, comfortable, with, wearing, my, w...\n",
              "3  Like the look of this top and really looks cut...  ...  [like, the, look, of, this, top, and, really, ...\n",
              "4  I'm quite small and the XS fits me like a regu...  ...  [i'm, quite, small, and, the, xs, fits, me, li...\n",
              "\n",
              "[5 rows x 8 columns]"
            ]
          },
          "metadata": {
            "tags": []
          },
          "execution_count": 28
        }
      ]
    },
    {
      "cell_type": "code",
      "metadata": {
        "id": "czcOoy22lKS0",
        "colab_type": "code",
        "colab": {}
      },
      "source": [
        "def flatten(TheList):\n",
        "    listIsNested = True\n",
        "\n",
        "    while listIsNested:                 #outer loop\n",
        "        keepChecking = False\n",
        "        Temp = []\n",
        "\n",
        "        for element in TheList:         #inner loop\n",
        "            if isinstance(element,list):\n",
        "                Temp.extend(element)\n",
        "                keepChecking = True\n",
        "            else:\n",
        "                Temp.append(element)\n",
        "\n",
        "        listIsNested = keepChecking     #determine if outer loop exits\n",
        "        TheList = Temp[:]\n",
        "\n",
        "    return TheList"
      ],
      "execution_count": null,
      "outputs": []
    },
    {
      "cell_type": "code",
      "metadata": {
        "id": "oEI6306Hjldb",
        "colab_type": "code",
        "colab": {}
      },
      "source": [
        "# A = []\n",
        "\n",
        "# for i in df['Helpful']:\n",
        "#   a = flatten(i)\n",
        "#   A.append(a)"
      ],
      "execution_count": null,
      "outputs": []
    },
    {
      "cell_type": "code",
      "metadata": {
        "id": "dxWfXIp3rCSZ",
        "colab_type": "code",
        "colab": {}
      },
      "source": [
        "# df['Helpful'] = A"
      ],
      "execution_count": null,
      "outputs": []
    },
    {
      "cell_type": "code",
      "metadata": {
        "id": "sR4aXijMoWBV",
        "colab_type": "code",
        "colab": {}
      },
      "source": [
        "# df['Helpful'] = df['Helpful'].apply(lambda x: \",\".join(x) if isinstance(x, list) else x)"
      ],
      "execution_count": null,
      "outputs": []
    },
    {
      "cell_type": "code",
      "metadata": {
        "id": "6aT_g0VQPBRC",
        "colab_type": "code",
        "colab": {}
      },
      "source": [
        "from mxnet import autograd, gluon, np, npx, init\n",
        "from mxnet.gluon import nn, rnn\n",
        "from mxnet.contrib import text\n",
        "import re\n",
        "from sklearn.model_selection import train_test_split\n",
        "npx.set_np()"
      ],
      "execution_count": null,
      "outputs": []
    },
    {
      "cell_type": "code",
      "metadata": {
        "id": "TkQa4OENOur9",
        "colab_type": "code",
        "colab": {}
      },
      "source": [
        "df['Review_Time'] = df['Review_Time'].astype('str')\n",
        "# df['Rating'] = df['Rating'].astype('int')\n",
        "# df['Rating'] = df['Rating'].astype('str')\n",
        "# df['Helpful'] = df['Helpful'].astype('str')"
      ],
      "execution_count": null,
      "outputs": []
    },
    {
      "cell_type": "code",
      "metadata": {
        "id": "WZ14BLjgyRKt",
        "colab_type": "code",
        "colab": {
          "base_uri": "https://localhost:8080/",
          "height": 204
        },
        "outputId": "486214db-c05f-45a6-9b12-469de7a32d86"
      },
      "source": [
        "df['Full_Text'] = df[['Review_Text','Summary', 'Reviewer_ID', 'Review_Time']].agg(' '.join, axis = 1)\n",
        "df['Full_Text'] = df['Full_Text'].astype(\"string\")\n",
        "df.head()"
      ],
      "execution_count": null,
      "outputs": [
        {
          "output_type": "execute_result",
          "data": {
            "text/html": [
              "<div>\n",
              "<style scoped>\n",
              "    .dataframe tbody tr th:only-of-type {\n",
              "        vertical-align: middle;\n",
              "    }\n",
              "\n",
              "    .dataframe tbody tr th {\n",
              "        vertical-align: top;\n",
              "    }\n",
              "\n",
              "    .dataframe thead th {\n",
              "        text-align: right;\n",
              "    }\n",
              "</style>\n",
              "<table border=\"1\" class=\"dataframe\">\n",
              "  <thead>\n",
              "    <tr style=\"text-align: right;\">\n",
              "      <th></th>\n",
              "      <th>Review_Text</th>\n",
              "      <th>Summary</th>\n",
              "      <th>Reviewer_ID</th>\n",
              "      <th>Helpful</th>\n",
              "      <th>Review_Hash</th>\n",
              "      <th>Review_Time</th>\n",
              "      <th>Category_ID</th>\n",
              "      <th>Full_Text</th>\n",
              "    </tr>\n",
              "  </thead>\n",
              "  <tbody>\n",
              "    <tr>\n",
              "      <th>0</th>\n",
              "      <td>The model in this picture has them rolled up a...</td>\n",
              "      <td>High Waisted</td>\n",
              "      <td>U490934656</td>\n",
              "      <td>{'nHelpful': 0, 'outOf': 0}</td>\n",
              "      <td>R798569390</td>\n",
              "      <td>1380153600</td>\n",
              "      <td>0</td>\n",
              "      <td>The model in this picture has them rolled up a...</td>\n",
              "    </tr>\n",
              "    <tr>\n",
              "      <th>1</th>\n",
              "      <td>I love the look of this bra, it is what I want...</td>\n",
              "      <td>Beautiful but size runs small</td>\n",
              "      <td>U714157797</td>\n",
              "      <td>{'nHelpful': 0, 'outOf': 0}</td>\n",
              "      <td>R436443063</td>\n",
              "      <td>1360195200</td>\n",
              "      <td>0</td>\n",
              "      <td>I love the look of this bra, it is what I want...</td>\n",
              "    </tr>\n",
              "    <tr>\n",
              "      <th>2</th>\n",
              "      <td>I am not comfortable with wearing my wedding b...</td>\n",
              "      <td>Great Alternative for Nurses</td>\n",
              "      <td>U507366950</td>\n",
              "      <td>{'nHelpful': 0, 'outOf': 0}</td>\n",
              "      <td>R103439446</td>\n",
              "      <td>1394928000</td>\n",
              "      <td>0</td>\n",
              "      <td>I am not comfortable with wearing my wedding b...</td>\n",
              "    </tr>\n",
              "    <tr>\n",
              "      <th>3</th>\n",
              "      <td>Like the look of this top and really looks cut...</td>\n",
              "      <td>One size fits all...Questionable</td>\n",
              "      <td>U307862152</td>\n",
              "      <td>{'nHelpful': 0, 'outOf': 0}</td>\n",
              "      <td>R486351639</td>\n",
              "      <td>1394409600</td>\n",
              "      <td>0</td>\n",
              "      <td>Like the look of this top and really looks cut...</td>\n",
              "    </tr>\n",
              "    <tr>\n",
              "      <th>4</th>\n",
              "      <td>I'm quite small and the XS fits me like a regu...</td>\n",
              "      <td>Great shirt</td>\n",
              "      <td>U742726598</td>\n",
              "      <td>{'nHelpful': 1, 'outOf': 1}</td>\n",
              "      <td>R508664275</td>\n",
              "      <td>1375142400</td>\n",
              "      <td>0</td>\n",
              "      <td>I'm quite small and the XS fits me like a regu...</td>\n",
              "    </tr>\n",
              "  </tbody>\n",
              "</table>\n",
              "</div>"
            ],
            "text/plain": [
              "                                         Review_Text  ...                                          Full_Text\n",
              "0  The model in this picture has them rolled up a...  ...  The model in this picture has them rolled up a...\n",
              "1  I love the look of this bra, it is what I want...  ...  I love the look of this bra, it is what I want...\n",
              "2  I am not comfortable with wearing my wedding b...  ...  I am not comfortable with wearing my wedding b...\n",
              "3  Like the look of this top and really looks cut...  ...  Like the look of this top and really looks cut...\n",
              "4  I'm quite small and the XS fits me like a regu...  ...  I'm quite small and the XS fits me like a regu...\n",
              "\n",
              "[5 rows x 8 columns]"
            ]
          },
          "metadata": {
            "tags": []
          },
          "execution_count": 11
        }
      ]
    },
    {
      "cell_type": "code",
      "metadata": {
        "id": "tcxWSzSFPDyS",
        "colab_type": "code",
        "colab": {}
      },
      "source": [
        "df['Full_Text'] = df['Full_Text'].str.lower()"
      ],
      "execution_count": null,
      "outputs": []
    },
    {
      "cell_type": "code",
      "metadata": {
        "id": "adH2wHzZPGAc",
        "colab_type": "code",
        "colab": {}
      },
      "source": [
        "# Removing Special Characters\n",
        "df['Full_Text'] = df['Full_Text'].str.replace(r'[^a-zA-z0-9\\s]',\"\")"
      ],
      "execution_count": null,
      "outputs": []
    },
    {
      "cell_type": "code",
      "metadata": {
        "id": "YNlFJizcPI4I",
        "colab_type": "code",
        "colab": {}
      },
      "source": [
        "def tokenize(lines, token='word'): \n",
        "    \"\"\"Split sentences into word or char tokens.\"\"\"\n",
        "    if token == 'word':\n",
        "        return [line.split(' ') for line in lines]\n",
        "    elif token == 'char':\n",
        "        return [list(line) for line in lines]\n",
        "    else:\n",
        "        print('ERROR: unknown token type '+token)"
      ],
      "execution_count": null,
      "outputs": []
    },
    {
      "cell_type": "code",
      "metadata": {
        "id": "oJazVm2EPYm4",
        "colab_type": "code",
        "colab": {}
      },
      "source": [
        "df['Full_Text'] = tokenize(df['Full_Text'], token = 'word')"
      ],
      "execution_count": null,
      "outputs": []
    },
    {
      "cell_type": "code",
      "metadata": {
        "id": "e0-lJdFFPb6k",
        "colab_type": "code",
        "colab": {
          "base_uri": "https://localhost:8080/",
          "height": 88
        },
        "outputId": "48921fcc-a3a8-486b-f6d4-c094d4bfd2c3"
      },
      "source": [
        "import nltk\n",
        "from nltk.corpus import stopwords\n",
        "nltk.download('stopwords')\n",
        "stop = stopwords.words('english')\n",
        "stop.append('i\\'m')\n",
        "stop.append('c')\n",
        "stop.append('i\\'ve')\n",
        "stop.append('really')\n",
        "stop.append('also')\n",
        "stop.append('im')\n",
        "stop.append('and')\n",
        "print(stop)"
      ],
      "execution_count": null,
      "outputs": [
        {
          "output_type": "stream",
          "text": [
            "[nltk_data] Downloading package stopwords to /root/nltk_data...\n",
            "[nltk_data]   Package stopwords is already up-to-date!\n",
            "['i', 'me', 'my', 'myself', 'we', 'our', 'ours', 'ourselves', 'you', \"you're\", \"you've\", \"you'll\", \"you'd\", 'your', 'yours', 'yourself', 'yourselves', 'he', 'him', 'his', 'himself', 'she', \"she's\", 'her', 'hers', 'herself', 'it', \"it's\", 'its', 'itself', 'they', 'them', 'their', 'theirs', 'themselves', 'what', 'which', 'who', 'whom', 'this', 'that', \"that'll\", 'these', 'those', 'am', 'is', 'are', 'was', 'were', 'be', 'been', 'being', 'have', 'has', 'had', 'having', 'do', 'does', 'did', 'doing', 'a', 'an', 'the', 'and', 'but', 'if', 'or', 'because', 'as', 'until', 'while', 'of', 'at', 'by', 'for', 'with', 'about', 'against', 'between', 'into', 'through', 'during', 'before', 'after', 'above', 'below', 'to', 'from', 'up', 'down', 'in', 'out', 'on', 'off', 'over', 'under', 'again', 'further', 'then', 'once', 'here', 'there', 'when', 'where', 'why', 'how', 'all', 'any', 'both', 'each', 'few', 'more', 'most', 'other', 'some', 'such', 'no', 'nor', 'not', 'only', 'own', 'same', 'so', 'than', 'too', 'very', 's', 't', 'can', 'will', 'just', 'don', \"don't\", 'should', \"should've\", 'now', 'd', 'll', 'm', 'o', 're', 've', 'y', 'ain', 'aren', \"aren't\", 'couldn', \"couldn't\", 'didn', \"didn't\", 'doesn', \"doesn't\", 'hadn', \"hadn't\", 'hasn', \"hasn't\", 'haven', \"haven't\", 'isn', \"isn't\", 'ma', 'mightn', \"mightn't\", 'mustn', \"mustn't\", 'needn', \"needn't\", 'shan', \"shan't\", 'shouldn', \"shouldn't\", 'wasn', \"wasn't\", 'weren', \"weren't\", 'won', \"won't\", 'wouldn', \"wouldn't\", \"i'm\", 'c', \"i've\", 'really', 'also', 'im', 'and']\n"
          ],
          "name": "stdout"
        }
      ]
    },
    {
      "cell_type": "code",
      "metadata": {
        "id": "w4BXJBcyPlKe",
        "colab_type": "code",
        "colab": {}
      },
      "source": [
        "# Removing stopwords from text\n",
        "df['Full_Text'] = df['Full_Text'].apply(lambda x: [item for item in x if item not in stop])"
      ],
      "execution_count": null,
      "outputs": []
    },
    {
      "cell_type": "code",
      "metadata": {
        "id": "yjR-xggZFLjv",
        "colab_type": "code",
        "colab": {
          "base_uri": "https://localhost:8080/",
          "height": 51
        },
        "outputId": "421eb90d-a62f-471e-eb57-ce84fb6fbcc3"
      },
      "source": [
        "from nltk.stem import PorterStemmer\n",
        "from nltk.stem.wordnet import WordNetLemmatizer\n",
        "nltk.download('wordnet')\n",
        "ps = PorterStemmer()\n",
        "lmtzr = WordNetLemmatizer()\n",
        "df['Full_Text'] = df['Full_Text'].apply(lambda x : [ps.stem(y) for y in x])\n",
        "df['Full_Text'] = df['Full_Text'].apply(lambda x : [lmtzr.lemmatize(y) for y in x])"
      ],
      "execution_count": null,
      "outputs": [
        {
          "output_type": "stream",
          "text": [
            "[nltk_data] Downloading package wordnet to /root/nltk_data...\n",
            "[nltk_data]   Package wordnet is already up-to-date!\n"
          ],
          "name": "stdout"
        }
      ]
    },
    {
      "cell_type": "code",
      "metadata": {
        "id": "irO4lwrFPriW",
        "colab_type": "code",
        "colab": {}
      },
      "source": [
        "# Removing empty token from text\n",
        "df['Full_Text'] = df['Full_Text'].apply(lambda x: [item for item in x if item != ''])"
      ],
      "execution_count": null,
      "outputs": []
    },
    {
      "cell_type": "code",
      "metadata": {
        "id": "pCofSYRauaEH",
        "colab_type": "code",
        "colab": {
          "base_uri": "https://localhost:8080/",
          "height": 969
        },
        "outputId": "613aef55-d16e-482b-94a7-d3ad6ee1e1d1"
      },
      "source": [
        "df['Full_Text'][0]"
      ],
      "execution_count": null,
      "outputs": [
        {
          "output_type": "execute_result",
          "data": {
            "text/plain": [
              "['the',\n",
              " 'model',\n",
              " 'in',\n",
              " 'this',\n",
              " 'picture',\n",
              " 'has',\n",
              " 'them',\n",
              " 'rolled',\n",
              " 'up',\n",
              " 'at',\n",
              " 'the',\n",
              " 'top',\n",
              " 'because',\n",
              " 'they',\n",
              " 'are',\n",
              " 'actually',\n",
              " 'very',\n",
              " 'high',\n",
              " 'waisted!',\n",
              " \"that's\",\n",
              " 'my',\n",
              " 'only',\n",
              " 'complaint',\n",
              " 'though,',\n",
              " 'because',\n",
              " 'they',\n",
              " 'are',\n",
              " 'very',\n",
              " 'good',\n",
              " 'quality,',\n",
              " 'and',\n",
              " 'fit',\n",
              " 'really',\n",
              " 'well!',\n",
              " 'i',\n",
              " 'am',\n",
              " \"5'2&#34;\",\n",
              " '120lbs',\n",
              " 'with',\n",
              " 'thick',\n",
              " 'thighs',\n",
              " 'and',\n",
              " 'i',\n",
              " 'love',\n",
              " 'them',\n",
              " 'i',\n",
              " \"can't\",\n",
              " 'wait',\n",
              " 'to',\n",
              " 'wear',\n",
              " 'them',\n",
              " 'out!',\n",
              " 'high',\n",
              " 'waisted',\n",
              " 'u490934656',\n",
              " '1380153600']"
            ]
          },
          "metadata": {
            "tags": []
          },
          "execution_count": 15
        }
      ]
    },
    {
      "cell_type": "code",
      "metadata": {
        "id": "6w6erVpbXWFE",
        "colab_type": "code",
        "colab": {}
      },
      "source": [
        "df['Category_ID'] = df['Category_ID'].astype('category')"
      ],
      "execution_count": null,
      "outputs": []
    },
    {
      "cell_type": "code",
      "metadata": {
        "id": "A8EAgeYDXY5I",
        "colab_type": "code",
        "colab": {
          "base_uri": "https://localhost:8080/",
          "height": 119
        },
        "outputId": "0228c1ec-fc12-41cc-851b-d66b82078ef5"
      },
      "source": [
        "pd.value_counts(df['Category_ID'])"
      ],
      "execution_count": null,
      "outputs": [
        {
          "output_type": "execute_result",
          "data": {
            "text/plain": [
              "0    141398\n",
              "1     51416\n",
              "4      2976\n",
              "2      2329\n",
              "3      1881\n",
              "Name: Category_ID, dtype: int64"
            ]
          },
          "metadata": {
            "tags": []
          },
          "execution_count": 17
        }
      ]
    },
    {
      "cell_type": "code",
      "metadata": {
        "id": "xhxgozLwXbRo",
        "colab_type": "code",
        "colab": {
          "base_uri": "https://localhost:8080/",
          "height": 54
        },
        "outputId": "7dc46ef8-5bb5-401c-db7f-3779803df8f0"
      },
      "source": [
        "# Coverting to numerial values using Vocab\n",
        "\n",
        "vocab = d2l.Vocab(df['Full_Text'], min_freq=2, reserved_tokens=['<pad>'])\n",
        "\n",
        "print(list(vocab.token_to_idx.items())[0:10000])"
      ],
      "execution_count": null,
      "outputs": [
        {
          "output_type": "stream",
          "text": [
            "[('<unk>', 0), ('<pad>', 1), ('the', 2), ('i', 3), ('and', 4), ('a', 5), ('', 6), ('to', 7), ('it', 8), ('is', 9), ('for', 10), ('of', 11), ('this', 12), ('my', 13), ('they', 14), ('in', 15), ('are', 16), ('but', 17), ('these', 18), ('not', 19), ('that', 20), ('have', 21), ('very', 22), ('on', 23), ('with', 24), ('so', 25), ('was', 26), ('as', 27), ('them', 28), ('like', 29), ('you', 30), ('great', 31), ('love', 32), ('fit', 33), ('be', 34), ('wear', 35), ('size', 36), ('just', 37), ('good', 38), ('would', 39), ('or', 40), ('will', 41), ('nice', 42), ('if', 43), ('too', 44), ('at', 45), ('than', 46), ('really', 47), ('more', 48), ('one', 49), (\"it's\", 50), ('comfortable', 51), ('when', 52), ('little', 53), ('all', 54), ('am', 55), ('bought', 56), ('had', 57), ('look', 58), ('up', 59), ('shoes', 60), ('me', 61), ('can', 62), ('because', 63), ('get', 64), ('well', 65), (\"i'm\", 66), ('were', 67), ('from', 68), (\"don't\", 69), ('out', 70), ('ordered', 71), ('what', 72), ('an', 73), ('other', 74), ('no', 75), ('pair', 76), ('about', 77), ('your', 78), ('do', 79), ('has', 80), ('looks', 81), ('only', 82), ('fits', 83), ('quality', 84), ('got', 85), ('buy', 86), ('shoe', 87), ('perfect', 88), ('color', 89), ('it.', 90), ('-', 91), ('bit', 92), ('which', 93), ('small', 94), ('much', 95), ('even', 96), ('some', 97), ('also', 98), ('after', 99), ('still', 100), ('cute', 101), ('them.', 102), ('made', 103), ('wearing', 104), ('long', 105), ('price', 106), ('pretty', 107), ('looking', 108), ('time', 109), ('watch', 110), ('she', 111), ('recommend', 112), ('feel', 113), ('he', 114), ('bra', 115), ('feet', 116), ('go', 117), (\"i've\", 118), ('big', 119), ('been', 120), ('around', 121), ('work', 122), ('think', 123), ('order', 124), ('there', 125), ('any', 126), ('material', 127), ('back', 128), ('right', 129), ('shirt', 130), ('first', 131), ('enough', 132), ('dress', 133), ('way', 134), ('could', 135), ('its', 136), ('large', 137), ('did', 138), ('over', 139), ('how', 140), ('soft', 141), ('top', 142), ('another', 143), ('comfortable.', 144), ('most', 145), ('does', 146), ('find', 147), ('better', 148), ('socks', 149), (\"didn't\", 150), ('need', 151), ('make', 152), ('want', 153), ('by', 154), ('keep', 155), ('purchased', 156), ('use', 157), ('black', 158), ('happy', 159), ('off', 160), ('now', 161), ('put', 162), ('well.', 163), ('boots', 164), ('true', 165), ('two', 166), ('super', 167), ('since', 168), ('day', 169), (\"can't\", 170), ('beautiful', 171), ('&', 172), ('see', 173), ('going', 174), ('definitely', 175), ('pants', 176), ('worn', 177), ('different', 178), ('without', 179), ('many', 180), (\"doesn't\", 181), ('few', 182), ('run', 183), ('light', 184), ('lot', 185), ('always', 186), ('same', 187), ('tight', 188), ('then', 189), ('best', 190), (\"they're\", 191), ('loves', 192), ('size.', 193), ('foot', 194), ('fabric', 195), ('new', 196), ('me.', 197), ('under', 198), ('jeans', 199), ('know', 200), ('warm', 201), ('we', 202), ('colors', 203), ('her', 204), ('who', 205), ('down', 206), ('every', 207), ('easy', 208), ('style', 209), ('never', 210), ('something', 211), ('sure', 212), ('give', 213), ('high', 214), ('wanted', 215), ('thought', 216), ('while', 217), ('wide', 218), ('product', 219), ('being', 220), ('should', 221), ('last', 222), ('quite', 223), ('their', 224), ('great.', 225), ('makes', 226), ('say', 227), ('comfy', 228), ('usually', 229), ('came', 230), ('loved', 231), ('comfortable,', 232), ('price.', 233), ('into', 234), ('2', 235), ('found', 236), ('wore', 237), ('worth', 238), ('support', 239), ('actually', 240), ('larger', 241), ('ring', 242), ('may', 243), ('smaller', 244), ('wish', 245), ('hard', 246), ('shoes.', 247), ('used', 248), ('leather', 249), ('thin', 250), ('husband', 251), ('gift', 252), ('take', 253), ('probably', 254), ('tried', 255), ('cheap', 256), ('amazon', 257), ('seems', 258), ('though', 259), ('it,', 260), ('walking', 261), ('where', 262), ('reviews', 263), ('received', 264), ('fit.', 265), ('buying', 266), ('purchase', 267), ('before', 268), ('band', 269), ('expected', 270), ('almost', 271), ('exactly', 272), ('old', 273), ('length', 274), ('through', 275), ('short', 276), ('however,', 277), ('seem', 278), ('several', 279), ('years', 280), ('medium', 281), ('ever', 282), ('thing', 283), ('waist', 284), ('try', 285), ('might', 286), ('both', 287), ('toe', 288), ('return', 289), ('small.', 290), ('come', 291), ('time.', 292), ('5', 293), ('looked', 294), ('getting', 295), ('highly', 296), ('his', 297), ('feels', 298), ('excellent', 299), ('those', 300), ('white', 301), ('running', 302), ('well,', 303), ('it!', 304), ('belt', 305), ('runs', 306), ('weight', 307), ('heel', 308), ('3', 309), ('cut', 310), (\"i'd\", 311), (\"that's\", 312), ('perfect.', 313), ('them,', 314), ('these.', 315), ('far', 316), ('needed', 317), ('problem', 318), ('wash', 319), ('sizing', 320), ('year', 321), ('half', 322), ('arrived', 323), ('too.', 324), ('comfort', 325), ('daughter', 326), ('extra', 327), ('brand', 328), ('thick', 329), ('earrings', 330), ('liked', 331), ('walk', 332), ('hold', 333), ('picture', 334), ('size,', 335), ('normally', 336), (\"i'll\", 337), ('said', 338), ('bad', 339), ('8', 340), ('boot', 341), ('favorite', 342), ('4', 343), ('kind', 344), ('second', 345), ('stars', 346), ('ones', 347), ('wear.', 348), ('shoe.', 349), ('casual', 350), ('wears', 351), ('on.', 352), ('bag', 353), ('maybe', 354), (\"won't\", 355), ('straps', 356), ('summer', 357), ('again.', 358), ('again', 359), ('compliments', 360), ('gave', 361), ('absolutely', 362), ('pairs', 363), ('real', 364), (\"you're\", 365), ('sandals', 366), ('inside', 367), ('fine', 368), ('bigger', 369), (\"isn't\", 370), ('front', 371), ('able', 372), ('.', 373), ('couple', 374), ('went', 375), ('took', 376), ('narrow', 377), ('extremely', 378), ('longer', 379), ('especially', 380), ('works', 381), ('sizes', 382), ('color.', 383), ('side', 384), ('good.', 385), ('item', 386), ('yet', 387), ('once', 388), ('glad', 389), ('people', 390), ('blue', 391), ('loose', 392), ('read', 393), ('stay', 394), ('up.', 395), ('perfectly', 396), ('perfectly.', 397), ('fit,', 398), ('heavy', 399), ('having', 400), ('slightly', 401), ('pleased', 402), ('cold', 403), ('ordering', 404), ('regular', 405), ('part', 406), ('quality.', 407), ('low', 408), ('shirts', 409), ('less', 410), ('shorts', 411), ('anything', 412), ('10', 413), ('me,', 414), (\"wasn't\", 415), ('design', 416), ('days', 417), ('stretch', 418), ('felt', 419), ('all.', 420), ('room', 421), ('great,', 422), ('strap', 423), ('ok', 424), ('out.', 425), ('6', 426), ('everything', 427), ('bottom', 428), ('shoes,', 429), ('expected.', 430), ('cotton', 431), ('decided', 432), ('next', 433), ('snug', 434), ('nothing', 435), ('feet.', 436), ('cool', 437), ('awesome', 438), ('such', 439), ('arch', 440), ('money', 441), ('bras', 442), ('nice.', 443), ('returned', 444), ('sole', 445), ('slip', 446), ('winter', 447), ('months', 448), ('three', 449), ('why', 450), ('son', 451), (\"wouldn't\", 452), ('1/2', 453), ('things', 454), ('jacket', 455), ('colors.', 456), ('price,', 457), ('times', 458), ('comes', 459), ('hat', 460), ('least', 461), ('silver', 462), ('set', 463), ('box', 464), ('expect', 465), ('disappointed', 466), ('already', 467), ('wife', 468), ('expensive', 469), ('(i', 470), ('although', 471), ('one.', 472), ('slippers', 473), ('easily', 474), ('goes', 475), ('day.', 476), ('here', 477), ('necklace', 478), ('washed', 479), ('7', 480), ('nice,', 481), ('however', 482), ('own', 483), (':)', 484), ('them!', 485), ('red', 486), ('anyone', 487), ('between', 488), ('shape', 489), ('overall', 490), ('quality,', 491), ('end', 492), ('sexy', 493), (\"haven't\", 494), (\"couldn't\", 495), ('normal', 496), ('chain', 497), ('small,', 498), ('wallet', 499), ('him', 500), ('someone', 501), ('says', 502), ('likes', 503), ('9', 504), ('toes', 505), ('plus', 506), ('must', 507), ('hot', 508), ('piece', 509), ('wrong', 510), ('great!', 511), ('legs', 512), ('show', 513), ('cute,', 514), ('gold', 515), ('full', 516), ('purchase.', 517), ('fine.', 518), (\"aren't\", 519), ('house', 520), ('keeps', 521), (\"women's\", 522), ('shipping', 523), ('lots', 524), ('our', 525), ('pay', 526), ('flip', 527), ('leggings', 528), ('others', 529), ('type', 530), ('nicely', 531), ('water', 532), ('hope', 533), ('dark', 534), ('skirt', 535), ('tell', 536), ('instead', 537), ('guess', 538), ('good,', 539), ('lovely', 540), ('shirt.', 541), ('rather', 542), ('trying', 543), ('dry', 544), ('bracelet', 545), ('picture.', 546), ('everyday', 547), ('away', 548), ('body', 549), ('fall', 550), ('pockets', 551), ('more.', 552), ('also,', 553), ('review', 554), ('due', 555), ('socks.', 556), ('sleeves', 557), ('each', 558), ('back.', 559), ('store', 560), ('wonderful', 561), ('in.', 562), ('color,', 563), ('watch.', 564), ('during', 565), (\"men's\", 566), ('off.', 567), ('soft,', 568), ('stylish', 569), ('big.', 570), ('cute.', 571), ('brown', 572), (',', 573), ('product.', 574), ('on,', 575), ('though.', 576), ('reason', 577), ('using', 578), ('until', 579), ('saw', 580), ('bra.', 581), ('mine', 582), ('fitting', 583), ('kept', 584), ('lightweight', 585), ('deal', 586), ('elastic', 587), ('made.', 588), ('area', 589), ('large.', 590), ('that.', 591), ('outside', 592), ('boots.', 593), ('work.', 594), ('for.', 595), ('thank', 596), ('sandal', 597), ('flat', 598), ('sturdy', 599), ('fun', 600), ('gotten', 601), ('warm.', 602), ('pair.', 603), ('pink', 604), ('--', 605), ('jeans.', 606), ('fact', 607), ('shoe,', 608), ('five', 609), ('sent', 610), ('plan', 611), ('tight.', 612), ('sports', 613), ('help', 614), ('face', 615), ('lace', 616), ('watches', 617), ('christmas', 618), ('support.', 619), ('hoping', 620), ('durable', 621), ('wait', 622), ('tall', 623), ('making', 624), ('bright', 625), ('cup', 626), ('pull', 627), ('surprised', 628), ('1', 629), ('xl', 630), ('time,', 631), ('cannot', 632), ('pants.', 633), ('huge', 634), ('somewhat', 635), ('value', 636), ('place', 637), ('either', 638), ('person', 639), ('break', 640), ('us', 641), ('believe', 642), ('simple', 643), ('fast', 644), ('sized', 645), ('purse', 646), ('width', 647), ('dress.', 648), ('finally', 649), ('myself', 650), ('right.', 651), ('similar', 652), ('plastic', 653), ('left', 654), ('material.', 655), ('seller', 656), ('uncomfortable', 657), ('case', 658), ('these,', 659), ('neck', 660), ('gives', 661), ('paid', 662), ('skinny', 663), ('that,', 664), ('gets', 665), ('let', 666), ('working', 667), ('add', 668), ('ankle', 669), ('this.', 670), ('decent', 671), ('you.', 672), ('issue', 673), ('cost', 674), ('started', 675), ('scarf', 676), ('clothes', 677), ('seemed', 678), ('amazing', 679), ('close', 680), ('quickly', 681), ('sweater', 682), ('foot.', 683), ('holds', 684), ('underwear', 685), ('okay', 686), ('long.', 687), ('sometimes', 688), ('hours', 689), ('prefer', 690), ('match', 691), ('totally', 692), ('flattering', 693), ('cute!', 694), ('so,', 695), ('live', 696), ('weather', 697), ('leg', 698), ('friend', 699), ('tiny', 700), ('hand', 701), ('women', 702), ('look.', 703), ('zipper', 704), ('much.', 705), ('crocs', 706), ('inch', 707), ('pocket', 708), ('problems', 709), ('washing', 710), ('cover', 711), ('solid', 712), ('unless', 713), ('job', 714), ('jewelry', 715), ('keeping', 716), ('across', 717), ('past', 718), ('perfect!', 719), ('plenty', 720), ('week', 721), ('company', 722), ('years.', 723), ('held', 724), ('needs', 725), ('change', 726), ('sock', 727), ('down.', 728), ('else', 729), ('head', 730), ('dont', 731), ('all,', 732), ('green', 733), ('better.', 734), ('worked', 735), ('skin', 736), ('warm,', 737), ('made,', 738), ('now.', 739), ('line', 740), ('12', 741), ('reading', 742), ('based', 743), ('style.', 744), ('difficult', 745), ('fairly', 746), ('send', 747), ('ended', 748), ('attractive', 749), ('thinking', 750), ('im', 751), ('often', 752), ('tank', 753), ('month', 754), ('weeks', 755), ('care', 756), ('large,', 757), ('tops', 758), ('smooth', 759), ('balance', 760), ('top.', 761), ('star', 762), ('...', 763), ('though,', 764), (\"there's\", 765), ('model', 766), ('money.', 767), ('seen', 768), ('four', 769), ('whole', 770), ('classic', 771), ('inches', 772), ('completely', 773), ('except', 774), ('otherwise', 775), ('but,', 776), ('night', 777), ('returning', 778), ('hands', 779), ('thicker', 780), ('tend', 781), ('usual', 782), ('feet,', 783), ('shoes!', 784), ('big,', 785), ('finding', 786), ('everyone', 787), ('online', 788), ('replace', 789), ('up,', 790), ('soft.', 791), ('baby', 792), ('stiff', 793), ('given', 794), ('amazon.', 795), ('giving', 796), ('noticed', 797), ('heels', 798), ('gorgeous', 799), ('above', 800), ('lower', 801), ('material,', 802), ('feeling', 803), ('free', 804), ('hate', 805), ('wider', 806), ('comfortable!', 807), ('expecting', 808), ('against', 809), ('comfy.', 810), ('price!', 811), ('beautiful.', 812), ('doing', 813), ('items', 814), ('purchasing', 815), ('open', 816), ('thanks', 817), ('knew', 818), ('clothing', 819), ('watch,', 820), ('shrink', 821), ('flops', 822), ('pretty.', 823), ('stand', 824), ('average', 825), ('complaint', 826), ('higher', 827), ('lost', 828), ('soles', 829), ('pendant', 830), ('carry', 831), ('tad', 832), ('bra,', 833), ('rubber', 834), ('arms', 835), ('stretchy', 836), ('beat', 837), ('chest', 838), ('daily', 839), ('shorter', 840), ('!', 841), ('hurt', 842), ('metal', 843), ('pain', 844), ('poor', 845), ('shirt,', 846), (\"you'll\", 847), ('reviewers', 848), ('tie', 849), ('slim', 850), ('(and', 851), ('simply', 852), ('mind', 853), ('amount', 854), ('expected,', 855), ('ago', 856), ('compared', 857), ('suit', 858), ('within', 859), ('below', 860), ('barely', 861), ('cups', 862), ('dresses', 863), ('girls', 864), ('ran', 865), ('socks,', 866), ('recommend.', 867), ('shoulder', 868), ('thin,', 869), ('hanes', 870), ('fan', 871), ('wrist', 872), ('provide', 873), ('itself', 874), ('out,', 875), ('buy.', 876), ('perfect,', 877), ('fell', 878), ('comfy,', 879), ('weird', 880), ('woman', 881), ('start', 882), ('wedding', 883), ('ring.', 884), ('long,', 885), ('coat', 886), ('again,', 887), ('issues', 888), ('soon', 889), ('wear,', 890), ('home', 891), ('knee', 892), ('holes', 893), ('these!', 894), ('etc.', 895), ('basic', 896), ('day,', 897), ('padding', 898), ('washes', 899), ('holding', 900), ('along', 901), ('glasses', 902), ('purple', 903), ('cause', 904), ('fantastic', 905), ('be.', 906), ('shows', 907), ('satisfied', 908), ('point', 909), ('supportive', 910), ('now,', 911), ('(which', 912), ('shiny', 913), ('gloves', 914), ('stitching', 915), ('ride', 916), ('brands', 917), ('coming', 918), ('hiking', 919), ('girl', 920), ('worried', 921), ('disappointed.', 922), ('in,', 923), ('said,', 924), ('sleeve', 925), ('sweat', 926), ('stays', 927), ('lighter', 928), ('strong', 929), ('supposed', 930), ('jeans,', 931), ('mom', 932), ('athletic', 933), ('owned', 934), ('tight,', 935), ('button', 936), ('lose', 937), ('original', 938), ('suggest', 939), ('lining', 940), ('grey', 941), ('pretty,', 942), ('gift.', 943), ('clarks', 944), ('stuff', 945), ('tights', 946), ('comfort.', 947), ('panties', 948), ('asics', 949), ('briefs', 950), ('problem.', 951), ('sneakers', 952), ('quick', 953), ('slide', 954), ('adorable', 955), ('enjoy', 956), ('sort', 957), ('summer.', 958), ('package', 959), ('certainly', 960), ('too!', 961), ('hang', 962), ('t-shirt', 963), ('means', 964), ('fitted', 965), ('adjust', 966), ('cheaper', 967), ('trip', 968), ('considering', 969), ('shown', 970), ('support,', 971), ('middle', 972), ('smell', 973), ('adjustable', 974), ('previous', 975), ('one,', 976), ('spend', 977), ('looking.', 978), ('photo', 979), ('use.', 980), ('hit', 981), ('11', 982), ('sterling', 983), ('appears', 984), ('figure', 985), ('this,', 986), ('thinner', 987), ('helps', 988), ('become', 989), ('clasp', 990), ('inexpensive', 991), ('height', 992), ('hips', 993), ('styles', 994), ('do.', 995), ('available', 996), ('products', 997), ('classy', 998), ('is.', 999), ('yoga', 1000), ('broke', 1001), ('particular', 1002), ('correct', 1003), ('boots,', 1004), ('apart', 1005), ('rain', 1006), ('impressed', 1007), ('beautiful,', 1008), ('truly', 1009), ('elegant', 1010), ('bust', 1011), ('overall,', 1012), ('wet', 1013), ('deep', 1014), ('picture,', 1015), ('stones', 1016), ('done', 1017), ('nicely.', 1018), ('either.', 1019), ('style,', 1020), ('100%', 1021), ('forward', 1022), ('notice', 1023), ('sides', 1024), ('move', 1025), ('putting', 1026), ('recommended', 1027), ('fabric.', 1028), ('kinda', 1029), ('length.', 1030), ('excited', 1031), ('lot.', 1032), ('rings', 1033), ('idea', 1034), ('navy', 1035), ('box.', 1036), ('version', 1037), ('short.', 1038), ('black.', 1039), ('description', 1040), ('sun', 1041), ('waist.', 1042), ('waste', 1043), ('sunglasses', 1044), ('straight', 1045), ('robe', 1046), ('shipped', 1047), ('8.5', 1048), ('roomy', 1049), ('work,', 1050), ('cheap.', 1051), ('consider', 1052), ('together', 1053), ('dressy', 1054), ('snow', 1055), ('colors,', 1056), ('costume', 1057), ('told', 1058), ('special', 1059), ('cards', 1060), ('customer', 1061), ('way.', 1062), ('local', 1063), ('uncomfortable.', 1064), ('miles', 1065), ('did.', 1066), ('pants,', 1067), ('sleep', 1068), ('slipper', 1069), ('workout', 1070), ('fine,', 1071), ('fashion', 1072), ('nearly', 1073), ('actual', 1074), ('touch', 1075), ('added', 1076), ('gone', 1077), ('days.', 1078), ('worry', 1079), ('baggy', 1080), ('light,', 1081), ('stone', 1082), ('unfortunately', 1083), ('taking', 1084), ('cant', 1085), ('delivery', 1086), ('fleece', 1087), ('friends', 1088), ('hour', 1089), ('rest', 1090), ('today', 1091), ('invicta', 1092), ('recently', 1093), ('matter', 1094), ('off,', 1095), ('velcro', 1096), ('stick', 1097), ('oh', 1098), ('reasonable', 1099), ('bag.', 1100), ('love,', 1101), ('chance', 1102), ('ok.', 1103), ('trouble', 1104), ('takes', 1105), ('form', 1106), ('upper', 1107), ('difference', 1108), ('double', 1109), ('earrings.', 1110), ('winter.', 1111), ('man', 1112), ('belly', 1113), ('durable.', 1114), ('sit', 1115), ('near', 1116), ('turned', 1117), ('choice', 1118), ('yellow', 1119), ('not.', 1120), ('clean', 1121), ('7.5', 1122), ('opened', 1123), ('service', 1124), ('black,', 1125), ('thin.', 1126), ('laces', 1127), ('careful', 1128), ('buttons', 1129), (\"levi's\", 1130), ('air', 1131), ('brand.', 1132), ('hole', 1133), ('blouse', 1134), ('darker', 1135), ('pair,', 1136), ('bulky', 1137), ('underneath', 1138), ('leave', 1139), ('pack', 1140), ('layer', 1141), ('plain', 1142), ('foot,', 1143), ('seams', 1144), ('spring', 1145), ('wants', 1146), ('dress,', 1147), ('perfectly,', 1148), ('shoulders', 1149), ('appear', 1150), ('buckle', 1151), ('m', 1152), ('weather.', 1153), ('ok,', 1154), ('gym', 1155), ('pattern', 1156), ('side.', 1157), ('standard', 1158), ('quickly.', 1159), (\"he's\", 1160), ('immediately', 1161), ('reviews,', 1162), ('20', 1163), ('check', 1164), ('lbs', 1165), ('outfit', 1166), ('bother', 1167), ('clear', 1168), ('skechers', 1169), ('designed', 1170), ('first,', 1171), ('hair', 1172), ('to.', 1173), ('area.', 1174), ('steel', 1175), ('update', 1176), ('unique', 1177), ('product,', 1178), ('(not', 1179), ('likely', 1180), ('wool', 1181), ('course', 1182), ('enough.', 1183), ('offer', 1184), ('cushion', 1185), ('medium.', 1186), ('shopping', 1187), ('there.', 1188), ('comfortably', 1189), ('gray', 1190), ('sandals.', 1191), ('shape.', 1192), ('tighter', 1193), ('print', 1194), ('sheer', 1195), ('back,', 1196), ('wanted.', 1197), ('broken', 1198), ('delicate', 1199), ('credit', 1200), ('pant', 1201), ('entire', 1202), ('despite', 1203), ('life', 1204), ('nursing', 1205), ('construction', 1206), ('are.', 1207), ('belt.', 1208), ('exact', 1209), ('falling', 1210), ('top,', 1211), ('please', 1212), ('butt', 1213), ('perhaps', 1214), ('much,', 1215), ('carhartt', 1216), ('continue', 1217), ('petite', 1218), ('seam', 1219), ('cross', 1220), ('fabric,', 1221), ('weight,', 1222), ('stores', 1223), ('cheap,', 1224), ('priced', 1225), ('slight', 1226), ('is,', 1227), ('calf', 1228), ('heavier', 1229), ('incredibly', 1230), ('roll', 1231), ('house.', 1232), ('choose', 1233), ('ask', 1234), ('boot.', 1235), ('ladies', 1236), ('sale', 1237), ('stop', 1238), ('mostly', 1239), ('like.', 1240), ('too,', 1241), ('depending', 1242), ('her.', 1243), (\"weren't\", 1244), ('look,', 1245), ('also.', 1246), ('item.', 1247), ('yes,', 1248), ('addition', 1249), ('awesome.', 1250), ('third', 1251), ('years,', 1252), ('twice', 1253), ('happy.', 1254), ('chose', 1255), ('flats', 1256), ('sister', 1257), ('figured', 1258), ('number', 1259), ('mother', 1260), ('pictured.', 1261), ('easily.', 1262), ('fit!', 1263), ('experience', 1264), ('ear', 1265), ('chart', 1266), ('afraid', 1267), ('arm', 1268), ('colored', 1269), ('reviews.', 1270), ('snug.', 1271), ('stretched', 1272), ('sizes.', 1273), ('pictured', 1274), ('lasted', 1275), ('boyfriend', 1276), ('business', 1277), ('name', 1278), ('place.', 1279), ('tee', 1280), ('beautiful!', 1281), ('easier', 1282), ('and,', 1283), ('birthday', 1284), ('date', 1285), ('here.', 1286), (\"(i'm\", 1287), ('guy', 1288), ('waist,', 1289), ('t', 1290), ('weight.', 1291), ('(the', 1292), ('nicer', 1293), ('breaking', 1294), ('cheaply', 1295), ('have.', 1296), ('important', 1297), ('provides', 1298), ('shirts.', 1299), ('replacement', 1300), ('allow', 1301), ('wide.', 1302), ('asked', 1303), ('keen', 1304), ('bit.', 1305), ('built', 1306), ('office', 1307), ('shorts.', 1308), ('throw', 1309), ('travel', 1310), ('beach', 1311), ('compliments.', 1312), ('calves', 1313), ('saying', 1314), ('stars.', 1315), ('loose.', 1316), ('mean', 1317), ('typically', 1318), ('design.', 1319), ('person.', 1320), ('cushioning', 1321), ('dryer', 1322), ('months.', 1323), ('stainless', 1324), ('tag', 1325), ('needed.', 1326), ('receive', 1327), ('unfortunately,', 1328), ('(', 1329), ('older', 1330), ('suede', 1331), ('taken', 1332), ('unlike', 1333), ('covers', 1334), ('heel.', 1335), ('leather.', 1336), ('kids', 1337), ('meant', 1338), ('pleased.', 1339), ('coverage', 1340), ('waistband', 1341), ('ears', 1342), ('breasts', 1343), ('matching', 1344), ('generally', 1345), ('bed', 1346), ('ones.', 1347), ('short,', 1348), ('stylish.', 1349), ('described', 1350), ('hanging', 1351), ('rough', 1352), ('year.', 1353), ('nice!', 1354), ('side,', 1355), ('skirts', 1356), ('school', 1357), ('minutes', 1358), ('accurate', 1359), ('looking,', 1360), ('collar', 1361), ('opening', 1362), ('card', 1363), ('sold', 1364), ('anything.', 1365), ('around.', 1366), ('multiple', 1367), ('comfy!', 1368), ('9.5', 1369), ('variety', 1370), ('odd', 1371), ('deal.', 1372), ('boxer', 1373), ('cozy', 1374), ('bunch', 1375), ('slippers.', 1376), ('14', 1377), ('ball', 1378), ('remove', 1379), ('didnt', 1380), ('compression', 1381), ('walking.', 1382), ('boots!', 1383), ('eye', 1384), ('30', 1385), ('far.', 1386), ('imagine', 1387), ('tennis', 1388), ('typical', 1389), ('lightweight,', 1390), ('alot', 1391), ('turn', 1392), ('orange', 1393), ('yet,', 1394), ('away.', 1395), ('right,', 1396), ('allows', 1397), ('complaints', 1398), ('fair', 1399), ('present', 1400), ('jean', 1401), ('buy!', 1402), ('dressed', 1403), ('leggings.', 1404), ('tough', 1405), ('nor', 1406), ('family', 1407), ('u', 1408), ('yet.', 1409), (\"they'll\", 1410), ('forget', 1411), ('bottoms', 1412), ('call', 1413), ('thighs', 1414), ('underwire', 1415), ('pleasantly', 1416), ('everything.', 1417), ('flimsy', 1418), ('crystal', 1419), ('flattering.', 1420), ('amazon,', 1421), ('constantly', 1422), ('padded', 1423), ('skin.', 1424), ('denim', 1425), ('thick,', 1426), ('finish', 1427), ('round', 1428), ('shoe!', 1429), ('15', 1430), ('remember', 1431), ('hubby', 1432), ('insole', 1433), ('mesh', 1434), ('changed', 1435), ('note', 1436), ('yes', 1437), ('panty', 1438), ('realize', 1439), ('others.', 1440), ('save', 1441), ('hopefully', 1442), ('smaller.', 1443), ('clothes.', 1444), ('pieces', 1445), ('awesome!', 1446), ('finger', 1447), ('later', 1448), ('single', 1449), ('store.', 1450), ('warmer', 1451), ('whether', 1452), ('dockers', 1453), ('machine', 1454), ('crazy', 1455), ('pulled', 1456), ('walked', 1457), ('wide,', 1458), ('you,', 1459), ('dry.', 1460), ('negative', 1461), ('thigh', 1462), ('say,', 1463), ('band.', 1464), ('packaged', 1465), ('per', 1466), ('casio', 1467), ('far,', 1468), ('swim', 1469), ('future.', 1470), ('showing', 1471), ('ankles', 1472), ('l', 1473), ('medium,', 1474), ('men', 1475), ('otherwise,', 1476), ('concerned', 1477), ('pounds', 1478), ('mention', 1479), ('rub', 1480), ('lined', 1481), ('six', 1482), ('length,', 1483), ('zip', 1484), ('comfort,', 1485), ('him.', 1486), ('worn.', 1487), ('necklace.', 1488), ('young', 1489), ('feminine', 1490), ('own.', 1491), ('secure', 1492), ('hoodie', 1493), ('leather,', 1494), ('packaging', 1495), ('post', 1496), ('reasonably', 1497), ('sewn', 1498), ('sparkle', 1499), ('versatile', 1500), ('materials', 1501), ('affordable', 1502), ('attention', 1503), ('fat', 1504), ('spent', 1505), ('jacket.', 1506), ('upon', 1507), (':(', 1508), ('hoped', 1509), ('natural', 1510), ('ready', 1511), ('1388016000', 1512), ('colour', 1513), ('thing.', 1514), ('bad.', 1515), ('purpose', 1516), ('toes.', 1517), ('understand', 1518), ('feature', 1519), ('box,', 1520), ('larger.', 1521), ('ago.', 1522), ('down,', 1523), ('exchange', 1524), ('wallet.', 1525), ('mid', 1526), ('owned.', 1527), ('myself.', 1528), ('christmas.', 1529), ('pearl', 1530), ('space', 1531), ('recommended.', 1532), ('beads', 1533), ('flop', 1534), (\"hasn't\", 1535), ('spot', 1536), ('blisters', 1537), ('bras.', 1538), ('pick', 1539), ('lbs.', 1540), ('mentioned', 1541), ('bend', 1542), ('durable,', 1543), ('fact,', 1544), ('way,', 1545), ('weigh', 1546), ('with.', 1547), ('wrap', 1548), (\"she's\", 1549), ('delivered', 1550), ('everywhere', 1551), ('narrow.', 1552), ('anyone.', 1553), ('fix', 1554), ('light.', 1555), ('amazing.', 1556), ('champion', 1557), ('knees', 1558), ('value.', 1559), ('certain', 1560), ('crotch', 1561), ('allegra', 1562), ('me!', 1563), ('originally', 1564), ('sending', 1565), ('surprisingly', 1566), ('footbed', 1567), ('ring,', 1568), ('feel.', 1569), ('boy', 1570), ('earring', 1571), ('main', 1572), ('adds', 1573), ('rating', 1574), ('slipping', 1575), ('legs.', 1576), ('play', 1577), ('pulling', 1578), ('but...', 1579), ('plantar', 1580), ('beautifully', 1581), ('breast', 1582), ('aware', 1583), ('shade', 1584), ('ugly', 1585), ('pictures', 1586), ('charm', 1587), ('okay.', 1588), ('daughter.', 1589), ('else.', 1590), ('bands', 1591), ('merrell', 1592), ('particularly', 1593), ('setting', 1594), ('skirt.', 1595), ('sneaker', 1596), ('sport', 1597), ('heart', 1598), ('vibrant', 1599), ('husband.', 1600), ('best.', 1601), ('boxers', 1602), ('bracelet.', 1603), ('inner', 1604), ('glove', 1605), ('hip', 1606), ('so.', 1607), ('whatever', 1608), ('dial', 1609), ('fingers', 1610), ('thrilled', 1611), ('early', 1612), ('thong', 1613), ('comments', 1614), ('fabulous', 1615), ('rich', 1616), ('standing', 1617), ('fast.', 1618), ('sturdy,', 1619), ('again!', 1620), ('lift', 1621), ('stated', 1622), ('1388448000', 1623), ('fruit', 1624), ('d', 1625), ('detail', 1626), ('sturdy.', 1627), ('protection', 1628), ('design,', 1629), ('fold', 1630), ('additional', 1631), ('shop', 1632), ('tired', 1633), ('18', 1634), ('battery', 1635), ('outfit.', 1636), ('1389225600', 1637), ('b', 1638), ('wash.', 1639), ('2nd', 1640), ('anyway.', 1641), ('knit', 1642), ('phone', 1643), ('matches', 1644), ('stayed', 1645), ('wrist.', 1646), ('silky', 1647), ('trail', 1648), ('online.', 1649), ('colors!', 1650), ('photo.', 1651), ('rose', 1652), (\"you'd\", 1653), ('hook', 1654), ('snug,', 1655), ('anywhere', 1656), ('diamond', 1657), ('hat.', 1658), ('more!', 1659), ('flexible', 1660), ('push', 1661), ('terrible', 1662), ('34', 1663), ('riding', 1664), (\"they'd\", 1665), ('wrong.', 1666), ('1388620800', 1667), ('control', 1668), ('reviewer', 1669), ('color!', 1670), ('covered', 1671), ('obviously', 1672), ('offered', 1673), ('/', 1674), ('belts', 1675), ('center', 1676), ('sizing.', 1677), ('8.', 1678), ('pockets.', 1679), ('sharp', 1680), ('wind', 1681), ('wont', 1682), ('according', 1683), ('neutral', 1684), ('stuck', 1685), ('advertised', 1686), ('literally', 1687), ('waterproof', 1688), ('1389139200', 1689), ('body.', 1690), ('hem', 1691), ('pass', 1692), ('picked', 1693), ('seeing', 1694), ('(or', 1695), ('including', 1696), ('step', 1697), ('tan', 1698), ('through.', 1699), ('1386633600', 1700), ('bali', 1701), ('outdoor', 1702), ('patty', 1703), ('stylish,', 1704), ('wonderful.', 1705), ('1388707200', 1706), ('shirt!', 1707), ('option', 1708), ('basically', 1709), ('various', 1710), ('cap', 1711), ('36', 1712), ('called', 1713), ('nylon', 1714), ('problems.', 1715), ('timex', 1716), ('exercise', 1717), ('known', 1718), ('last.', 1719), ('places', 1720), ('guys', 1721), ('lady', 1722), (\"they've\", 1723), ('cool.', 1724), ('perfectly!', 1725), ('yourself', 1726), ('bra!', 1727), ('dog', 1728), ('heat', 1729), ('rise', 1730), ('1386806400', 1731), ('avoid', 1732), ('mens', 1733), ('enough,', 1734), ('love!', 1735), ('13', 1736), ('1389052800', 1737), ('cushioned', 1738), ('longer.', 1739), ('agree', 1740), ('falls', 1741), ('mail', 1742), ('none', 1743), ('purchase!', 1744), ('bag,', 1745), ('shorts,', 1746), ('1386720000', 1747), ('purse.', 1748), ('replaced', 1749), ('dance', 1750), ('described.', 1751), ('lack', 1752), ('comment', 1753), ('insert', 1754), ('1392681600', 1755), ('1404691200', 1756), ('ballet', 1757), ('wow', 1758), ('garment', 1759), ('inside.', 1760), ('shine', 1761), ('slacks', 1762), ('sitting', 1763), ('width.', 1764), ('columbia', 1765), ('relatively', 1766), ('foam', 1767), ('lol', 1768), ('ordered.', 1769), ('better,', 1770), ('okay,', 1771), ('sole.', 1772), ('1405036800', 1773), (\"5'\", 1774), ('appreciate', 1775), ('movement', 1776), ('anyway,', 1777), ('bead', 1778), ('protect', 1779), ('starting', 1780), ('surprise', 1781), ('boobs', 1782), ('40', 1783), ('loose,', 1784), ('1404864000', 1785), ('edge', 1786), ('warmth', 1787), ('pearls', 1788), ('curvy', 1789), ('horrible', 1790), ('more,', 1791), ('training', 1792), ('wearing.', 1793), ('cloth', 1794), ('sensitive', 1795), ('strapless', 1796), ('losing', 1797), ('womens', 1798), ('regret', 1799), ('times.', 1800), ('6.5', 1801), ('strange', 1802), ('1389744000', 1803), ('issue.', 1804), ('waiting', 1805), ('1386028800', 1806), ('8,', 1807), ('bigger.', 1808), ('brand,', 1809), ('child', 1810), ('helped', 1811), ('tummy', 1812), ('heavy.', 1813), ('running.', 1814), ('white.', 1815), ('16', 1816), ('clothing.', 1817), ('realized', 1818), ('thats', 1819), ('behind', 1820), ('boot,', 1821), ('heavy,', 1822), ('prevent', 1823), ('shipping.', 1824), ('ever!', 1825), ('k', 1826), ('suppose', 1827), ('bill', 1828), ('hooks', 1829), ('positive', 1830), ('alone', 1831), ('functional', 1832), ('professional', 1833), ('while.', 1834), ('id', 1835), ('1405123200', 1836), ('clogs', 1837), ('t-shirts', 1838), ('teva', 1839), ('vest', 1840), ('ahead', 1841), ('cami', 1842), ('dickies', 1843), ('jewelry.', 1844), ('try.', 1845), ('belt,', 1846), ('hardly', 1847), ('tons', 1848), ('total', 1849), ('very,', 1850), ('1389830400', 1851), ('expensive.', 1852), ('sexy.', 1853), ('sparkly', 1854), ('evening', 1855), ('honestly', 1856), ('rubbing', 1857), ('search', 1858), ('tends', 1859), ('became', 1860), ('overly', 1861), ('together.', 1862), ('c', 1863), ('hits', 1864), ('soon.', 1865), ('1387238400', 1866), ('constructed', 1867), ('this!', 1868), ('appropriate', 1869), ('softer', 1870), ('appearance', 1871), ('go.', 1872), ('lines', 1873), ('ten', 1874), ('clearly', 1875), ('cotton,', 1876), ('recommend!', 1877), ('room.', 1878), ('walks', 1879), ('do,', 1880), ('inserts', 1881), ('insoles', 1882), ('sandal.', 1883), ('links', 1884), ('moving', 1885), ('range', 1886), ('scratchy', 1887), ('bottom.', 1888), ('complain', 1889), ('doubt', 1890), ('formal', 1891), ('gonna', 1892), ('1388102400', 1893), ('1388966400', 1894), ('clip', 1895), ('proper', 1896), ('week.', 1897), ('advice', 1898), ('gel', 1899), ('girlfriend', 1900), ('walk.', 1901), ('job.', 1902), ('use,', 1903), ('1394064000', 1904), ('measurements', 1905), ('polo', 1906), ('poorly', 1907), ('1394496000', 1908), ('attractive.', 1909), ('gifts', 1910), ('nike', 1911), ('outer', 1912), ('white,', 1913), ('world', 1914), ('for,', 1915), ('itchy', 1916), ('earlier', 1917), ('offers', 1918), ('paying', 1919), ('comfortably.', 1920), ('anyway', 1921), ('corset', 1922), ('excellent.', 1923), ('future', 1924), ('sandals,', 1925), ('!!', 1926), ('bill.', 1927), ('breathable', 1928), ('china', 1929), ('different.', 1930), ('minute', 1931), ('relaxed', 1932), ('1388361600', 1933), ('1389312000', 1934), ('1389657600', 1935), ('sizes,', 1936), ('bad,', 1937), ('features', 1938), ('hood', 1939), ('1393286400', 1940), ('doesnt', 1941), ('purchased.', 1942), ('pairs.', 1943), ('collection', 1944), ('piece.', 1945), ('string', 1946), ('barefoot', 1947), ('dig', 1948), ('fashionable', 1949), ('major', 1950), ('1389571200', 1951), ('american', 1952), ('attached', 1953), ('fancy', 1954), ('uses', 1955), ('bags', 1956), ('caught', 1957), ('eventually', 1958), ('sooo', 1959), ('front.', 1960), ('label', 1961), ('pajamas', 1962), ('1392076800', 1963), ('1393372800', 1964), ('dollars', 1965), ('granddaughter', 1966), ('morning', 1967), ('shaped', 1968), ('tuck', 1969), ('1394409600', 1970), ('cotton.', 1971), ('shape,', 1972), ('1395878400', 1973), ('1397692800', 1974), ('department', 1975), ('dried', 1976), ('looser', 1977), ('minor', 1978), ('pain.', 1979), ('sore', 1980), ('xxl', 1981), ('happen', 1982), ('logo', 1983), ('outfits.', 1984), ('taller', 1985), ('1383004800', 1986), ('blue.', 1987), ('texture', 1988), ('tunic', 1989), ('test', 1990), ('bow', 1991), ('fully', 1992), ('onto', 1993), ('sure.', 1994), ('throughout', 1995), ('wallet,', 1996), ('chain.', 1997), ('car', 1998), ('levis', 1999), ('sad', 2000), ('watches.', 2001), ('(as', 2002), ('1385942400', 2003), ('forever', 2004), ('socks!', 2005), ('traction', 2006), ('traditional', 2007), ('friend.', 2008), ('narrow,', 2009), ('new.', 2010), ('personally', 2011), ('still,', 2012), ('head.', 2013), ('money,', 2014), ('1391731200', 2015), ('1400112000', 2016), ('1404777600', 2017), ('colorful', 2018), ('eyes', 2019), ('grip', 2020), ('like,', 2021), ('loom', 2022), ('require', 2023), ('1387324800', 2024), ('need.', 2025), ('scarf.', 2026), ('sits', 2027), ('alternative', 2028), ('fake', 2029), ('halloween', 2030), ('pretty!', 2031), ('searching', 2032), ('silk', 2033), ('1390262400', 2034), ('active', 2035), ('useful', 2036), ('1392940800', 2037), ('1404950400', 2038), ('closer', 2039), ('edges', 2040), ('fur', 2041), ('general', 2042), ('vacation', 2043), ('combination', 2044), ('heel,', 2045), ('loosen', 2046), ('soooo', 2047), ('1384992000', 2048), ('1390348800', 2049), ('1392163200', 2050), ('class', 2051), ('funny', 2052), ('1386288000', 2053), ('wedge', 2054), ('(but', 2055), ('(in', 2056), ('carrying', 2057), ('noticeable', 2058), ('picky', 2059), ('1386547200', 2060), ('1392854400', 2061), ('1396483200', 2062), ('old.', 2063), ('same.', 2064), ('seller.', 2065), ('adult', 2066), ('hangs', 2067), ('personal', 2068), ('bucks', 2069), ('party', 2070), ('1387152000', 2071), ('1390435200', 2072), ('cooler', 2073), ('line.', 2074), ('practical', 2075), ('1384905600', 2076), ('blue,', 2077), ('turns', 2078), ('types', 2079), ('1391558400', 2080), ('ever.', 2081), ('listed', 2082), ('properly', 2083), ('1403136000', 2084), ('it!!', 2085), ('love.', 2086), ('night.', 2087), ('planning', 2088), ('1393891200', 2089), ('impossible', 2090), ('quality!', 2091), ('seiko', 2092), ('set.', 2093), ('write', 2094), ('1398729600', 2095), ('wonder', 2096), ('1390176000', 2097), ('days,', 2098), ('thus', 2099), ('vintage', 2100), ('(like', 2101), ('1393459200', 2102), ('38', 2103), ('age', 2104), ('bit,', 2105), ('face.', 2106), ('nine', 2107), ('sorry', 2108), ('straps.', 2109), ('1393977600', 2110), ('often.', 2111), ('prime', 2112), ('thickness', 2113), ('1395187200', 2114), ('case.', 2115), ('dress!', 2116), ('house,', 2117), ('period', 2118), ('serious', 2119), ('wardrobe', 2120), ('1395273600', 2121), ('annoying', 2122), ('hats', 2123), ('torso', 2124), ('underwear.', 2125), ('are,', 2126), ('dresses.', 2127), ('hips.', 2128), ('review.', 2129), ('son.', 2130), ('turquoise', 2131), ('choice.', 2132), ('lee', 2133), ('moisture', 2134), ('product!', 2135), ('sell', 2136), ('1390867200', 2137), ('1398297600', 2138), ('ago,', 2139), ('build', 2140), ('wrinkle', 2141), ('closed', 2142), ('gift,', 2143), ('pool', 2144), ('you!', 2145), ('base', 2146), ('durability', 2147), ('fault', 2148), ('lbs,', 2149), ('1392249600', 2150), ('1396828800', 2151), ('lounging', 2152), ('1391644800', 2153), ('course,', 2154), ('rate', 2155), ('sock.', 2156), ('substantial', 2157), ('available.', 2158), ('awkward', 2159), ('shrunk', 2160), ('1394150400', 2161), ('placed', 2162), ('summer,', 2163), ('washing.', 2164), ('1394323200', 2165), (\"it'll\", 2166), ('up!', 2167), ('1390521600', 2168), ('nb', 2169), ('band,', 2170), ('wardrobe.', 2171), ('lot,', 2172), ('on!', 2173), ('purchase,', 2174), ('well!', 2175), ('person,', 2176), ('swimming', 2177), ('watch!', 2178), ('1385078400', 2179), ('1395705600', 2180), ('1401840000', 2181), ('32', 2182), ('crew', 2183), ('times,', 2184), ('1401321600', 2185), ('opinion', 2186), ('closure', 2187), ('issues.', 2188), ('lovely.', 2189), ('n', 2190), ('sweatshirt', 2191), ('terrific', 2192), ('visible', 2193), ('1384387200', 2194), ('curves', 2195), ('firm', 2196), ('frame', 2197), ('sexy,', 2198), ('walking,', 2199), ('area,', 2200), ('beige', 2201), ('boys', 2202), ('brown.', 2203), ('tall,', 2204), ('wanting', 2205), ('..', 2206), ('1384300800', 2207), ('1398124800', 2208), ('legs,', 2209), ('shirts,', 2210), ('thru', 2211), ('1386201600', 2212), ('1390780800', 2213), ('1395014400', 2214), ('arches', 2215), ('well-made', 2216), ('1385424000', 2217), ('1395619200', 2218), (':-)', 2219), ('heels.', 2220), ('pricey', 2221), ('1393200000', 2222), ('apart.', 2223), ('be,', 2224), ('drop', 2225), ('hide', 2226), ('1398211200', 2227), ('before.', 2228), ('knowing', 2229), ('level', 2230), ('outfits', 2231), ('slippery', 2232), ('underneath.', 2233), ('grandson', 2234), ('had.', 2235), ('initially', 2236), ('inseam', 2237), ('luck', 2238), ('order.', 2239), ('outside.', 2240), ('1390953600', 2241), ('1400544000', 2242), ('months,', 2243), ('skeptical', 2244), ('stockings', 2245), ('stretches', 2246), ('(for', 2247), ('1388793600', 2248), ('1391990400', 2249), ('pic', 2250), ('currently', 2251), ('niece', 2252), ('things.', 2253), ('1388534400', 2254), ('1394236800', 2255), ('bring', 2256), ('instead.', 2257), ('measure', 2258), ('return.', 2259), ('time!', 2260), ('toe.', 2261), (\"what's\", 2262), ('1384473600', 2263), ('1384732800', 2264), ('1394582400', 2265), ('1396396800', 2266), ('3rd', 2267), ('before,', 2268), ('cards,', 2269), ('neckline', 2270), ('tighten', 2271), ('tops.', 2272), ('1384819200', 2273), ('numbers', 2274), ('plus,', 2275), ('prices', 2276), ('rear', 2277), ('1399248000', 2278), ('beyond', 2279), ('bras,', 2280), ('brought', 2281), ('late', 2282), ('s', 2283), ('1392336000', 2284), ('dansko', 2285), ('faux', 2286), ('happened', 2287), ('1401926400', 2288), ('bought.', 2289), ('good!', 2290), ('seriously', 2291), ('sweater.', 2292), ('tone', 2293), ('1386115200', 2294), ('1392422400', 2295), ('earrings,', 2296), ('iron', 2297), ('store,', 2298), ('thermal', 2299), ('besides', 2300), ('safe', 2301), ('9.', 2302), ('find.', 2303), ('go-to', 2304), ('provided', 2305), ('tucked', 2306), ('complete', 2307), ('1387411200', 2308), ('1388275200', 2309), ('1397433600', 2310), ('1397520000', 2311), ('1399852800', 2312), ('amazing!', 2313), ('model.', 2314), ('removed', 2315), ('trim', 2316), ('!!!', 2317), ('beware', 2318), ('bracelets', 2319), ('previously', 2320), ('ripped', 2321), ('stores.', 2322), ('1400025600', 2323), ('1400716800', 2324), ('cargo', 2325), ('pads', 2326), ('tear', 2327), ('bare', 2328), ('expensive,', 2329), ('first.', 2330), ('intended', 2331), ('orthaheel', 2332), ('possible', 2333), ('there,', 2334), ('y', 2335), ('(my', 2336), ('1389916800', 2337), ('(a', 2338), ('1395100800', 2339), ('faded', 2340), ('refund', 2341), ('wire', 2342), ('snap', 2343), ('adorable.', 2344), ('anymore.', 2345), ('current', 2346), ('decide', 2347), ('lol.', 2348), ('showed', 2349), ('year,', 2350), ('heard', 2351), ('leaves', 2352), ('nude', 2353), (\"you've\", 2354), ('1391385600', 2355), ('hours.', 2356), ('liner', 2357), ('strap.', 2358), ('ton', 2359), ('undies', 2360), ('whenever', 2361), ('1394668800', 2362), ('cell', 2363), ('favorite.', 2364), ('function', 2365), ('pop', 2366), ('sliding', 2367), ('stunning', 2368), ('uggs', 2369), ('1385337600', 2370), ('1398038400', 2371), ('arrive', 2372), ('dirty', 2373), ('hesitant', 2374), ('studs', 2375), ('10.5', 2376), ('1403740800', 2377), ('floor', 2378), ('thick.', 2379), ('1393545600', 2380), ('brands.', 2381), ('glass', 2382), ('home.', 2383), ('sets', 2384), ('stomach', 2385), ('x', 2386), ('gorgeous.', 2387), ('true.', 2388), ('accommodate', 2389), ('cold.', 2390), ('disappointing', 2391), ('instructions', 2392), ('10.', 2393), ('adjusted', 2394), ('condition.', 2395), ('cutting', 2396), ('gap', 2397), ('handle', 2398), (\"shouldn't\", 2399), ('sweet', 2400), ('1396310400', 2401), ('case,', 2402), ('fantastic.', 2403), ('flops.', 2404), ('non', 2405), ('painful', 2406), ('simple,', 2407), ('stopped', 2408), ('1383091200', 2409), ('1389398400', 2410), ('areas', 2411), ('bling', 2412), ('duty', 2413), ('lounge', 2414), ('narrower', 2415), ('compare', 2416), ('pockets,', 2417), ('rip', 2418), ('watches,', 2419), ('1391126400', 2420), ('apparently', 2421), ('brief', 2422), ('1399420800', 2423), ('1401148800', 2424), ('manufacturer', 2425), ('resistant', 2426), ('size!', 2427), ('therefore', 2428), ('1395360000', 2429), ('backs', 2430), ('problem,', 2431), ('1387929600', 2432), ('catch', 2433), ('ideal', 2434), ('(no', 2435), ('1386460800', 2436), ('pocket.', 2437), ('shower', 2438), ('wife.', 2439), ('dollar', 2440), ('item,', 2441), ('mistake', 2442), ('pressure', 2443), ('separate', 2444), ('1384128000', 2445), ('1389484800', 2446), ('attractive,', 2447), ('designs', 2448), ('discovered', 2449), ('ends', 2450), ('here,', 2451), ('kid', 2452), ('life.', 2453), ('maxi', 2454), ('trust', 2455), ('women.', 2456), ('1388188800', 2457), ('lightweight.', 2458), ('bargain', 2459), ('breathe', 2460), ('possibly', 2461), ('100', 2462), ('1386892800', 2463), ('neck.', 2464), ('portion', 2465), ('shoulders.', 2466), ('to,', 2467), ('1392595200', 2468), ('1396915200', 2469), ('1402531200', 2470), ('1403654400', 2471), ('1404259200', 2472), ('red,', 2473), ('1388880000', 2474), ('1397001600', 2475), ('cardigan', 2476), ('measured', 2477), ('paper', 2478), ('parts', 2479), ('running,', 2480), ('site', 2481), ('sizing,', 2482), ('slots', 2483), ('today.', 2484), ('1383868800', 2485), ('1398643200', 2486), ('1399593600', 2487), ('digital', 2488), ('polyester', 2489), ('really,', 2490), ('1397088000', 2491), ('9,', 2492), ('high,', 2493), ('not,', 2494), ('pouch', 2495), ('somewhere', 2496), ('1391040000', 2497), ('arrived,', 2498), ('feet!', 2499), ('fits.', 2500), ('one!', 2501), ('1402358400', 2502), ('all!', 2503), ('handy', 2504), ('spandex', 2505), ('1396224000', 2506), ('hugs', 2507), ('preferred', 2508), ('sketchers', 2509), ('1384214400', 2510), ('over.', 2511), ('worst', 2512), ('accurate.', 2513), ('amazingly', 2514), ('cool,', 2515), ('dainty', 2516), ('lucky', 2517), ('ones,', 2518), ('reach', 2519), ('scratch', 2520), ('1380758400', 2521), ('1399334400', 2522), ('chest.', 2523), ('cushy', 2524), ('satisfied.', 2525), ('1394755200', 2526), ('1397606400', 2527), ('1399939200', 2528), ('biggest', 2529), ('slipped', 2530), ('snaps', 2531), ('word', 2532), ('canvas', 2533), ('dad', 2534), ('la', 2535), ('loving', 2536), ('products.', 2537), ('ring!', 2538), ('ship', 2539), ('stretchy,', 2540), (\"we'll\", 2541), (\"clark's\", 2542), ('everyday.', 2543), ('levi', 2544), ('minimal', 2545), ('nicely,', 2546), ('pregnant', 2547), ('thing,', 2548), ('tread', 2549), ('1383609600', 2550), ('arms.', 2551), ('get.', 2552), ('mile', 2553), ('suitable', 2554), ('top!', 2555), ('xl.', 2556), ('1397174400', 2557), ('1401753600', 2558), ('rubbed', 2559), ('synthetic', 2560), ('ties', 2561), ('v', 2562), ('awhile', 2563), ('croc', 2564), ('fill', 2565), ('gorgeous!', 2566), ('instep', 2567), ('marks', 2568), ('oversized', 2569), ('prettier', 2570), ('red.', 2571), ('1395964800', 2572), ('1400457600', 2573), ('1401408000', 2574), ('ankle.', 2575), ('blend', 2576), ('hand.', 2577), ('zippered', 2578), ('1392768000', 2579), ('1398384000', 2580), ('1403481600', 2581), ('2x', 2582), ('fade', 2583), (\"husband's\", 2584), ('receiving', 2585), ('effect', 2586), ('feel,', 2587), ('heal', 2588), ('lenses', 2589), ('retail', 2590), ('admit', 2591), ('around,', 2592), ('collection.', 2593), ('friends.', 2594), ('small!', 2595), ('1387756800', 2596), ('1404345600', 2597), ('diamonds', 2598), ('green.', 2599), ('1382054400', 2600), ('1402617600', 2601), ('cut.', 2602), ('workmanship', 2603), ('1380672000', 2604), ('1382486400', 2605), ('awful', 2606), ('glove.', 2607), ('layering', 2608), ('slippers,', 2609), ('threw', 2610), ('website', 2611), ('helpful', 2612), ('jacket,', 2613), ('leggings,', 2614), ('west', 2615), ('1385510400', 2616), ('1400198400', 2617), ('1402963200', 2618), ('about.', 2619), ('cut,', 2620), ('hassle', 2621), ('quickly,', 2622), ('season', 2623), ('starts', 2624), ('subtle', 2625), ('1387843200', 2626), ('1399507200', 2627), ('company.', 2628), ('flower', 2629), ('online,', 2630), ('sweaty', 2631), ('1391472000', 2632), ('1398816000', 2633), ('adding', 2634), ('extended', 2635), ('7.', 2636), ('caused', 2637), ('dries', 2638), ('little.', 2639), ('opinion.', 2640), ('terms', 2641), ('1386979200', 2642), ('1400630400', 2643), ('enjoyed', 2644), ('expectations', 2645), ('hesitate', 2646), ('husband,', 2647), ('strings', 2648), ('wrapped', 2649), ('(if', 2650), ('1387065600', 2651), ('1403568000', 2652), (\"amazon's\", 2653), ('cz', 2654), ('glue', 2655), ('wonderfully', 2656), ('buy,', 2657), ('complaints.', 2658), ('hot.', 2659), ('interior', 2660), ('suggested', 2661), ('1383782400', 2662), ('1402444800', 2663), ('1403049600', 2664), ('moment', 2665), ('section', 2666), ('supportive.', 2667), ('10,', 2668), ('1401235200', 2669), ('1404604800', 2670), ('followed', 2671), ('front,', 2672), ('gown', 2673), ('plus.', 2674), ('toes,', 2675), ('warm!', 2676), ('(they', 2677), ('saved', 2678), ('sleeping', 2679), ('surgery', 2680), ('was.', 2681), ('winter,', 2682), ('1403222400', 2683), ('folded', 2684), ('grow', 2685), ('loop', 2686), ('slips', 2687), ('w/', 2688), ('1356652800', 2689), ('charms', 2690), ('cleavage', 2691), ('complements', 2692), ('display', 2693), ('lay', 2694), ('pants!', 2695), ('rock', 2696), ('runner', 2697), ('zero', 2698), ('1381104000', 2699), ('1385164800', 2700), ('closet', 2701), ('compliment', 2702), ('concern', 2703), ('stock', 2704), ('drawstring', 2705), ('pair!', 2706), ('stretch.', 2707), ('1381795200', 2708), ('1404518400', 2709), ('designer', 2710), ('high.', 2711), ('options', 2712), ('smaller,', 2713), ('something.', 2714), ('stocking', 2715), ('wrists', 2716), ('1356566400', 2717), ('1402272000', 2718), ('beautifully.', 2719), ('hug', 2720), ('neither', 2721), ('sweaters', 2722), ('threads', 2723), ('washer', 2724), ('1349481600', 2725), ('fitting.', 2726), ('oh,', 2727), ('skirt,', 2728), ('yesterday', 2729), ('1390089600', 2730), ('adore', 2731), ('looks.', 2732), ('periods', 2733), ('stretching', 2734), ('wash,', 2735), ('1393718400', 2736), ('rugged', 2737), ('stud', 2738), ('v-neck', 2739), ('checked', 2740), ('rarely', 2741), ('recent', 2742), ('sneakers.', 2743), ('stands', 2744), ('stiff.', 2745), ('words', 2746), ('1376524800', 2747), ('1380153600', 2748), ('cost.', 2749), ('details', 2750), ('downside', 2751), ('hung', 2752), ('patent', 2753), ('place,', 2754), ('t-shirt.', 2755), (\"would've\", 2756), ('xs', 2757), ('1376006400', 2758), ('1385683200', 2759), ('anymore', 2760), ('cat', 2761), ('somehow', 2762), ('thumb', 2763), ('town', 2764), ('would.', 2765), ('1376956800', 2766), ('begin', 2767), ('week,', 2768), ('day!', 2769), ('faster', 2770), ('models', 2771), ('weather,', 2772), ('wow!', 2773), ('1382659200', 2774), ('1387497600', 2775), ('1398902400', 2776), ('fitflops', 2777), ('larger,', 2778), ('pictured,', 2779), ('reef', 2780), ('thinks', 2781), ('1378166400', 2782), ('1383696000', 2783), ('dirt', 2784), ('ive', 2785), ('miss', 2786), ('numerous', 2787), ('purchases', 2788), ('shades', 2789), ('zippers', 2790), ('1396569600', 2791), ('bezel', 2792), ('leaving', 2793), ('satin', 2794), ('smart', 2795), ('1385769600', 2796), ('1393804800', 2797), ('armour', 2798), ('pajama', 2799), ('purpose.', 2800), ('skin,', 2801), ('1391817600', 2802), ('happens', 2803), ('it!!!', 2804), ('seconds', 2805), ('selection', 2806), (\"woman's\", 2807), ('1382572800', 2808), ('ankles.', 2809), ('boat', 2810), ('bottom,', 2811), ('definately', 2812), ('handbag', 2813), ('impact', 2814), ('rated', 2815), ('selling', 2816), ('1380067200', 2817), ('1383264000', 2818), ('adjustment', 2819), ('anything,', 2820), ('b/c', 2821), ('dryer.', 2822), ('hat,', 2823), ('sole,', 2824), ('spending', 2825), ('weekend', 2826), ('1381190400', 2827), ('generous', 2828), ('saucony', 2829), ('touch.', 2830), ('usa', 2831), ('yard', 2832), ('1386374400', 2833), ('1390003200', 2834), ('1405209600', 2835), ('knees.', 2836), ('lasts', 2837), ('leg.', 2838), ('mine.', 2839), ('mini', 2840), (';)', 2841), ('afford', 2842), ('brown,', 2843), ('colder', 2844), ('rolled', 2845), ('tongue', 2846), ('wrinkles', 2847), ('1378339200', 2848), ('1378425600', 2849), ('1403827200', 2850), ('bike', 2851), ('casual.', 2852), ('clothes,', 2853), ('inside,', 2854), ('jeans!', 2855), ('klein', 2856), ('suits', 2857), ('1396656000', 2858), ('chains', 2859), ('clog', 2860), ('cuff', 2861), ('gentle', 2862), ('list', 2863), ('living', 2864), ('1381449600', 2865), ('1394928000', 2866), ('cuter', 2867), ('degree', 2868), ('harder', 2869), ('1402012800', 2870), ('hike', 2871), ('uncomfortable,', 2872), ('1356480000', 2873), ('1357171200', 2874), ('1395446400', 2875), ('1397779200', 2876), ('advertised.', 2877), ('automatic', 2878), ('considered', 2879), ('pink.', 2880), ('stiff,', 2881), ('1366070400', 2882), ('1378857600', 2883), ('1404432000', 2884), ('birthday.', 2885), ('layers', 2886), ('themselves', 2887), ('then,', 2888), ('1370390400', 2889), ('1379462400', 2890), ('1383436800', 2891), ('1395792000', 2892), ('1401667200', 2893), ('another.', 2894), ('ease', 2895), ('flattering,', 2896), ('missing', 2897), ('ugg', 2898), ('fitflop', 2899), ('huge.', 2900), ('matched', 2901), ('playtex', 2902), ('say.', 2903), ('stars,', 2904), ('washings.', 2905), ('$10', 2906), ('causing', 2907), ('muffin', 2908), ('photo,', 2909), ('washes.', 2910), ('1361232000', 2911), ('1391212800', 2912), ('1400803200', 2913), ('package.', 2914), ('1398988800', 2915), ('1404086400', 2916), ('1404172800', 2917), ('fixed', 2918), ('gym.', 2919), ('knee.', 2920), ('necklace,', 2921), ('two.', 2922), ('1373241600', 2923), ('1390608000', 2924), ('lovely,', 2925), ('neat', 2926), ('photos', 2927), ('shown.', 2928), ('slender', 2929), ('$20', 2930), ('1387670400', 2931), ('began', 2932), ('bulky.', 2933), ('interesting', 2934), ('jockey', 2935), ('switch', 2936), ('them!!', 2937), ('w', 2938), ('width,', 2939), ('worse', 2940), ('1390694400', 2941), ('1405296000', 2942), ('carefully', 2943), ('hopes', 2944), ('nose', 2945), ('returned.', 2946), ('younger', 2947), ('(it', 2948), ('1366156800', 2949), ('1376265600', 2950), ('1393027200', 2951), ('out!', 2952), ('outstanding', 2953), ('required', 2954), ('shock', 2955), ('sleek', 2956), ('weeks.', 2957), (')', 2958), ('amazon!', 2959), ('crystals', 2960), ('date.', 2961), ('point.', 2962), ('serve', 2963), ('1383523200', 2964), ('1384646400', 2965), ('de', 2966), ('fitting,', 2967), ('khaki', 2968), ('old,', 2969), ('silver.', 2970), ('styles.', 2971), ('supportive,', 2972), ('supports', 2973), ('want.', 2974), ('water,', 2975), ('adorable!', 2976), ('and/or', 2977), ('fast,', 2978), ('link', 2979), ('sewing', 2980), ('timely', 2981), ('1392508800', 2982), ('1st', 2983), ('fasciitis', 2984), ('flannel', 2985), ('jackets', 2986), ('shrinkage', 2987), ('speak', 2988), ('brim', 2989), ('clunky', 2990), ('coat.', 2991), ('darn', 2992), ('indeed', 2993), ('jewelry,', 2994), ('pandora', 2995), ('pinch', 2996), ('sew', 2997), ('(even', 2998), ('1383177600', 2999), (\"5'4&#34;\", 3000), ('bathing', 3001), ('rubs', 3002), ('street', 3003), ('unusual', 3004), ('woman.', 3005), ('writing', 3006), ('1359504000', 3007), ('1371600000', 3008), ('companies', 3009), ('done.', 3010), ('drying', 3011), ('platform', 3012), ('prior', 3013), ('1381968000', 3014), ('1402876800', 3015), ('3x', 3016), ('adidas', 3017), ('baggy.', 3018), ('brother', 3019), ('crown', 3020), ('grand', 3021), ('happier', 3022), ('learned', 3023), ('mind.', 3024), ('toasty', 3025), ('1374019200', 3026), ('1394841600', 3027), ('1400284800', 3028), ('1403913600', 3029), ('condition', 3030), ('discomfort', 3031), ('ice', 3032), ('kinds', 3033), ('1395532800', 3034), ('1396051200', 3035), ('causes', 3036), ('china.', 3037), ('know,', 3038), ('polish', 3039), ('straps,', 3040), ('vendor', 3041), ('1358467200', 3042), ('arrived.', 3043), ('breath', 3044), ('deal,', 3045), ('draw', 3046), ('easily,', 3047), ('easy.', 3048), ('genuine', 3049), ('image', 3050), ('law', 3051), ('sense', 3052), ('1377561600', 3053), ('create', 3054), ('process', 3055), ('styling', 3056), ('washings', 3057), ('wiggle', 3058), ('workouts', 3059), ('1361491200', 3060), ('anywhere.', 3061), ('consistent', 3062), ('ground', 3063), ('items.', 3064), ('meet', 3065), ('squeeze', 3066), ('zumba', 3067), ('130', 3068), ('1375142400', 3069), ('1384041600', 3070), ('dressier', 3071), ('flap', 3072), ('self', 3073), ('works.', 3074), ('1380499200', 3075), ('1384560000', 3076), ('beauty', 3077), ('pumps', 3078), ('sticking', 3079), ('towards', 3080), ('1374192000', 3081), ('1375056000', 3082), ('1393632000', 3083), ('1401494400', 3084), ('fun.', 3085), ('knows', 3086), ('pounds.', 3087), ('requires', 3088), ('shipping,', 3089), ('solar', 3090), ('stretchy.', 3091), ('tape', 3092), ('trendy', 3093), ('willing', 3094), ('1373328000', 3095), ('1380844800', 3096), ('distance', 3097), ('elegant.', 3098), ('girl.', 3099), ('modern', 3100), ('places.', 3101), ('terribly', 3102), ('water.', 3103), ('both.', 3104), ('difference.', 3105), ('dye', 3106), ('fits,', 3107), ('lingerie', 3108), ('obvious', 3109), ('skirts.', 3110), ('tags', 3111), ('50', 3112), ('6.', 3113), ('footwear', 3114), ('laundry', 3115), ('needs.', 3116), ('sadly', 3117), ('shows.', 3118), ('slides', 3119), ('1377043200', 3120), ('1379548800', 3121), ('charcoal', 3122), ('loops', 3123), ('necessary', 3124), ('practically', 3125), ('rolls', 3126), ('run.', 3127), ('snugly', 3128), ('thread', 3129), ('tights.', 3130), ('wise', 3131), ('wrist,', 3132), ('1382400000', 3133), ('daughter,', 3134), ('em', 3135), ('happy!', 3136), ('mainly', 3137), ('replacing', 3138), ('scarves', 3139), ('1369094400', 3140), ('1380240000', 3141), ('bold', 3142), ('daughters', 3143), ('for!', 3144), ('fun,', 3145), ('funky', 3146), (\"hadn't\", 3147), ('head,', 3148), ('immediately.', 3149), ('included', 3150), ('lint', 3151), ('mix', 3152), ('money!', 3153), ('outdoors', 3154), ('recieved', 3155), ('uniform', 3156), ('1385856000', 3157), ('1387584000', 3158), (\"daughter's\", 3159), ('heels,', 3160), ('mary', 3161), ('risk', 3162), ('tote', 3163), ('1375747200', 3164), ('1377129600', 3165), ('cash', 3166), ('cycle', 3167), ('def', 3168), ('needing', 3169), ('pointy', 3170), ('statement', 3171), ('window', 3172), ('1355184000', 3173), ('1355270400', 3174), ('1357776000', 3175), ('1381276800', 3176), ('blister', 3177), ('dd', 3178), ('gifts.', 3179), ('pink,', 3180), ('playing', 3181), ('scratches', 3182), ('bikini', 3183), ('bounce', 3184), ('cold,', 3185), ('crocs.', 3186), ('excellent,', 3187), ('nervous', 3188), ('other.', 3189), ('spots', 3190), ('thighs.', 3191), ('capris', 3192), ('contacted', 3193), ('description.', 3194), ('dr.', 3195), ('necklaces', 3196), ('now!', 3197), ('1358985600', 3198), ('1398470400', 3199), ('24', 3200), ('aside', 3201), ('bent', 3202), ('delighted', 3203), ('did,', 3204), ('follow', 3205), ('have,', 3206), ('ill', 3207), ('part.', 3208), ('posts', 3209), ('rides', 3210), ('ridiculously', 3211), ('weird.', 3212), ('yr', 3213), ('1363737600', 3214), ('3/4', 3215), ('adjusting', 3216), ('hose', 3217), ('key', 3218), ('lasting', 3219), ('minimalist', 3220), ('muy', 3221), ('returns', 3222), ('shawl', 3223), ('stable', 3224), ('wearable', 3225), ('1360108800', 3226), ('big!', 3227), ('teenage', 3228), ('timberland', 3229), ('1396137600', 3230), ('country', 3231), ('describe', 3232), ('identical', 3233), ('it...', 3234), ('memory', 3235), ('much!', 3236), ('pro', 3237), ('1365465600', 3238), ('1366675200', 3239), ('1367971200', 3240), ('awesome,', 3241), ('hides', 3242), ('past.', 3243), ('shaft', 3244), ('show.', 3245), ('square', 3246), ('stuff.', 3247), ('1363824000', 3248), ('1381363200', 3249), ('performance', 3250), ('pin', 3251), ('polished', 3252), ('right!', 3253), ('versatile.', 3254), ('1366761600', 3255), ('1368057600', 3256), ('1371772800', 3257), ('1376611200', 3258), ('1379894400', 3259), ('1381708800', 3260), ('does.', 3261), ('dry,', 3262), ('female', 3263), ('maternity', 3264), ('panties.', 3265), ('pantyhose', 3266), ('1355788800', 3267), ('1358812800', 3268), ('1367798400', 3269), ('1376438400', 3270), ('1377734400', 3271), ('1379289600', 3272), ('cuts', 3273), ('myself,', 3274), ('paired', 3275), ('patterns', 3276), ('1382140800', 3277), ('1400889600', 3278), ('luckily', 3279), ('tall.', 3280), ('1357084800', 3281), ('1398556800', 3282), ('7,', 3283), ('buyer', 3284), ('custom', 3285), ('florida', 3286), ('lil', 3287), ('pendant.', 3288), ('1355702400', 3289), ('1381881600', 3290), ('1391904000', 3291), ('1x', 3292), ('appeared', 3293), ('driving', 3294), ('finally,', 3295), ('finger.', 3296), ('junk', 3297), ('know.', 3298), ('recommended!', 3299), (\"we've\", 3300), ('1369785600', 3301), ('brighter', 3302), ('calves.', 3303), ('changing', 3304), ('experienced', 3305), ('face,', 3306), ('hand,', 3307), ('information', 3308), ('reminds', 3309), ('road', 3310), ('superior', 3311), ('walmart', 3312), ('1365552000', 3313), ('1365638400', 3314), ('1367280000', 3315), ('1382918400', 3316), ('1396742400', 3317), ('1401062400', 3318), ('exception.', 3319), ('hospital', 3320), ('hurt.', 3321), ('moves', 3322), ('noted', 3323), ('slimming', 3324), ('1366329600', 3325), ('1385251200', 3326), ('body,', 3327), ('classy.', 3328), ('directly', 3329), ('dozen', 3330), ('drawback', 3331), ('following', 3332), ('grab', 3333), ('hips,', 3334), ('office.', 3335), (\"we're\", 3336), ('1355097600', 3337), ('1358294400', 3338), ('1364860800', 3339), ('1375401600', 3340), ('=', 3341), ('choices', 3342), ('dinner', 3343), ('expectations.', 3344), ('figure.', 3345), ('military', 3346), ('model,', 3347), ('refund.', 3348), ('reliable', 3349), ('specifically', 3350), ('trips', 3351), ('1374105600', 3352), ('1378252800', 3353), ('bc', 3354), ('complained', 3355), ('confortable', 3356), ('costs', 3357), ('hated', 3358), ('packed', 3359), ('rid', 3360), ('service.', 3361), ('teen', 3362), ('till', 3363), ('(size', 3364), ('1372377600', 3365), ('1373932800', 3366), ('1374451200', 3367), ('1393113600', 3368), ('bigger,', 3369), ('busted', 3370), ('busty', 3371), ('con', 3372), ('damage', 3373), ('disappointment', 3374), ('flat.', 3375), ('pure', 3376), ('shiny,', 3377), ('sleeves.', 3378), ('slimmer', 3379), ('sound', 3380), ('tightly', 3381), ('1368144000', 3382), ('1383955200', 3383), ('clothing,', 3384), ('costume.', 3385), ('degrees', 3386), ('drive', 3387), ('forgot', 3388), ('glasses.', 3389), ('handles', 3390), ('pale', 3391), ('shocked', 3392), ('smells', 3393), ('strong.', 3394), ('swiss', 3395), ('wicking', 3396), ('(at', 3397), ('1359072000', 3398), ('1379635200', 3399), ('1399161600', 3400), ('clark', 3401), ('cord', 3402), ('correctly', 3403), ('floors', 3404), ('height.', 3405), ('of.', 3406), ('people.', 3407), ('pump', 3408), ('rainy', 3409), ('suit.', 3410), ('though!', 3411), ('1358899200', 3412), ('1363564800', 3413), ('1364947200', 3414), ('jersey', 3415), ('market', 3416), ('meaning', 3417), ('shrink.', 3418), ('sticks', 3419), ('120', 3420), ('1371081600', 3421), ('1373500800', 3422), ('1403308800', 3423), ('accent', 3424), ('asking', 3425), ('chilly', 3426), ('clingy', 3427), ('odor', 3428), ('snag', 3429), ('tip', 3430), ('ways', 3431), ('1361836800', 3432), ('1369008000', 3433), ('1399075200', 3434), ('adequate', 3435), ('beginning', 3436), ('bonus', 3437), ('cutest', 3438), ('forever.', 3439), ('lets', 3440), ('occasion', 3441), ('plastic.', 3442), ('properly.', 3443), ('sparkles', 3444), ('wonderful!', 3445), ('1355875200', 3446), ('1361145600', 3447), ('1363046400', 3448), ('1369958400', 3449), ('1377216000', 3450), ('1397260800', 3451), ('commented', 3452), ('mixed', 3453), ('result', 3454), ('absolute', 3455), ('event', 3456), ('opinion,', 3457), ('pregnancy', 3458), ('reorder', 3459), ('room,', 3460), ('slipper.', 3461), ('tells', 3462), ('thumbs', 3463), ('undershirt', 3464), ('wallets', 3465), ('wrangler', 3466), ('1358208000', 3467), ('1360022400', 3468), ('1363305600', 3469), ('1372204800', 3470), ('contact', 3471), ('coral', 3472), ('coverage.', 3473), ('ears.', 3474), ('fallen', 3475), ('spanx', 3476), ('1369872000', 3477), ('1372723200', 3478), ('1374624000', 3479), ('bag!', 3480), ('clips', 3481), ('confident', 3482), ('fantastic!', 3483), ('it.i', 3484), ('muscular', 3485), ('occasion.', 3486), ('ribbon', 3487), ('shame', 3488), ('ups', 3489), ('wanted,', 3490), ('1360886400', 3491), ('1376092800', 3492), ('casual,', 3493), ('changes', 3494), ('dull', 3495), ('garter', 3496), ('intend', 3497), ('olive', 3498), ('reason.', 3499), ('soften', 3500), ('wet.', 3501), ('wished', 3502), ('1378771200', 3503), ('1378944000', 3504), ('1383350400', 3505), ('1403395200', 3506), ('brooks', 3507), ('convenient', 3508), ('cuffs', 3509), ('green,', 3510), ('limited', 3511), ('public', 3512), ('see-through', 3513), ('smallest', 3514), ('specific', 3515), ('trip.', 3516), ('1362960000', 3517), ('1370995200', 3518), ('1371427200', 3519), ('6,', 3520), ('disappointing.', 3521), ('gear', 3522), ('impressed.', 3523), ('initial', 3524), ('popular', 3525), ('retro', 3526), ('surface', 3527), ('suspect', 3528), ('1361750400', 3529), ('1366848000', 3530), ('1385596800', 3531), ('break-in', 3532), ('expected!', 3533), ('leopard', 3534), ('swimsuit', 3535), ('traveling', 3536), ('1357257600', 3537), ('1370908800', 3538), ('1371168000', 3539), ('1402099200', 3540), ('amazed', 3541), ('brands,', 3542), ('chest,', 3543), ('earrings!', 3544), ('flimsy.', 3545), ('lens', 3546), ('overall.', 3547), ('rounded', 3548), ('see.', 3549), ('silicone', 3550), ('smooth,', 3551), ('xl,', 3552), ('1361404800', 3553), ('1368489600', 3554), ('1372032000', 3555), ('1376352000', 3556), ('1402185600', 3557), (\"5'5&#34;\", 3558), ('beanie', 3559), ('el', 3560), ('extreme', 3561), ('mark', 3562), ('pounds,', 3563), ('power', 3564), ('priced.', 3565), ('sides.', 3566), ('tube', 3567), ('ample', 3568), ('cup.', 3569), ('door', 3570), ('folks', 3571), ('gloves.', 3572), ('sexy!', 3573), ('son,', 3574), ('stretch,', 3575), ('1369699200', 3576), ('favorites.', 3577), ('home,', 3578), ('issue,', 3579), (\"one's\", 3580), ('penny', 3581), ('printed', 3582), ('robe.', 3583), ('seamless', 3584), ('soft!', 3585), ('1368576000', 3586), ('1369180800', 3587), ('1369267200', 3588), ('1371686400', 3589), ('charge', 3590), ('chic', 3591), ('comparable', 3592), ('compartments', 3593), ('occasions.', 3594), ('paid.', 3595), ('tees', 3596), ('wedding.', 3597), ('1357516800', 3598), ('1360281600', 3599), ('1372118400', 3600), ('1374537600', 3601), ('appearance.', 3602), ('arms,', 3603), ('calvin', 3604), ('dresses,', 3605), ('legging', 3606), ('low.', 3607), ('off!', 3608), ('padding.', 3609), ('promptly', 3610), ('sleeveless', 3611), ('sooner', 3612), ('strap,', 3613), ('value,', 3614), ('1366934400', 3615), ('adorable,', 3616), ('count', 3617), ('covering', 3618), ('cream', 3619), ('diver', 3620), ('errands', 3621), ('es', 3622), (\"let's\", 3623), ('neck,', 3624), ('occasionally', 3625), ('r', 3626), ('smell.', 3627), ('sporty', 3628), ('state', 3629), ('sweats', 3630), ('1400371200', 3631), ('accessory', 3632), ('close.', 3633), ('everyone.', 3634), ('functions', 3635), ('gold.', 3636), ('meets', 3637), ('pad', 3638), ('period.', 3639), ('purse,', 3640), ('review,', 3641), ('1375228800', 3642), ('1397865600', 3643), ('1399766400', 3644), ('already.', 3645), ('balls', 3646), ('fuzzy', 3647), ('growing', 3648), ('info', 3649), ('interested', 3650), ('later.', 3651), ('modest', 3652), ('pointed', 3653), ('read.', 3654), ('sandal,', 3655), ('seen.', 3656), ('shoulders,', 3657), ('slacks.', 3658), ('some.', 3659), ('wear!', 3660), ('1365724800', 3661), ('1370476800', 3662), ('1376697600', 3663), ('bracelet,', 3664), ('briefs.', 3665), ('chocolate', 3666), ('construction.', 3667), ('doctor', 3668), ('screen', 3669), ('silver,', 3670), ('unable', 3671), ('vs', 3672), ('1356912000', 3673), ('1362614400', 3674), ('capri', 3675), ('clean.', 3676), ('elegant,', 3677), ('end.', 3678), ('fly', 3679), ('itself.', 3680), ('line,', 3681), ('longer,', 3682), ('mall', 3683), ('met', 3684), ('movement.', 3685), ('removable', 3686), ('searched', 3687), ('toe,', 3688), ('upcoming', 3689), ('1365120000', 3690), ('1382745600', 3691), ('2-3', 3692), ('calves,', 3693), ('clasps', 3694), ('dead', 3695), ('favorites', 3696), ('flats.', 3697), ('height,', 3698), ('marked', 3699), ('occasions', 3700), ('pictures.', 3701), ('roomy.', 3702), ('sunglasses.', 3703), ('title', 3704), ('1353974400', 3705), ('1366243200', 3706), ('1370304000', 3707), ('expecting.', 3708), ('gotta', 3709), ('hands.', 3710), ('knock', 3711), ('month.', 3712), ('opposed', 3713), ('outside,', 3714), ('reason,', 3715), ('talking', 3716), ('web', 3717), (\"'em\", 3718), ('(with', 3719), ('1355356800', 3720), ('1360713600', 3721), ('1362441600', 3722), ('1366588800', 3723), ('1367452800', 3724), ('1397952000', 3725), ('1399680000', 3726), ('digging', 3727), ('prepared', 3728), ('quartz', 3729), ('sale.', 3730), ('sparkle.', 3731), ('tried.', 3732), ('butt.', 3733), ('contrast', 3734), ('exchanged', 3735), ('expect.', 3736), ('flowy', 3737), ('glued', 3738), ('own,', 3739), ('stitched', 3740), ('tops,', 3741), ('trick.', 3742), ('underwear,', 3743), ('while,', 3744), ('1356825600', 3745), ('1375488000', 3746), ('1375660800', 3747), (\"5'4\", 3748), (':', 3749), ('camisole', 3750), ('chain,', 3751), ('her,', 3752), ('lives', 3753), ('looks,', 3754), (\"man's\", 3755), ('sandals!', 3756), ('serves', 3757), ('today,', 3758), ('$100', 3759), ('1356739200', 3760), ('4th', 3761), ('broad', 3762), ('impression', 3763), ('justice.', 3764), ('keens', 3765), ('moderate', 3766), ('pjs', 3767), (\"son's\", 3768), ('split', 3769), ('tanks', 3770), ('trick', 3771), ('vanity', 3772), ('1357862400', 3773), ('1361318400', 3774), ('1372291200', 3775), ('1377475200', 3776), ('amazing,', 3777), ('assume', 3778), ('bearpaw', 3779), ('colours', 3780), ('e', 3781), ('finished', 3782), ('further', 3783), ('junior', 3784), ('others,', 3785), ('pleasant', 3786), ('pulls', 3787), ('recomend', 3788), ('royal', 3789), ('seven', 3790), ('slouchy', 3791), ('suited', 3792), ('surprised.', 3793), ('tho', 3794), ('type.', 3795), ('1356048000', 3796), ('1358380800', 3797), ('1359590400', 3798), ('1368748800', 3799), ('1375833600', 3800), ('25', 3801), ('blisters.', 3802), ('cards.', 3803), ('everything,', 3804), ('from.', 3805), ('gift!', 3806), ('girls.', 3807), ('little,', 3808), ('no,', 3809), ('scratched', 3810), ('sooooo', 3811), ('toddler', 3812), ('washing,', 3813), ('1368403200', 3814), ('1377820800', 3815), ('1400976000', 3816), ('babies', 3817), ('blouse.', 3818), ('fall.', 3819), ('gorgeous,', 3820), ('hidden', 3821), ('holder', 3822), ('skirts,', 3823), ('ua', 3824), ('wood', 3825), ('1373068800', 3826), ('1379203200', 3827), ('1382313600', 3828), ('free.', 3829), ('med', 3830), ('package,', 3831), ('points', 3832), ('wonderful,', 3833), ('1361923200', 3834), ('1373846400', 3835), ('1397347200', 3836), ('access', 3837), ('asian', 3838), ('cleaning', 3839), ('hear', 3840), ('hours,', 3841), ('materials.', 3842), ('signs', 3843), ('were.', 3844), ('1359331200', 3845), ('1374710400', 3846), ('140', 3847), ('accidentally', 3848), ('curve', 3849), ('did!', 3850), ('flowers', 3851), ('him,', 3852), ('night,', 3853), ('shiny.', 3854), ('sock,', 3855), ('think.', 3856), ('tied', 3857), ('waited', 3858), ('1354665600', 3859), ('1367366400', 3860), ('boot!', 3861), ('defective', 3862), ('dropped', 3863), ('durability.', 3864), ('fresh', 3865), ('largest', 3866), ('male', 3867), ('ordering.', 3868), ('wow,', 3869), ('1354579200', 3870), ('1362528000', 3871), ('bright,', 3872), ('citizen', 3873), ('college', 3874), ('cruise', 3875), ('grocery', 3876), ('profile', 3877), ('season.', 3878), ('through,', 3879), ('via', 3880), ('1357603200', 3881), ('1357689600', 3882), ('1358121600', 3883), ('ability', 3884), ('incredible', 3885), ('princess', 3886), ('staying', 3887), ('+', 3888), ('1357430400', 3889), ('1363651200', 3890), ('1364515200', 3891), ('1367193600', 3892), ('best!', 3893), ('common', 3894), ('etc', 3895), ('honestly,', 3896), ('indoor', 3897), ('inexpensive,', 3898), ('isnt', 3899), ('neon', 3900), ('owl', 3901), ('piece,', 3902), ('russell', 3903), ('thanks!', 3904), ('version.', 3905), ('1364256000', 3906), ('constant', 3907), ('delivery.', 3908), ('different,', 3909), ('discount', 3910), ('god', 3911), ('golf', 3912), ('hat!', 3913), ('low,', 3914), ('sapphire', 3915), ('sweater,', 3916), ('thought,', 3917), ('walk,', 3918), ('1355961600', 3919), ('1360972800', 3920), ('1364342400', 3921), ('1367539200', 3922), ('flare', 3923), ('highest', 3924), ('lo', 3925), ('orthotics', 3926), ('skull', 3927), ('1374364800', 3928), ('200', 3929), ('crocs,', 3930), ('hurts', 3931), ('pencil', 3932), ('providing', 3933), ('1373414400', 3934), ('1378512000', 3935), (\"5'3\", 3936), (\"5'6\", 3937), ('amber', 3938), ('however.', 3939), ('packs', 3940), ('rocks', 3941), ('spray', 3942), ('1359417600', 3943), ('1375920000', 3944), ('becoming', 3945), ('chronograph', 3946), ('entirely', 3947), ('greatest', 3948), ('position', 3949), ('sanuk', 3950), ('screw', 3951), ('secret', 3952), ('significant', 3953), ('star.', 3954), ('trunks', 3955), ('upset', 3956), ('weeks,', 3957), ('1362009600', 3958), ('1371513600', 3959), ('1372809600', 3960), ('1379030400', 3961), ('concrete', 3962), ('dream', 3963), ('factor', 3964), ('hurting', 3965), ('mentioned,', 3966), ('penny.', 3967), ('rolling', 3968), ('roomy,', 3969), ('safety', 3970), ('sand', 3971), ('scarf,', 3972), ('stain', 3973), ('useless', 3974), ('wife,', 3975), ('woman,', 3976), ('1356998400', 3977), ('1358726400', 3978), ('1364428800', 3979), ('1372636800', 3980), ('1402704000', 3981), ('150', 3982), ('chested', 3983), ('city', 3984), ('diaper', 3985), ('flat,', 3986), (\"here's\", 3987), ('otherwise.', 3988), ('seller,', 3989), ('silly', 3990), ('sloppy', 3991), ('soles.', 3992), ('spare', 3993), ('thought.', 3994), ('1359849600', 3995), ('1374796800', 3996), ('1377907200', 3997), (\"5'7&#34;\", 3998), (\"5'8&#34;\", 3999), ('alarm', 4000), ('becomes', 4001), ('breathable.', 4002), ('bust.', 4003), ('deal!', 4004), ('dive', 4005), ('holiday', 4006), ('honest', 4007), ('infinity', 4008), ('nurse', 4009), ('repair', 4010), ('steal', 4011), ('taste', 4012), ('us.', 4013), ('1391299200', 4014), ('cozy.', 4015), ('either,', 4016), ('guess.', 4017), ('ordered,', 4018), ('pinky', 4019), ('question', 4020), ('should.', 4021), ('snow.', 4022), ('warmers', 4023), ('wondering', 4024), ('1365379200', 4025), ('1369353600', 4026), ('1370822400', 4027), ('1374883200', 4028), ('annoying.', 4029), ('badly', 4030), ('disappointed!', 4031), ('juniors', 4032), ('recipient', 4033), ('regularly', 4034), ('(just', 4035), ('1370736000', 4036), ('breasts.', 4037), ('correctly.', 4038), ('grown', 4039), ('taste.', 4040), ('x-large', 4041), ('bright.', 4042), ('bronze', 4043), ('burgundy', 4044), ('care.', 4045), ('developed', 4046), ('dressing', 4047), ('help.', 4048), ('ii', 4049), ('normal.', 4050), ('purple.', 4051), ('reebok', 4052), ('slip-on', 4053), ('slip.', 4054), ('strongly', 4055), ('true,', 4056), ('wearing,', 4057), ('....', 4058), ('1/2.', 4059), ('1358035200', 4060), ('1370563200', 4061), ('1375315200', 4062), ('adjustable.', 4063), ('advise', 4064), ('allowed', 4065), ('cup,', 4066), ('difficulty', 4067), ('everywhere.', 4068), ('father', 4069), ('feeling.', 4070), ('g', 4071), ('moved', 4072), ('rolex', 4073), ('target', 4074), ('wet,', 4075), ('wick', 4076), ('(although', 4077), ('1357344000', 4078), ('1374969600', 4079), ('bust,', 4080), ('dark.', 4081), ('exceptionally', 4082), ('less.', 4083), ('manufacturers', 4084), ('order,', 4085), ('snow,', 4086), ('stores,', 4087), ('(so', 4088), ('1359936000', 4089), ('1360627200', 4090), ('1364169600', 4091), (\"5'2&#34;\", 4092), (\"5'7\", 4093), ('best,', 4094), ('enjoying', 4095), ('experience.', 4096), ('include', 4097), ('option.', 4098), ('posted', 4099), ('stability', 4100), ('states', 4101), ('sun.', 4102), ('1360540800', 4103), (\"5'6&#34;\", 4104), ('away,', 4105), ('children', 4106), ('girl,', 4107), ('inches.', 4108), ('inexpensive.', 4109), (\"mother's\", 4110), ('paint', 4111), ('rings.', 4112), ('said.', 4113), ('teal', 4114), ('that!', 4115), ('twist', 4116), ('1354752000', 4117), ('1356307200', 4118), ('1360800000', 4119), ('1365984000', 4120), ('attach', 4121), ('frequently', 4122), ('jeweler', 4123), ('needless', 4124), ('onesies', 4125), ('press', 4126), ('them.i', 4127), ('undershirts', 4128), ('1360454400', 4129), ('1362268800', 4130), ('1381536000', 4131), (\"5'5\", 4132), ('bending', 4133), ('coin', 4134), ('flatter', 4135), ('hot,', 4136), ('lining.', 4137), ('note:', 4138), ('omg', 4139), ('sadly,', 4140), ('series', 4141), ('two,', 4142), ('125', 4143), ('1355616000', 4144), ('1363910400', 4145), ('bulk', 4146), ('chunky', 4147), ('class.', 4148), ('garden', 4149), ('pins', 4150), ('puts', 4151), ('solution', 4152), ('sweat.', 4153), ('switched', 4154), ('wasnt', 4155), ('$50', 4156), ('1382227200', 4157), ('3-4', 4158), ('activities', 4159), ('bed.', 4160), ('chemical', 4161), ('closely', 4162), ('cuz', 4163), ('depends', 4164), ('irritate', 4165), ('opaque', 4166), ('run,', 4167), ('soo', 4168), ('treat', 4169), ('with,', 4170), ('~', 4171), ('1358553600', 4172), ('1363132800', 4173), ('1379116800', 4174), ('1401580800', 4175), ('beach.', 4176), ('binding', 4177), ('church', 4178), ('gold,', 4179), ('pairs,', 4180), ('pattern.', 4181), ('strong,', 4182), ('tights,', 4183), ('uncomfortably', 4184), ('1378684800', 4185), ('bar', 4186), ('bone', 4187), ('compliments!', 4188), ('fear', 4189), ('gained', 4190), ('hoop', 4191), ('pashmina', 4192), ('phone,', 4193), ('products,', 4194), ('replacement.', 4195), ('staple', 4196), ('stood', 4197), ('torn', 4198), ('wacoal', 4199), ('well-made,', 4200), ('1370217600', 4201), ('1373760000', 4202), ('1402790400', 4203), ('fan.', 4204), ('later,', 4205), ('most.', 4206), ('plated', 4207), ('thighs,', 4208), ('warmth.', 4209), ('12.', 4210), ('1353888000', 4211), ('beat.', 4212), ('damaged', 4213), ('dancing', 4214), ('glow', 4215), ('handsome', 4216), ('loafers', 4217), ('past,', 4218), ('slouch', 4219), ('swarovski', 4220), ('taupe', 4221), ('telling', 4222), ('vibram', 4223), ('(though', 4224), ('1373587200', 4225), ('checking', 4226), ('comparison', 4227), ('feminine.', 4228), ('liners', 4229), ('molded', 4230), (\"pj's\", 4231), ('shell', 4232), ('talk', 4233), ('value!', 4234), ('1364774400', 4235), ('1372896000', 4236), ('1382832000', 4237), ('2.', 4238), (\"5'2\", 4239), (\"5'3&#34;\", 4240), ('affordable.', 4241), ('bear', 4242), ('calf.', 4243), ('chart.', 4244), ('impressive', 4245), ('kick', 4246), ('pocket,', 4247), ('toward', 4248), ('track', 4249), ('ultra', 4250), ('unique.', 4251), ('wrote', 4252), ('1361664000', 4253), ('1372982400', 4254), ('boxy', 4255), ('computer', 4256), ('freezing', 4257), ('lot!', 4258), ('mold', 4259), ('received.', 4260), ('seat', 4261), ('shrank', 4262), ('strip', 4263), ('sweatpants', 4264), ('tendency', 4265), ('theses', 4266), ('ware', 4267), ('1355011200', 4268), ('1380931200', 4269), ('alright', 4270), ('amazon.com', 4271), ('bulky,', 4272), ('china,', 4273), ('chinese', 4274), ('christmas,', 4275), ('closet.', 4276), ('dislike', 4277), ('job,', 4278), ('learn', 4279), ('missed', 4280), ('reasonable.', 4281), ('regarding', 4282), ('stripes', 4283), ('turning', 4284), ('$30', 4285), ('1356393600', 4286), ('1357948800', 4287), ('1362700800', 4288), ('1368835200', 4289), ('acceptable', 4290), ('brilliant', 4291), ('enjoys', 4292), ('equally', 4293), ('flip-flops', 4294), ('grey.', 4295), ('measurement', 4296), ('o', 4297), ('once.', 4298), ('rockport', 4299), ('titanium', 4300), ('waisted', 4301), ('baby.', 4302), ('drapes', 4303), ('estimated', 4304), ('exceeded', 4305), ('shoulder.', 4306), ('shrinks', 4307), ('softness', 4308), ('tailored', 4309), ('zipper.', 4310), ('1360195200', 4311), ('1362096000', 4312), ('1379980800', 4313), ('1404000000', 4314), ('42', 4315), ('5.', 4316), ('complaining', 4317), ('hiking,', 4318), ('only.', 4319), ('part,', 4320), ('research', 4321), ('reviewed', 4322), ('ridiculous', 4323), ('scrubs', 4324), ('smooth.', 4325), ('suspenders', 4326), ('things,', 4327), ('town.', 4328), ('wears.', 4329), ('work!', 4330), ('1362787200', 4331), ('arch.', 4332), ('constructed.', 4333), ('disappoint.', 4334), ('disappointment.', 4335), ('engagement', 4336), ('flops,', 4337), ('frame.', 4338), ('gerber', 4339), ('hard.', 4340), ('ironing', 4341), ('jane', 4342), ('lived', 4343), ('occasional', 4344), ('peacock', 4345), ('shift', 4346), ('shrinkage.', 4347), ('sign', 4348), ('size)', 4349), ('them...', 4350), ('weak', 4351), ('1/2,', 4352), ('bills', 4353), ('buckles', 4354), ('cole', 4355), ('daily.', 4356), ('floor.', 4357), ('helps.', 4358), ('hoped.', 4359), ('huge,', 4360), ('metallic', 4361), ('naturalizer', 4362), ('regardless', 4363), ('tested', 4364), ('1365033600', 4365), ('1379721600', 4366), (\"6'\", 4367), ('breathable,', 4368), ('disappointed,', 4369), ('elsewhere.', 4370), ('loafer', 4371), ('note,', 4372), ('pain,', 4373), ('shaping', 4374), ('t-shirts.', 4375), ('them!!!', 4376), ('usual.', 4377), ('wrong,', 4378), ('---', 4379), ('1381017600', 4380), ('clasp.', 4381), ('conservative', 4382), ('exposed', 4383), ('fiance', 4384), ('happy,', 4385), ('heck', 4386), ('match.', 4387), ('mess', 4388), ('mud', 4389), ('newer', 4390), ('removing', 4391), ('sticky', 4392), ('sure,', 4393), ('1365206400', 4394), ('1368662400', 4395), ('1377648000', 4396), ('1381622400', 4397), ('broke.', 4398), ('bunion', 4399), ('dark,', 4400), ('embroidery', 4401), ('eyes.', 4402), ('pic.', 4403), ('scrub', 4404), ('since.', 4405), ('slick', 4406), ('sneakers,', 4407), ('thrown', 4408), ('xmas', 4409), ('1359676800', 4410), ('bulge', 4411), ('comfort!', 4412), ('crap', 4413), ('described,', 4414), ('huge!', 4415), ('indoors', 4416), ('instantly', 4417), ('leotard', 4418), ('nipples', 4419), ('school.', 4420), ('sleeved', 4421), ('5.5', 4422), ('analog', 4423), ('fun!', 4424), ('great!!', 4425), ('guide', 4426), ('hence', 4427), ('highs', 4428), ('listened', 4429), ('manufacturing', 4430), ('mediums', 4431), ('oddly', 4432), ('proof', 4433), ('read,', 4434), ('sellers', 4435), ('shelf', 4436), ('superb', 4437), ('1369440000', 4438), ('1372550400', 4439), ('blazer', 4440), ('cubic', 4441), ('purses', 4442), ('secure.', 4443), ('unsure', 4444), ('weighs', 4445), ('1371945600', 4446), ('adjustable,', 4447), ('ankles,', 4448), ('booty', 4449), ('discomfort.', 4450), ('disney', 4451), (\"don't.\", 4452), ('eight', 4453), ('hair.', 4454), ('lays', 4455), ('man.', 4456), ('pant.', 4457), ('prompt', 4458), ('rare', 4459), ('struggle', 4460), ('tshirt', 4461), ('warranty', 4462), ('was,', 4463), ('wires', 4464), ('1362355200', 4465), (':d', 4466), ('activities.', 4467), ('actually,', 4468), ('ear.', 4469), ('fading', 4470), ('flaw', 4471), ('lacing', 4472), ('opted', 4473), ('pendants', 4474), ('walks.', 4475), ('1363219200', 4476), ('1369612800', 4477), ('1371859200', 4478), ('1376870400', 4479), ('1377302400', 4480), ('ankle,', 4481), ('block', 4482), ('combo', 4483), ('drape', 4484), ('keys', 4485), ('liking', 4486), ('manual', 4487), ('reasons', 4488), ('securely', 4489), ('surprise.', 4490), ('system', 4491), ('11.5', 4492), ('12,', 4493), ('1378080000', 4494), ('classy,', 4495), ('construction,', 4496), ('correct.', 4497), ('cozy,', 4498), ('dressy.', 4499), ('issues,', 4500), ('necessarily', 4501), ('remain', 4502), ('runners', 4503), ('same,', 4504), ('wouldnt', 4505), ('11.', 4506), ('amethyst', 4507), ('customers', 4508), ('date,', 4509), ('feature.', 4510), ('heads', 4511), ('led', 4512), ('luv', 4513), ('microfiber', 4514), ('once,', 4515), ('slippers!', 4516), ('1359158400', 4517), ('1368230400', 4518), ('allowing', 4519), ('european', 4520), ('mm', 4521), ('passed', 4522), ('pj', 4523), ('rigid', 4524), ('vary', 4525), ('1354924800', 4526), ('1377388800', 4527), ('animal', 4528), ('cute!!', 4529), ('excellent!', 4530), ('hue', 4531), ('humid', 4532), ('point,', 4533), ('possible.', 4534), ('sounds', 4535), ('win', 4536), ('woven', 4537), ('(on', 4538), ('alittle', 4539), ('breathes', 4540), ('flaws', 4541), ('flimsy,', 4542), ('functional.', 4543), ('knot', 4544), ('last,', 4545), ('managed', 4546), ('poke', 4547), ('shaper', 4548), ('simple.', 4549), ('versions', 4550), (\"wife's\", 4551), ('winters', 4552), ('worn,', 4553), ('belt!', 4554), ('bet', 4555), ('cinch', 4556), ('conditions.', 4557), ('desert', 4558), ('dogs', 4559), ('fitness', 4560), ('hey,', 4561), ('it.the', 4562), ('jogging', 4563), ('jump', 4564), ('minutes.', 4565), ('new,', 4566), ('over,', 4567), ('que', 4568), ('step.', 4569), ('term', 4570), ('winner', 4571), ('1362182400', 4572), ('addition,', 4573), ('arthritis', 4574), ('cups.', 4575), ('definite', 4576), (\"didn't.\", 4577), ('easy,', 4578), ('everybody', 4579), ('flashy', 4580), ('glasses,', 4581), ('loosely', 4582), ('matte', 4583), ('measures', 4584), ('mild', 4585), ('month,', 4586), ('present.', 4587), ('real.', 4588), ('yeah,', 4589), ('zirconia', 4590), ('(especially', 4591), ('1361059200', 4592), ('1370649600', 4593), ('1376784000', 4594), ('60', 4595), ('board', 4596), ('buyers', 4597), ('earings', 4598), ('email', 4599), ('finds', 4600), ('floral', 4601), ('g-shock', 4602), ('idea.', 4603), ('member', 4604), ('seriously,', 4605), ('stains', 4606), ('thanks.', 4607), ('watching', 4608), ('1365897600', 4609), ('1375574400', 4610), ('1378598400', 4611), ('4e', 4612), ('company,', 4613), ('cushiony', 4614), ('hey', 4615), ('loosened', 4616), ('nights', 4617), ('report', 4618), ('shrinking', 4619), ('spirit', 4620), ('together,', 4621), ('trash', 4622), ('written', 4623), ('(to', 4624), ('1371340800', 4625), ('1376179200', 4626), ('1380585600', 4627), ('allergic', 4628), ('busy', 4629), ('catching', 4630), ('come.', 4631), ('comfortably,', 4632), ('complimented', 4633), ('exceptional', 4634), ('ft', 4635), ('gray.', 4636), ('gym,', 4637), ('hiking.', 4638), ('me)', 4639), ('mountain', 4640), ('reordered', 4641), ('saving', 4642), ('stuff,', 4643), ('styles,', 4644), ('weave', 4645), ('(this', 4646), ('1359244800', 4647), ('1362873600', 4648), ('claims', 4649), ('cowboy', 4650), ('end,', 4651), ('guy.', 4652), ('hoops', 4653), ('necklace!', 4654), ('puma', 4655), ('rating.', 4656), ('reccomend', 4657), ('scoop', 4658), ('second,', 4659), ('stops', 4660), ('tiny.', 4661), ('travel.', 4662), ('velvet', 4663), ('washed.', 4664), (\"who's\", 4665), ('windy', 4666), ('women,', 4667), ('135', 4668), ('1372464000', 4669), ('1379376000', 4670), ('account', 4671), ('alone.', 4672), ('cardboard', 4673), ('cheap!', 4674), ('conditions', 4675), ('craftsmanship', 4676), ('flex', 4677), ('gain', 4678), ('heat.', 4679), ('husbands', 4680), ('improved', 4681), ('look!', 4682), ('protected', 4683), ('remind', 4684), ('significantly', 4685), ('sweating', 4686), ('tempted', 4687), ('terrible.', 4688), ('undone', 4689), ('1354838400', 4690), ('1356220800', 4691), ('budget', 4692), ('buying.', 4693), ('creates', 4694), ('effort', 4695), ('openings', 4696), ('plastic,', 4697), ('purple,', 4698), ('sakkas', 4699), ('set,', 4700), ('sheer,', 4701), ('surely', 4702), ('temperature', 4703), ('uneven', 4704), ('1354147200', 4705), ('1367107200', 4706), ('1373155200', 4707), ('cushioning.', 4708), ('flows', 4709), ('internet', 4710), ('kitty', 4711), ('loss', 4712), ('lovely!', 4713), ('mine,', 4714), ('mom.', 4715), ('rain,', 4716), ('recommendation', 4717), ('update:', 4718), ('1367625600', 4719), ('1379808000', 4720), ('consistently', 4721), ('frames', 4722), ('giant', 4723), ('hello', 4724), ('improve', 4725), ('layered', 4726), ('long!', 4727), ('mat', 4728), ('packing', 4729), ('plush', 4730), ('problems,', 4731), ('protection.', 4732), ('pushed', 4733), ('rhinestones', 4734), ('sheen', 4735), ('sides,', 4736), ('therefore,', 4737), ('wrong!', 4738), ('1361577600', 4739), ('1373673600', 4740), ('1380326400', 4741), ('@', 4742), ('always,', 4743), ('anytime', 4744), ('arch,', 4745), ('arm.', 4746), ('but....', 4747), ('compartment', 4748), ('garment.', 4749), ('grey,', 4750), ('isotoner', 4751), ('lite', 4752), ('maintain', 4753), ('panel', 4754), ('pewter', 4755), ('spring.', 4756), ('structure', 4757), ('style!', 4758), ('throwing', 4759), ('trails', 4760), ('unisex', 4761), ('0', 4762), ('1363996800', 4763), ('baggy,', 4764), ('book', 4765), ('bothered', 4766), ('breaks', 4767), ('briefs,', 4768), ('cling', 4769), ('favor', 4770), ('filled', 4771), ('mail.', 4772), ('noticeable.', 4773), ('packaging.', 4774), ('people,', 4775), ('rain.', 4776), ('setting.', 4777), ('wasted', 4778), (\"(it's\", 4779), ('1353715200', 4780), ('1354233600', 4781), ('1354492800', 4782), ('1366416000', 4783), ('1374278400', 4784), ('among', 4785), ('blouses', 4786), ('bottle', 4787), ('button.', 4788), ('circulation', 4789), ('clock', 4790), ('concept', 4791), ('created', 4792), ('gripe', 4793), ('half-size', 4794), ('happier.', 4795), ('happily', 4796), ('lazy', 4797), ('nipple', 4798), ('print.', 4799), ('repeat', 4800), ('solid,', 4801), ('solved', 4802), ('zipped', 4803), ('115', 4804), ('bind', 4805), ('chance.', 4806), ('detailed', 4807), ('diameter', 4808), ('digs', 4809), ('fabrics', 4810), ('flexible.', 4811), ('guy,', 4812), ('liked.', 4813), ('medical', 4814), ('multi', 4815), ('often,', 4816), ('proud', 4817), ('shipment', 4818), ('slid', 4819), ('tell.', 4820), ('temperatures', 4821), ('tie.', 4822), ('topaz', 4823), ('toy', 4824), ('warn', 4825), ('well-made.', 4826), ('wrinkled', 4827), ('1/4', 4828), ('1359763200', 4829), ('1367020800', 4830), ('abuse', 4831), ('army', 4832), ('birkenstock', 4833), ('bumps', 4834), ('carried', 4835), ('conform', 4836), ('continues', 4837), ('cushion.', 4838), ('horrible.', 4839), ('in!', 4840), ('middle.', 4841), ('mirror', 4842), ('nimbus', 4843), ('policy', 4844), ('shoes!!', 4845), ('snake', 4846), ('airy', 4847), ('awful.', 4848), ('bunched', 4849), ('casually', 4850), ('chart,', 4851), ('couldnt', 4852), ('dangle', 4853), ('ensure', 4854), ('folds', 4855), ('goodness', 4856), ('haggar', 4857), ('loud', 4858), ('moon', 4859), ('packaged.', 4860), ('pajamas.', 4861), ('para', 4862), ('protects', 4863), ('pushing', 4864), ('storage', 4865), ('treadmill', 4866), ('vacation.', 4867), ('virtually', 4868), ('workouts.', 4869), ('(maybe', 4870), ('(that', 4871), ('.i', 4872), ('1365811200', 4873), ('1370044800', 4874), ('accents', 4875), ('accurate,', 4876), ('back!', 4877), ('bought,', 4878), ('claim', 4879), ('exception', 4880), ('exercising', 4881), ('fragile', 4882), ('laces.', 4883), ('leggings!', 4884), ('lines.', 4885), ('muscles', 4886), ('orthotic', 4887), ('put.', 4888), ('quarter', 4889), ('soles,', 4890), ('ugly.', 4891), ('1358640000', 4892), (\"5'10&#34;\", 4893), ('atomic', 4894), ('booties', 4895), ('breeze', 4896), ('bunching', 4897), ('can.', 4898), ('change.', 4899), ('drag', 4900), ('else,', 4901), ('elsewhere', 4902), ('got.', 4903), ('grew', 4904), ('picture!', 4905), ('seams.', 4906), ('sells', 4907), ('sister.', 4908), ('stupid', 4909), ('temps', 4910), ('terry', 4911), ('whose', 4912), ('wrists.', 4913), ('1367712000', 4914), ('1380412800', 4915), ('17', 4916), ('assumed', 4917), ('differently', 4918), ('fluffy', 4919), ('found.', 4920), ('knees,', 4921), ('labeled', 4922), ('light-weight', 4923), ('offering', 4924), ('page', 4925), ('prevents', 4926), ('range.', 4927), ('results', 4928), ('sons', 4929), ('special.', 4930), ('stones.', 4931), ('those.', 4932), ('tile', 4933), ('view', 4934), ('waterproof.', 4935), ('wearable.', 4936), ('$5', 4937), ('1354406400', 4938), ('1365292800', 4939), ('1368316800', 4940), ('authentic', 4941), ('beach,', 4942), ('benefit', 4943), ('capezio', 4944), ('errands.', 4945), ('guessing', 4946), ('instead,', 4947), ('keds', 4948), ('materials,', 4949), ('nail', 4950), ('navy,', 4951), ('reduce', 4952), ('ryka', 4953), ('security', 4954), ('sheer.', 4955), ('sized.', 4956), ('usual,', 4957), ('world.', 4958), ('(very', 4959), ('1360368000', 4960), ('absorb', 4961), ('better!', 4962), ('build.', 4963), ('bump', 4964), ('clogs.', 4965), ('everyday,', 4966), ('flexible,', 4967), ('flow', 4968), ('gray,', 4969), ('hourglass', 4970), ('includes', 4971), ('indiglo', 4972), ('me...', 4973), ('misleading', 4974), ('naturally', 4975), ('pleased!', 4976), ('primarily', 4977), ('prints', 4978), ('reaction', 4979), ('right?', 4980), ('sheepskin', 4981), ('shopping.', 4982), ('stated,', 4983), ('stated.', 4984), ('suffer', 4985), ('unhappy', 4986), ('waistline', 4987), ('website.', 4988), ('workout.', 4989), ('&#34;', 4990), ('(you', 4991), ('1355529600', 4992), ('33', 4993), (\"5'9&#34;\", 4994), ('affect', 4995), ('bang', 4996), ('bargain.', 4997), ('carries', 4998), ('familiar', 4999), ('floors.', 5000), ('girdle', 5001), ('holes.', 5002), ('ladies,', 5003), ('lately', 5004), ('m.', 5005), ('mean,', 5006), ('padding,', 5007), ('planned', 5008), ('reinforced', 5009), ('remains', 5010), ('sat', 5011), ('say?', 5012), ('sleeves,', 5013), ('underwires', 5014), ('8.5.', 5015), ('attempt', 5016), ('caution', 5017), ('coat,', 5018), ('coloring', 5019), ('excess', 5020), ('fourth', 5021), ('garments', 5022), ('glamorise', 5023), ('go,', 5024), (\"it'd\", 5025), ('motorcycle', 5026), ('quick.', 5027), ('shapes', 5028), ('spare.', 5029), ('stress', 5030), ('sunglasses,', 5031), ('tightness', 5032), ('underneath,', 5033), ('visor', 5034), ('1369526400', 5035), ('1371254400', 5036), ('boxers.', 5037), ('combat', 5038), ('constructed,', 5039), ('dissapointed', 5040), ('distances', 5041), ('dots', 5042), ('hint', 5043), ('hitting', 5044), ('indicated', 5045), ('it..', 5046), ('luxurious', 5047), ('made!', 5048), ('noise', 5049), ('prefers', 5050), ('ridiculous.', 5051), ('ruin', 5052), ('shorten', 5053), ('shorter.', 5054), ('uppers', 5055), ('used.', 5056), ('wicks', 5057), ('35', 5058), (\"baby's\", 5059), ('boob', 5060), ('dryer,', 5061), ('family.', 5062), ('hands,', 5063), ('overpriced', 5064), ('raised', 5065), ('really.', 5066), ('scratchy.', 5067), ('scuff', 5068), ('slow', 5069), ('tricky', 5070), ('charged', 5071), ('complain.', 5072), ('failed', 5073), ('ground.', 5074), ('jumping', 5075), ('knee,', 5076), ('man,', 5077), ('north', 5078), ('park', 5079), ('party.', 5080), ('revealing', 5081), ('sink', 5082), ('site.', 5083), ('solve', 5084), ('south', 5085), ('toss', 5086), ('wearer', 5087), ('1353024000', 5088), ('1366502400', 5089), ('approximately', 5090), ('areas.', 5091), ('batteries', 5092), ('camping', 5093), ('catches', 5094), ('dc', 5095), ('delicate,', 5096), ('diamonds.', 5097), ('forefoot', 5098), ('hemmed', 5099), ('irritating', 5100), ('ivory', 5101), ('lock', 5102), ('mistake.', 5103), ('polarized', 5104), ('served', 5105), ('share', 5106), ('skirt!', 5107), ('smelled', 5108), ('110', 5109), ('1355443200', 5110), ('activity', 5111), ('answer', 5112), ('bummed', 5113), ('cashmere', 5114), ('combined', 5115), ('deeper', 5116), ('detail.', 5117), ('effective', 5118), ('en', 5119), ('fashionable.', 5120), ('flop.', 5121), ('frye', 5122), ('heather', 5123), ('itchy.', 5124), ('mask', 5125), ('minus', 5126), ('needed,', 5127), ('panties,', 5128), ('physical', 5129), ('potty', 5130), ('reference,', 5131), ('repeated', 5132), ('shines', 5133), ('shorts!', 5134), (\"should've\", 5135), ('something,', 5136), ('stuffed', 5137), ('unflattering', 5138), ('ad', 5139), ('air.', 5140), ('apart,', 5141), ('backing', 5142), ('crack', 5143), ('decision', 5144), ('drawer', 5145), ('experience,', 5146), ('factory', 5147), ('finish.', 5148), ('grade', 5149), ('granny', 5150), ('inches,', 5151), ('lean', 5152), ('lover', 5153), ('rib', 5154), ('sewed', 5155), ('shrug', 5156), ('softest', 5157), ('solid.', 5158), ('surprising', 5159), ('tore', 5160), ('wave', 5161), ('well.i', 5162), ('1364601600', 5163), ('1367884800', 5164), ('160', 5165), ('4.', 5166), ('apparel', 5167), ('bass', 5168), (\"bra's\", 5169), ('costume,', 5170), ('description,', 5171), ('everything!', 5172), ('favorite!', 5173), ('fire', 5174), ('lining,', 5175), ('manage', 5176), ('million', 5177), ('necessary.', 5178), ('promised', 5179), ('sag', 5180), ('stiffer', 5181), ('summer!', 5182), ('1370131200', 5183), ('8.5,', 5184), ('awhile.', 5185), ('basketball', 5186), ('bubble', 5187), ('buys', 5188), ('fitted,', 5189), ('flats,', 5190), ('gloves,', 5191), ('insole.', 5192), ('m,', 5193), ('muscle', 5194), ('nature', 5195), ('outfit,', 5196), ('rave', 5197), ('sale,', 5198), ('smell,', 5199), ('stripe', 5200), ('swell', 5201), ('t-shirt,', 5202), ('(one', 5203), ('1353369600', 5204), ('1368921600', 5205), ('aqua', 5206), ('bedroom', 5207), ('brushed', 5208), ('butt,', 5209), ('child.', 5210), ('clean,', 5211), ('curves.', 5212), ('damp', 5213), ('fabulous.', 5214), ('functional,', 5215), ('gem', 5216), ('hard,', 5217), ('nephew', 5218), ('other,', 5219), ('pressed', 5220), ('prone', 5221), ('striped', 5222), ('suit,', 5223), ('then.', 5224), ('u.s.', 5225), ('vibrant.', 5226), ('waterproof,', 5227), ('1353456000', 5228), ('arrival', 5229), ('aspect', 5230), ('cleaned', 5231), ('compact', 5232), ('desk', 5233), ('effect.', 5234), ('explain', 5235), ('feedback', 5236), ('flexibility', 5237), ('hi', 5238), ('least.', 5239), ('lifting', 5240), ('me.i', 5241), ('morning.', 5242), ('open.', 5243), ('pattyboutik', 5244), ('polka', 5245), ('pricing', 5246), ('ruined', 5247), ('see-through.', 5248), ('sneaker.', 5249), ('speedo', 5250), ('stone.', 5251), ('trousers', 5252), ('twenty', 5253), ('understated', 5254), ('western', 5255), ('attire.', 5256), ('balance.', 5257), ('born', 5258), ('buckle.', 5259), ('coverage,', 5260), ('fasten', 5261), ('guard', 5262), ('myself!', 5263), ('slipper,', 5264), ('stylish!', 5265), ('sure!', 5266), ('torso.', 5267), ('touching', 5268), ('wonderfully.', 5269), ('(from', 5270), ('1.5', 5271), ('11,', 5272), ('1377993600', 5273), ('angle', 5274), ('assortment', 5275), ('coats', 5276), ('comfortable.i', 5277), ('fishing', 5278), ('friend,', 5279), ('hardware', 5280), ('jacket!', 5281), ('minnetonka', 5282), ('mint', 5283), ('motion', 5284), ('nobody', 5285), ('ray', 5286), ('slim,', 5287), ('squishy', 5288), ('thicker.', 5289), ('tissue', 5290), ('waistband.', 5291), ('worries', 5292), ('1364083200', 5293), ('45', 5294), ('90', 5295), ('dust', 5296), ('evening.', 5297), ('fuller', 5298), ('hell', 5299), ('individual', 5300), ('lacking', 5301), ('life,', 5302), ('no.', 5303), ('nowhere', 5304), ('pack.', 5305), ('pictures,', 5306), ('return,', 5307), ('saggy', 5308), ('slowly', 5309), ('teeny', 5310), ('these!!', 5311), ('vivid', 5312), ('wanted!', 5313), ('warning', 5314), ('alter', 5315), ('antique', 5316), ('blisters,', 5317), ('buttons.', 5318), ('comfortable!!', 5319), ('decorative', 5320), ('discontinued', 5321), ('f', 5322), ('halter', 5323), ('invest', 5324), ('itself,', 5325), ('nightgown', 5326), ('ordinary', 5327), ('owning', 5328), ('picking', 5329), ('premium', 5330), ('requested', 5331), ('rings,', 5332), ('shapewear', 5333), ('ski', 5334), ('snuggly', 5335), ('theyre', 5336), ('accessories', 5337), ('belly.', 5338), ('bothers', 5339), ('bunions', 5340), ('exercise.', 5341), ('flowing', 5342), ('hooked', 5343), ('lb', 5344), ('license', 5345), ('many,', 5346), ('noticeably', 5347), ('options.', 5348), ('pant,', 5349), ('pullover', 5350), ('rainbow', 5351), ('sales', 5352), ('size).', 5353), ('stars!', 5354), ('support!', 5355), ('tag.', 5356), ('tevas', 5357), ('warned', 5358), ('will.', 5359), ('1.', 5360), ('3.', 5361), ('5th', 5362), ('age.', 5363), ('brings', 5364), ('carat', 5365), ('ck', 5366), ('delicate.', 5367), ('exterior', 5368), ('gardening', 5369), ('give.', 5370), ('had,', 5371), ('havent', 5372), ('hole.', 5373), ('locally', 5374), ('minimizer', 5375), ('newborn', 5376), ('painted', 5377), ('personally,', 5378), ('potential', 5379), ('runner,', 5380), ('scarf!', 5381), ('shearling', 5382), ('surfaces', 5383), ('transparent', 5384), ('$25', 5385), ('1350777600', 5386), ('1353801600', 5387), ('1354060800', 5388), ('1356134400', 5389), ('1405382400', 5390), ('clarks.', 5391), (\"could've\", 5392), ('damn', 5393), ('essential', 5394), ('expand', 5395), ('floppy', 5396), ('force', 5397), ('forced', 5398), ('hundred', 5399), ('lightly', 5400), ('notch', 5401), ('platinum', 5402), ('quit', 5403), ('shopping,', 5404), ('sporting', 5405), ('sunny', 5406), ('supported', 5407), ('swollen', 5408), ('thankfully', 5409), ('tungsten', 5410), ('ur', 5411), ('washes,', 5412), ('yourself.', 5413), ('(about', 5414), ('1364688000', 5415), ('2,', 5416), ('anne', 5417), ('available,', 5418), ('charm.', 5419), ('fingers.', 5420), ('granddaughter.', 5421), ('highly.', 5422), ('leg,', 5423), ('madden', 5424), ('majority', 5425), ('owned,', 5426), ('perform', 5427), ('quicker', 5428), ('reality', 5429), ('recommend,', 5430), ('round.', 5431), ('shown,', 5432), ('sweat,', 5433), ('turtle', 5434), ('uk', 5435), ('wanna', 5436), ('wedges', 5437), ('$15', 5438), ('36dd', 5439), ('achilles', 5440), ('bottoms.', 5441), ('bows', 5442), ('breasts,', 5443), ('club', 5444), ('confused', 5445), ('eco-drive', 5446), ('fault.', 5447), ('girly', 5448), ('los', 5449), ('nothing.', 5450), ('odd.', 5451), ('overseas', 5452), ('pinching', 5453), ('purchased,', 5454), ('retain', 5455), ('reversible', 5456), (\"she'll\", 5457), ('slot', 5458), ('tapered', 5459), ('teenager', 5460), ('thongs', 5461), ('trend', 5462), ('whatsoever.', 5463), ('wigwam', 5464), ('yeah', 5465), ('$', 5466), ('36d', 5467), ('5,', 5468), ('advised', 5469), ('anyone!', 5470), ('appreciated', 5471), ('boring', 5472), ('camo', 5473), ('cheapest', 5474), ('climate', 5475), ('dream.', 5476), ('eat', 5477), ('fantastic,', 5478), ('fashion.', 5479), ('glitter', 5480), ('meh', 5481), ('pear', 5482), ('pill', 5483), ('pool.', 5484), ('stitch', 5485), ('tailor', 5486), ('teacher', 5487), ('whereas', 5488), ('wound', 5489), ('(he', 5490), ('1363478400', 5491), ('36c', 5492), ('=)', 5493), ('adhesive', 5494), ('advantage', 5495), ('alex', 5496), ('arches,', 5497), ('arches.', 5498), ('assorted', 5499), (\"child's\", 5500), ('clear,', 5501), ('cost,', 5502), ('directions', 5503), ('helping', 5504), ('jean.', 5505), ('khakis', 5506), ('kitchen', 5507), ('popped', 5508), ('presentation', 5509), ('questions', 5510), ('quiet', 5511), ('rinse', 5512), ('some,', 5513), ('swelling', 5514), ('tool', 5515), ('wee', 5516), ('weird,', 5517), ('zipper,', 5518), ('1352851200', 5519), ('butterfly', 5520), ('chafing', 5521), ('crazy.', 5522), ('customer.', 5523), ('europe', 5524), ('greatly', 5525), ('hoodie.', 5526), ('lightning', 5527), ('market.', 5528), ('measuring', 5529), ('moderately', 5530), ('ruby', 5531), ('speed', 5532), ('supple', 5533), ('thorlo', 5534), ('yrs', 5535), ('1-2', 5536), ('1350950400', 5537), ('21', 5538), ('assuming', 5539), ('bella', 5540), ('cleavage.', 5541), ('compliments,', 5542), ('converse', 5543), ('embroidered', 5544), ('hunt', 5545), ('items,', 5546), ('kenneth', 5547), ('listen', 5548), ('marathon', 5549), ('mind,', 5550), ('navy.', 5551), ('opposite', 5552), ('practice', 5553), ('runs.', 5554), ('sea', 5555), ('shine.', 5556), ('sox', 5557), ('squished', 5558), ('sweatshirt.', 5559), ('texas', 5560), ('tips', 5561), ('w/o', 5562), ('why.', 5563), ('ya', 5564), ('1363392000', 5565), (\"5'8\", 5566), ('additionally,', 5567), ('bucks.', 5568), ('crease', 5569), ('detailing', 5570), ('ecco', 5571), ('fond', 5572), ('forth', 5573), ('lime', 5574), ('pricey,', 5575), ('random', 5576), ('relax', 5577), ('row', 5578), ('surfaces.', 5579), ('think,', 5580), ('underwire.', 5581), ('updated', 5582), ('worked.', 5583), ('years!', 5584), ('yellow.', 5585), ('$40', 5586), ('5ft', 5587), ('anticipated', 5588), ('attire', 5589), ('beads.', 5590), ('cheaper.', 5591), ('comparing', 5592), ('confidence', 5593), ('crappy', 5594), ('fabulous!', 5595), ('fav', 5596), ('feminine,', 5597), ('find,', 5598), ('fortunately', 5599), ('manufactured', 5600), ('moccasins', 5601), ('poking', 5602), ('prices.', 5603), ('returning.', 5604), ('se', 5605), ('squeak', 5606), ('stitching.', 5607), ('sucks', 5608), ('suggestion', 5609), ('timepiece', 5610), ('twice.', 5611), ('unbelievably', 5612), ('version,', 5613), ('winter!', 5614), ('1352764800', 5615), ('4-5', 5616), ('baseball', 5617), ('california', 5618), ('chiffon', 5619), ('clutch', 5620), ('darling', 5621), ('fight', 5622), ('flatten', 5623), ('forgiving', 5624), ('frequent', 5625), ('harsh', 5626), ('hunting', 5627), ('justice', 5628), ('kids.', 5629), ('launder', 5630), ('lie', 5631), ('luxury', 5632), ('metal.', 5633), ('movement,', 5634), ('opens', 5635), ('overnight', 5636), ('relief', 5637), ('says,', 5638), ('shot', 5639), ('stem', 5640), ('tacky', 5641), ('thermals', 5642), ('trouser', 5643), ('tug', 5644), ('wait.', 5645), ('washable', 5646), ('1350864000', 5647), ('2xl', 5648), ('accustomed', 5649), ('avid', 5650), ('camel', 5651), ('challenge', 5652), ('circle', 5653), ('control.', 5654), ('designs.', 5655), ('extender', 5656), ('fix.', 5657), ('fool', 5658), ('footbed.', 5659), ('garbage', 5660), ('heaven', 5661), ('keys,', 5662), ('l.', 5663), ('laced', 5664), ('lacy', 5665), ('nasty', 5666), ('posture', 5667), ('prefer.', 5668), ('promised.', 5669), ('reefs', 5670), ('seams,', 5671), ('size...', 5672), ('slacks,', 5673), ('wipe', 5674), ('words,', 5675), ('working.', 5676), ('braided', 5677), ('decent.', 5678), ('exclusively', 5679), ('firmly', 5680), ('is!', 5681), ('itch', 5682), ('july', 5683), ('june', 5684), ('machine.', 5685), ('orders', 5686), ('oxford', 5687), ('performed', 5688), ('reviewing', 5689), ('salt', 5690), ('semi', 5691), ('shallow', 5692), ('tee.', 5693), ('usa.', 5694), (\"valentine's\", 5695), ('vs.', 5696), ('yay!', 5697), (\"5'9\", 5698), ('7.5.', 5699), ('adjustments', 5700), ('bathroom', 5701), ('bodice', 5702), ('cincher', 5703), ('classes', 5704), ('cool!', 5705), ('do!', 5706), (\"friend's\", 5707), ('gal', 5708), ('jean,', 5709), ('mom,', 5710), ('nickel', 5711), ('photos.', 5712), ('practical.', 5713), ('small...', 5714), ('smile', 5715), ('tightened', 5716), ('timeless', 5717), ('ultimate', 5718), (\"victoria's\", 5719), ('34b', 5720), ('accurately', 5721), ('anybody', 5722), ('bangle', 5723), ('because,', 5724), ('deciding', 5725), ('dollars.', 5726), ('example', 5727), ('extend', 5728), ('get,', 5729), ('grandma', 5730), ('i.', 5731), ('lace.', 5732), ('laid', 5733), ('lifts', 5734), ('normally,', 5735), ('pendant,', 5736), ('robes', 5737), ('settled', 5738), ('size.i', 5739), ('snowy', 5740), ('spread', 5741), ('stronger', 5742), ('sturdier', 5743), ('swear', 5744), ('tighter.', 5745), ('torso,', 5746), ('traction.', 5747), ('turtleneck', 5748), ('34d', 5749), ('4.5', 5750), ('7.5,', 5751), ('am.', 5752), ('bf', 5753), ('bonus.', 5754), ('capris.', 5755), ('circumference', 5756), ('collect', 5757), ('dimensions', 5758), ('diving', 5759), ('elastic,', 5760), ('fast!', 5761), ('folding', 5762), ('have!', 5763), ('headbands', 5764), ('hit.', 5765), ('laces,', 5766), ('lights', 5767), ('looking!', 5768), ('move.', 5769), ('nicest', 5770), ('non-slip', 5771), ('organizer', 5772), ('pieces.', 5773), ('plaid', 5774), ('scared', 5775), ('somebody', 5776), ('sophisticated', 5777), ('space.', 5778), ('well...', 5779), ('(see', 5780), ('1352073600', 5781), ('29', 5782), ('bootie', 5783), ('chill', 5784), ('cushioning,', 5785), ('decent,', 5786), ('durability,', 5787), ('equal', 5788), ('everytime', 5789), ('excelente', 5790), ('exofficio', 5791), ('goes,', 5792), ('helpful.', 5793), ('invisible', 5794), ('jeggings', 5795), ('lead', 5796), (\"macy's\", 5797), ('mail,', 5798), ('office,', 5799), ('paid,', 5800), ('required.', 5801), ('service,', 5802), ('sparkly.', 5803), ('steps', 5804), ('story', 5805), ('stunning.', 5806), ('tear.', 5807), ('tight!', 5808), ('touch,', 5809), ('train', 5810), ('versatile,', 5811), ('!!!!', 5812), ('are!', 5813), ('barefoot.', 5814), ('beats', 5815), ('belts.', 5816), ('classic,', 5817), ('click', 5818), ('convinced', 5819), ('distressed', 5820), ('elegance', 5821), ('fence', 5822), ('friendly', 5823), ('general,', 5824), ('hot!', 5825), ('inseam.', 5826), ('masculine', 5827), ('sick', 5828), ('slit', 5829), ('stating', 5830), ('yellow,', 5831), ('1354320000', 5832), ('22', 5833), ('alot.', 5834), ('bracelet!', 5835), ('bunches', 5836), ('coffee', 5837), ('depth', 5838), ('difficult.', 5839), ('elasticity', 5840), ('etc.,', 5841), ('investment', 5842), ('ladies.', 5843), ('plunge', 5844), ('preference.', 5845), ('rocky', 5846), ('rope', 5847), ('sees', 5848), ('sharp.', 5849), ('shin', 5850), ('snags', 5851), ('sometimes,', 5852), ('sparkly,', 5853), ('suede.', 5854), ('tank.', 5855), ('towel', 5856), ('works,', 5857), ('1349740800', 5858), ('2&#34;', 5859), (';-)', 5860), ('acorn', 5861), ('aerobics', 5862), ('ani', 5863), ('background', 5864), ('break.', 5865), ('conversation', 5866), ('cups,', 5867), ('done,', 5868), ('ears,', 5869), ('feather', 5870), ('final', 5871), ('indigo', 5872), ('latest', 5873), ('layer.', 5874), ('liking.', 5875), ('minutes,', 5876), ('mother.', 5877), ('noted,', 5878), ('oil', 5879), ('play.', 5880), ('primary', 5881), ('promise', 5882), ('protective', 5883), ('shed', 5884), ('stepping', 5885), ('tightest', 5886), ('tree', 5887), ('unexpected', 5888), ('(because', 5889), ('31', 5890), ('4,', 5891), ('arrive.', 5892), ('asics.', 5893), ('average.', 5894), ('basis.', 5895), ('breasted', 5896), ('chubby', 5897), ('closest', 5898), ('deliver', 5899), ('denim.', 5900), ('dirty.', 5901), ('earth', 5902), ('fake.', 5903), ('fan,', 5904), ('generously', 5905), ('gently', 5906), ('gone.', 5907), ('lavender', 5908), ('luck.', 5909), ('name.', 5910), ('placement', 5911), ('price!!', 5912), ('reviewers,', 5913), ('sandal!', 5914), ('scratchy,', 5915), ('technology', 5916), ('try,', 5917), ('u897446633', 5918), ('walker', 5919), ('wine', 5920), ('2)', 5921), ('altered', 5922), ('anymore,', 5923), ('brush', 5924), ('celtic', 5925), ('curved', 5926), ('deals', 5927), ('elastic.', 5928), ('food', 5929), ('gaudy', 5930), ('it?', 5931), ('layering.', 5932), ('messed', 5933), ('muted', 5934), ('news', 5935), ('of,', 5936), ('padded,', 5937), ('puppies', 5938), ('refunded', 5939), ('severe', 5940), ('shoes!!!', 5941), ('slip,', 5942), ('specially', 5943), ('suck', 5944), ('theme', 5945), ('wraps', 5946), ('1353283200', 5947), ('19', 5948), ('501', 5949), ('calf,', 5950), ('cap.', 5951), ('checkbook', 5952), ('convenience', 5953), ('crafted', 5954), ('delivery,', 5955), ('edges.', 5956), ('fitted.', 5957), ('frayed', 5958), ('halfway', 5959), ('hates', 5960), ('hipster', 5961), ('hoodies', 5962), ('hundreds', 5963), ('item!', 5964), ('lengths', 5965), ('me).', 5966), ('merrells', 5967), ('petite,', 5968), ('reference', 5969), ('selected', 5970), ('separated', 5971), ('smoother', 5972), ('snugger', 5973), ('stamped', 5974), ('stitching,', 5975), ('tossed', 5976), ('tummy.', 5977), ('un', 5978), ('washings,', 5979), ('ways.', 5980), ('(except', 5981), ('28', 5982), ('34dd', 5983), ('attention.', 5984), ('bathrobe', 5985), ('caps', 5986), ('concerns', 5987), ('constantly.', 5988), ('creating', 5989), ('exchanging', 5990), ('expandable', 5991), ('fall,', 5992), ('forever,', 5993), ('glove,', 5994), ('gown.', 5995), ('hers', 5996), ('honest,', 5997), ('important.', 5998), ('improvement', 5999), ('mad', 6000), ('magnetic', 6001), ('mentioned.', 6002), (\"patty's\", 6003), ('phone.', 6004), ('show,', 6005), ('spite', 6006), ('stock.', 6007), ('tail', 6008), ('thicker,', 6009), ('timer', 6010), ('traveling.', 6011), ('wallet!', 6012), ('way!', 6013), ('1352937600', 6014), ('145', 6015), ('14k', 6016), (':-(', 6017), ('advertised,', 6018), ('affordable,', 6019), ('appeal', 6020), ('bed,', 6021), ('birthstone', 6022), ('blame', 6023), ('c/d', 6024), ('crisp', 6025), ('defiantly', 6026), ('duofold', 6027), ('equivalent', 6028), ('footwear.', 6029), ('french', 6030), ('headband', 6031), ('hearts', 6032), ('imagined', 6033), ('mechanism', 6034), ('modesty', 6035), ('neckline.', 6036), ('shrink,', 6037), ('slim.', 6038), ('ugly,', 6039), ('undies.', 6040), ('versus', 6041), ('wise,', 6042), ('34c', 6043), (\"5'10\", 6044), ('at.', 6045), ('backside', 6046), ('battery.', 6047), ('beware.', 6048), ('blouse,', 6049), ('chin', 6050), ('choosing', 6051), ('closure.', 6052), ('earring.', 6053), ('event.', 6054), ('finger,', 6055), ('fraction', 6056), ('gals', 6057), ('gf', 6058), ('goods', 6059), ('great!!!', 6060), ('it&#8217;s', 6061), ('killing', 6062), ('lunch', 6063), ('men.', 6064), (\"money's\", 6065), ('normal,', 6066), ('ocean', 6067), ('orange,', 6068), ('purchases.', 6069), ('reputation', 6070), ('resistant.', 6071), ('rhinestone', 6072), ('spin', 6073), ('sweatshirts', 6074), ('tab', 6075), ('trip,', 6076), ('triple', 6077), ('valentines', 6078), ('wearings', 6079), ('widest', 6080), ('winner.', 6081), ('workmanship.', 6082), ('39', 6083), ('925', 6084), ('beating', 6085), ('closing', 6086), ('condition,', 6087), ('dealing', 6088), ('down!', 6089), ('horribly', 6090), ('i,', 6091), ('it;', 6092), ('jade', 6093), ('latch', 6094), ('letting', 6095), ('matters', 6096), ('mechanical', 6097), ('merino', 6098), ('painful.', 6099), ('perfect!!', 6100), ('resist', 6101), ('shot.', 6102), ('sight', 6103), ('smoothing', 6104), ('sperry', 6105), ('styled', 6106), ('sufficient', 6107), ('surprise,', 6108), ('tiny,', 6109), ('1349654400', 6110), ('anyone,', 6111), ('bags.', 6112), ('basis', 6113), ('birkenstocks', 6114), ('burn', 6115), ('card,', 6116), ('conscious', 6117), ('could.', 6118), ('dials', 6119), ('die', 6120), ('does,', 6121), ('dug', 6122), ('easier.', 6123), ('emerald', 6124), ('fashionable,', 6125), ('for?', 6126), ('half.', 6127), ('hawaii', 6128), ('increase', 6129), ('jewels', 6130), ('lace,', 6131), ('las', 6132), ('lip', 6133), ('looked.', 6134), ('massive', 6135), ('matter.', 6136), ('most,', 6137), ('outstanding.', 6138), ('pinched', 6139), ('price...', 6140), ('purposes', 6141), ('raw', 6142), ('re-order', 6143), ('soooooo', 6144), ('substantial.', 6145), ('these...', 6146), ('upgrade', 6147), ('wider.', 6148), ('worrying', 6149), ('180', 6150), ('41', 6151), ('aching', 6152), ('activity.', 6153), ('armpit', 6154), ('colour.', 6155), ('dot', 6156), ('dressy,', 6157), ('ever,', 6158), ('example,', 6159), ('fish', 6160), ('flips', 6161), ('grips', 6162), ('health', 6163), ('high-quality', 6164), ('hikes', 6165), ('hooded', 6166), ('importantly,', 6167), ('into.', 6168), ('loyal', 6169), ('march', 6170), ('pattern,', 6171), ('priced,', 6172), ('public.', 6173), ('returns.', 6174), ('sling', 6175), ('sometimes.', 6176), ('sorel', 6177), ('stopwatch', 6178), ('stunning!', 6179), ('tarnish', 6180), ('thinner,', 6181), ('twisted', 6182), ('warmth,', 6183), ('1)', 6184), ('165', 6185), ('37', 6186), ('38c', 6187), ('6-8', 6188), ('about,', 6189), ('age,', 6190), ('breathe.', 6191), ('debating', 6192), ('decently', 6193), ('direct', 6194), ('essentially', 6195), ('events', 6196), ('field', 6197), ('finish,', 6198), ('friday', 6199), ('garnet', 6200), ('hotel', 6201), ('idea,', 6202), ('it!!!!', 6203), ('it).', 6204), ('load', 6205), ('locket', 6206), ('maidenform', 6207), ('minimize', 6208), ('mush', 6209), ('overweight', 6210), ('popping', 6211), ('postage', 6212), ('proved', 6213), ('purse!', 6214), ('sleeping.', 6215), ('snagged', 6216), ('table', 6217), ('teens', 6218), ('thigh.', 6219), ('tugging', 6220), ('uggs.', 6221), ('vendor.', 6222), ('visit', 6223), ('website,', 6224), ('whatever.', 6225), ('1352160000', 6226), ('aerosoles', 6227), ('anticipated.', 6228), ('bands.', 6229), ('beneath', 6230), ('coating', 6231), ('cousin', 6232), ('cute!!!', 6233), ('etc,', 6234), ('excessive', 6235), ('finally!', 6236), ('girls,', 6237), ('hush', 6238), ('inconsistent', 6239), ('jambu', 6240), ('lesson', 6241), ('loosing', 6242), ('maker', 6243), ('manner', 6244), ('mexico', 6245), ('miles.', 6246), ('models.', 6247), ('outfit!', 6248), ('outfits,', 6249), ('panels', 6250), ('par', 6251), ('pleasure', 6252), ('polyester.', 6253), ('short!', 6254), ('sized,', 6255), ('stitches', 6256), ('strange.', 6257), ('strength', 6258), ('textured', 6259), ('user', 6260), ('wow.', 6261), ('wrapping', 6262), ('10-12', 6263), ('44', 6264), ('9.5.', 6265), ('accessory.', 6266), ('another,', 6267), ('appealing', 6268), ('asics,', 6269), ('boning', 6270), ('bulges', 6271), ('complement', 6272), ('crotch.', 6273), ('days!', 6274), ('depicted', 6275), ('desired', 6276), ('disposable', 6277), ('game', 6278), ('importantly', 6279), ('instep.', 6280), ('nights.', 6281), ('purposes.', 6282), ('pushes', 6283), ('racer', 6284), ('re', 6285), ('rely', 6286), ('safe.', 6287), ('settings', 6288), ('shade.', 6289), ('showing.', 6290), ('spring/summer', 6291), ('statement.', 6292), ('stones,', 6293), ('tie,', 6294), ('toned', 6295), ('us,', 6296), ('weekend.', 6297), ('worth.', 6298), ('38d', 6299), ('38dd', 6300), ('5\\'7\"', 6301), ('9.5,', 6302), ('a+', 6303), ('blow', 6304), ('build,', 6305), ('bum', 6306), ('classic.', 6307), ('correct,', 6308), ('crop', 6309), ('defect', 6310), ('eye.', 6311), ('flaps', 6312), ('flash', 6313), ('footed', 6314), ('hair,', 6315), ('it)', 6316), ('jewel', 6317), ('keeper.', 6318), ('lol!', 6319), ('luminous', 6320), ('monster', 6321), ('neatly', 6322), ('need,', 6323), ('perfection', 6324), ('permanent', 6325), ('pics', 6326), ('professional.', 6327), ('raise', 6328), ('recomiendo', 6329), ('reduced', 6330), ('roughly', 6331), ('rubbery', 6332), ('shoes...', 6333), ('sleeve.', 6334), ('sparkle,', 6335), ('sprayed', 6336), ('stomach.', 6337), ('supposedly', 6338), ('sweaters.', 6339), (\"teva's\", 6340), ('them;', 6341), ('toms', 6342), ('tries', 6343), ('tv', 6344), ('wings', 6345), ('zips', 6346), ('(who', 6347), ('2013', 6348), ('4x', 6349), ('5\\'4\"', 6350), ('alas,', 6351), ('anyways.', 6352), ('art', 6353), ('beautiful!!', 6354), ('blocks', 6355), ('boutique', 6356), ('brand!', 6357), ('breathing', 6358), ('clogs,', 6359), ('cloth.', 6360), ('complaint.', 6361), ('considerably', 6362), ('course.', 6363), ('determine', 6364), ('gems', 6365), ('ha', 6366), ('irritated', 6367), ('jumped', 6368), ('least,', 6369), ('manly', 6370), ('organized', 6371), ('pilling', 6372), ('resistance', 6373), ('ruffles', 6374), ('shorter,', 6375), ('shower.', 6376), ('skip', 6377), ('sorry.', 6378), ('spectacular', 6379), ('stepped', 6380), ('striking', 6381), ('tears', 6382), ('terrific.', 6383), ('texture.', 6384), ('transition', 6385), ('treated', 6386), ('twill', 6387), ('useless.', 6388), ('want,', 6389), ('washable.', 6390), ('wears,', 6391), ('alright.', 6392), ('apparent', 6393), ('attract', 6394), ('bends', 6395), ('biking', 6396), ('bits', 6397), ('bracelets.', 6398), ('content', 6399), ('continued', 6400), ('ddd', 6401), ('disappoint', 6402), ('environment', 6403), ('fail', 6404), ('figure,', 6405), ('grass', 6406), ('grateful', 6407), ('icebreaker', 6408), ('ironman', 6409), ('laying', 6410), ('lighting', 6411), ('lobster', 6412), ('mi', 6413), ('mothers', 6414), ('opportunity', 6415), ('orient', 6416), ('overalls', 6417), ('promptly.', 6418), ('properly,', 6419), ('ribbed', 6420), ('shipping!', 6421), ('skagen', 6422), ('stockings.', 6423), ('them)', 6424), ('travel,', 6425), ('unfortunate', 6426), ('uv', 6427), ('withstand', 6428), ('xxl.', 6429), ('&#34;one', 6430), ('1349568000', 6431), ('2e', 6432), ('3.5', 6433), ('?', 6434), ('already,', 6435), ('angel', 6436), ('apply', 6437), ('brick', 6438), ('broken.', 6439), ('button,', 6440), ('choice,', 6441), ('cycling', 6442), ('eh', 6443), ('endowed', 6444), ('expect,', 6445), ('favorite,', 6446), ('function.', 6447), ('generic', 6448), ('golden', 6449), ('greater', 6450), ('hats.', 6451), ('inferior', 6452), ('large!', 6453), (\"levi's.\", 6454), ('listing', 6455), ('lumps', 6456), ('maximum', 6457), ('mizuno', 6458), ('petite.', 6459), ('purchasing.', 6460), ('reflect', 6461), ('sample', 6462), ('school,', 6463), ('scuffed', 6464), ('select', 6465), ('shoes.i', 6466), ('smoothly', 6467), ('soap', 6468), ('someone.', 6469), ('ss', 6470), ('stained', 6471), ('strappy', 6472), ('survive', 6473), ('sweaty.', 6474), (\"t's\", 6475), ('tommy', 6476), ('trade', 6477), ('tried,', 6478), ('warmer.', 6479), ('welcome', 6480), (\"'em!\", 6481), (\"(i've\", 6482), ('accept', 6483), ('airport', 6484), ('america', 6485), ('awsome', 6486), ('basic,', 6487), ('bath', 6488), ('boxes', 6489), ('colorful,', 6490), ('comfortable;', 6491), ('displayed', 6492), ('doublju', 6493), ('emailed', 6494), ('fancy,', 6495), ('geneva', 6496), ('hassle.', 6497), ('here!', 6498), ('holes,', 6499), ('holidays', 6500), ('hoodie,', 6501), ('irritation', 6502), ('lowest', 6503), ('morning,', 6504), ('orthopedic', 6505), ('perfect!!!', 6506), ('person!', 6507), ('pouch.', 6508), ('pound', 6509), ('reminded', 6510), ('santa', 6511), (\"scholl's\", 6512), ('seasons', 6513), ('shall', 6514), ('ships', 6515), ('simplicity', 6516), ('skinny,', 6517), ('smartwool', 6518), ('soaked', 6519), ('sometime', 6520), ('wedding,', 6521), ('yoga,', 6522), ('14.', 6523), ('4-6', 6524), ('5\\'5\"', 6525), ('address', 6526), ('backpack', 6527), ('boobs.', 6528), ('cons', 6529), ('denim,', 6530), ('dreaded', 6531), ('fasciitis.', 6532), ('fleece.', 6533), ('funny.', 6534), ('gaps', 6535), ('hugging', 6536), ('image.', 6537), ('iphone', 6538), ('january', 6539), ('learning', 6540), ('loses', 6541), ('magic', 6542), ('mbt', 6543), ('northern', 6544), ('nyc', 6545), ('pavement', 6546), ('peace', 6547), ('polyester,', 6548), ('prime.', 6549), ('rotate', 6550), ('situation', 6551), ('squeezed', 6552), ('stride', 6553), ('tagless', 6554), ('tech', 6555), ('well;', 6556), ('were,', 6557), ('yes.', 6558), ('(we', 6559), ('1352419200', 6560), ('3,', 6561), ('50%', 6562), ('accuracy', 6563), ('beautifully,', 6564), ('boyfriend.', 6565), ('calls', 6566), ('clown', 6567), ('diabetic', 6568), ('extenders', 6569), ('features.', 6570), ('find!', 6571), ('flattering!', 6572), ('granted,', 6573), ('handbag.', 6574), ('hanes.', 6575), ('has.', 6576), ('hiding', 6577), ('lindy', 6578), ('manner.', 6579), ('mittens', 6580), ('mornings', 6581), ('movie', 6582), ('patch', 6583), ('plus!', 6584), ('queen', 6585), ('rash', 6586), ('rayon', 6587), ('reaches', 6588), ('says.', 6589), ('smidge', 6590), ('snapped', 6591), ('sorts', 6592), ('supporting', 6593), ('thankful', 6594), ('tide', 6595), ('tint', 6596), ('touches', 6597), ('tying', 6598), ('(also', 6599), ('(unless', 6600), ('arent', 6601), ('awesome!!', 6602), ('camp', 6603), (\"company's\", 6604), ('consideration', 6605), ('corset.', 6606), ('danskos', 6607), ('dragon', 6608), ('embarrassed', 6609), ('everywhere,', 6610), ('excelent', 6611), ('fitflops.', 6612), ('fossil', 6613), ('gamble', 6614), ('guys.', 6615), ('handling', 6616), ('hour.', 6617), ('insole,', 6618), ('instant', 6619), ('intense', 6620), ('itchy,', 6621), ('lift,', 6622), ('michael', 6623), ('middle,', 6624), ('muddy', 6625), ('peel', 6626), ('produce', 6627), ('purpose,', 6628), ('river', 6629), ('sense.', 6630), ('shows,', 6631), ('steve', 6632), ('there!', 6633), ('tho.', 6634), ('til', 6635), ('tough,', 6636), ('undershirt.', 6637), ('waistband,', 6638), ('wild', 6639), ('wind.', 6640), ('worse.', 6641), ('14,', 6642), ('175', 6643), (':/', 6644), ('adjust.', 6645), ('amazon.com.', 6646), ('box!', 6647), ('bulk.', 6648), ('cancer', 6649), ('clarks,', 6650), ('clasp,', 6651), ('creases', 6652), ('figuring', 6653), ('flatters', 6654), ('higher.', 6655), ('hobo', 6656), ('keeper', 6657), ('kind.', 6658), ('lateral', 6659), ('laundered', 6660), ('lost.', 6661), (\"merrell's\", 6662), ('minimum', 6663), ('packages', 6664), ('peeling', 6665), ('poor.', 6666), ('pros:', 6667), ('protecting', 6668), ('racerback', 6669), ('range,', 6670), ('ripping', 6671), ('shifts', 6672), ('shoulder,', 6673), ('smelly', 6674), ('soccer', 6675), ('sz', 6676), ('tightening', 6677), ('traction,', 6678), ('type,', 6679), ('which,', 6680), ('wondered', 6681), ('1/2\"', 6682), ('26', 6683), ('ache', 6684), ('autumn', 6685), ('care,', 6686), ('closes', 6687), ('confusing', 6688), ('december', 6689), ('deserve', 6690), ('dozens', 6691), ('elements', 6692), ('enjoy!', 6693), ('enough!', 6694), ('fans', 6695), ('features,', 6696), ('fyi', 6697), ('gifted', 6698), ('graphic', 6699), ('hanger', 6700), ('hit!', 6701), ('holy', 6702), ('line:', 6703), ('longest', 6704), ('married', 6705), ('measurements.', 6706), ('med.', 6707), ('misleading.', 6708), ('places,', 6709), ('poly', 6710), ('preference', 6711), ('process.', 6712), ('quick,', 6713), ('rich,', 6714), ('rough.', 6715), ('shirts!', 6716), ('shopped', 6717), ('spring,', 6718), ('squeezing', 6719), ('stack', 6720), ('studs.', 6721), ('tarnished', 6722), ('these!!!', 6723), ('tropical', 6724), ('unflattering.', 6725), ('wall', 6726), ('weights', 6727), ('wrists,', 6728), ('yesterday.', 6729), ('yoga.', 6730), ('(since', 6731), (',i', 6732), ('5\\'6\"', 6733), ('above.', 6734), ('accentuates', 6735), ('adjusts', 6736), ('although,', 6737), ('anniversary', 6738), ('anyways', 6739), ('balance,', 6740), ('bug', 6741), ('chosen', 6742), ('closed.', 6743), ('curl', 6744), ('donate', 6745), ('drying.', 6746), ('eternity', 6747), ('feature,', 6748), ('fir', 6749), ('forward.', 6750), ('hanes,', 6751), ('happen.', 6752), ('hardwood', 6753), ('hill', 6754), ('in&#34;', 6755), ('instep,', 6756), ('iron.', 6757), ('junk.', 6758), ('knitted', 6759), ('level.', 6760), ('lined,', 6761), ('numerals', 6762), ('outlet', 6763), ('pops', 6764), ('proven', 6765), ('refuse', 6766), ('separately', 6767), ('sequins', 6768), ('spots.', 6769), ('star,', 6770), ('taste,', 6771), ('tearing', 6772), ('thanks,', 6773), ('thrilled.', 6774), ('walks,', 6775), ('wherever', 6776), ('yes!', 6777), ('(more', 6778), ('1352246400', 6779), ('2\"', 6780), ('2.5', 6781), ('2012', 6782), ('bamboo', 6783), ('belly,', 6784), ('buttons,', 6785), ('cheesy', 6786), ('close,', 6787), ('combination.', 6788), ('constricting', 6789), ('cracked', 6790), ('errands,', 6791), ('frequently.', 6792), ('injury', 6793), ('inserts.', 6794), ('insoles.', 6795), ('left.', 6796), ('lines,', 6797), ('links.', 6798), ('luster', 6799), ('outdoors.', 6800), ('panache', 6801), ('pearls.', 6802), ('plum', 6803), ('poncho', 6804), ('print,', 6805), ('program', 6806), ('pros', 6807), ('remained', 6808), ('response', 6809), ('season,', 6810), ('secure,', 6811), ('soon!', 6812), ('sports.', 6813), ('standards', 6814), ('sticker', 6815), ('such.', 6816), ('them.the', 6817), ('truth', 6818), ('unique,', 6819), ('wary', 6820), ('washed,', 6821), ('8-10', 6822), ('admit,', 6823), ('ariat', 6824), ('article', 6825), ('bead.', 6826), ('bell', 6827), ('bones', 6828), ('car.', 6829), ('corner', 6830), ('deserves', 6831), ('expecting,', 6832), ('functionality', 6833), ('ironing.', 6834), ('kit', 6835), ('lightest', 6836), ('luckily,', 6837), ('makers', 6838), ('miracle', 6839), ('obsessed', 6840), ('packaging,', 6841), ('plays', 6842), ('pressing', 6843), ('reasons.', 6844), ('reflective', 6845), ('roomier', 6846), ('russian', 6847), ('service!', 6848), ('strips', 6849), ('suddenly', 6850), ('thoroughly', 6851), ('unbelievable', 6852), ('uniform.', 6853), ('vertical', 6854), ('yesterday,', 6855), ('zebra', 6856), ('(too', 6857), ('(yes,', 6858), ('1351209600', 6859), ('1353542400', 6860), ('1405468800', 6861), ('170', 6862), ('acrylic', 6863), ('anticipate', 6864), ('apple', 6865), ('awkward.', 6866), ('bleed', 6867), ('bucks,', 6868), ('calidad', 6869), ('cape', 6870), ('ceramic', 6871), ('cocktail', 6872), ('compass', 6873), ('costumes', 6874), ('dare', 6875), ('drawer.', 6876), ('express', 6877), ('far!', 6878), ('hubby.', 6879), ('japanese', 6880), ('joy', 6881), ('lacks', 6882), ('life!', 6883), ('list.', 6884), ('magnet', 6885), ('mean.', 6886), ('midnight', 6887), ('not!', 6888), ('novelty', 6889), ('only,', 6890), ('owned!', 6891), ('race', 6892), ('real,', 6893), ('rear.', 6894), ('request', 6895), ('robe,', 6896), ('salomon', 6897), ('see,', 6898), ('size;', 6899), ('sloggers', 6900), ('squish', 6901), ('steep', 6902), ('surgery.', 6903), ('them..', 6904), ('tighter,', 6905), ('time.i', 6906), ('undergarments', 6907), ('vinyl', 6908), ('visible.', 6909), ('weekends', 6910), ('$$', 6911), ('$200', 6912), ('(i.e.', 6913), ('(she', 6914), ('90%', 6915), ('9m', 6916), ('actually.', 6917), ('alternate', 6918), ('always.', 6919), ('appearance,', 6920), ('birthday,', 6921), ('bleach', 6922), ('boxers,', 6923), ('cases', 6924), ('change,', 6925), ('changed.', 6926), ('closures', 6927), ('corsets', 6928), ('dr', 6929), ('fades', 6930), ('fit;', 6931), ('former', 6932), ('freedom', 6933), ('fringe', 6934), ('glance', 6935), ('go!', 6936), ('great.i', 6937), ('handy.', 6938), ('hip,', 6939), ('hurt,', 6940), ('insulated', 6941), ('leveret', 6942), ('mission', 6943), ('put,', 6944), ('ruining', 6945), ('scratching', 6946), ('seller!', 6947), ('shower,', 6948), ('sister,', 6949), ('sneaker,', 6950), ('solidly', 6951), ('t-shirts,', 6952), ('tangled', 6953), ('thing!', 6954), ('winters.', 6955), ('would,', 6956), ('(when', 6957), ('(where', 6958), ('1351641600', 6959), ('anything!', 6960), ('armpits', 6961), ('be!', 6962), ('blown', 6963), ('chafe', 6964), ('contour', 6965), ('crooked', 6966), ('decision.', 6967), ('england', 6968), ('environment.', 6969), ('error', 6970), ('faces', 6971), ('frankly', 6972), ('grandson.', 6973), ('grippy', 6974), ('gut', 6975), ('halloween.', 6976), ('increased', 6977), ('kill', 6978), ('lady.', 6979), ('niece.', 6980), ('pantyhose.', 6981), ('pleasing', 6982), ('prescription', 6983), ('realistic', 6984), ('recently,', 6985), ('recommendations', 6986), ('recycled', 6987), ('resin', 6988), ('sisters', 6989), ('small/medium', 6990), ('solution.', 6991), ('spot.', 6992), ('thickness.', 6993), ('useful.', 6994), ('widths', 6995), ('winner!', 6996), ('1344384000', 6997), ('1352332800', 6998), ('1352592000', 6999), ('1405555200', 7000), ('1405900800', 7001), ('48', 7002), (\"5'1\", 7003), ('6.5,', 7004), ('80', 7005), ('act', 7006), ('adores', 7007), ('aged', 7008), ('ages', 7009), ('arthritic', 7010), ('bad!', 7011), ('bags,', 7012), ('carpet', 7013), ('cash.', 7014), ('class,', 7015), ('comments.', 7016), ('corners', 7017), ('cowl', 7018), ('deep,', 7019), ('depend', 7020), ('develop', 7021), ('doc', 7022), ('elderly', 7023), ('exercising.', 7024), ('fault,', 7025), ('flying', 7026), ('group', 7027), ('heeled', 7028), ('l,', 7029), ('milk', 7030), ('mineral', 7031), ('misses', 7032), ('nevertheless,', 7033), ('next.', 7034), ('orange.', 7035), ('peach', 7036), ('record', 7037), ('scuffs', 7038), ('sealed', 7039), ('see-through,', 7040), ('should,', 7041), ('sunlight', 7042), ('sweater!', 7043), ('temp', 7044), ('th', 7045), ('underwire,', 7046), ('whim', 7047), ('works!', 7048), ('&#34;i', 7049), ('1350345600', 7050), ('am,', 7051), ('anyways,', 7052), ('april', 7053), ('attest', 7054), ('aunt', 7055), ('bandeau', 7056), ('blood', 7057), ('borderline', 7058), ('bough', 7059), ('bouncing', 7060), ('bundle', 7061), ('but.....', 7062), ('cardigan.', 7063), ('charms.', 7064), ('chicago', 7065), ('child,', 7066), ('colours.', 7067), ('counter', 7068), ('danskin', 7069), ('duck', 7070), ('etc.)', 7071), ('fade.', 7072), ('fat,', 7073), (\"father's\", 7074), ('feeling,', 7075), ('fine!', 7076), ('fingers,', 7077), ('fit...', 7078), ('fortunately,', 7079), ('freaking', 7080), ('friction', 7081), ('frumpy', 7082), ('future!', 7083), ('genie', 7084), ('goes.', 7085), (\"he'll\", 7086), ('hong', 7087), ('impress', 7088), ('insides', 7089), ('label.', 7090), ('mall.', 7091), ('metals', 7092), ('name,', 7093), ('opening.', 7094), ('ordering,', 7095), ('pendent', 7096), ('pic,', 7097), ('podiatrist', 7098), ('pricey.', 7099), ('sections', 7100), ('slept', 7101), ('sparkling', 7102), ('stone,', 7103), ('strictly', 7104), ('summers', 7105), ('sun,', 7106), ('supply', 7107), ('tap', 7108), ('trusted', 7109), ('usually,', 7110), ('video', 7111), ('what?', 7112), ('yours', 7113), ('(same', 7114), ('1351036800', 7115), ('27', 7116), ('34&#34;', 7117), ('arrives', 7118), ('away!', 7119), ('backup', 7120), ('bank', 7121), ('bummer', 7122), ('choices.', 7123), ('collection,', 7124), ('contrasting', 7125), ('copper', 7126), ('covered.', 7127), ('curves,', 7128), ('daily,', 7129), ('differences', 7130), ('divers', 7131), ('drivers', 7132), ('flops!', 7133), ('free,', 7134), ('glowing', 7135), ('hip.', 7136), ('hood.', 7137), ('insulation', 7138), ('kicking', 7139), ('leisure', 7140), ('lift.', 7141), ('located', 7142), ('lycra', 7143), ('make.', 7144), ('max', 7145), ('micro', 7146), ('ons', 7147), ('patterns.', 7148), ('piece!', 7149), ('plane', 7150), ('plating', 7151), ('retired', 7152), ('rips', 7153), ('s/m', 7154), ('shop.', 7155), ('slimming.', 7156), ('small;', 7157), ('standing.', 7158), ('surprised!', 7159), ('survived', 7160), ('team', 7161), ('too!!', 7162), ('van', 7163), ('vest.', 7164), ('victoria', 7165), ('wallflower', 7166), ('yay', 7167), ('2x.', 7168), ('4&#34;', 7169), (\"5'1&#34;\", 7170), (\"5'4,\", 7171), ('accomodate', 7172), ('alone,', 7173), ('annoyed', 7174), ('avia', 7175), ('breaker', 7176), ('cardio', 7177), (\"carter's\", 7178), ('challenge.', 7179), ('clear.', 7180), ('comfortable...', 7181), ('confortable.', 7182), ('connected', 7183), ('cushion,', 7184), ('dial.', 7185), ('dog.', 7186), ('dual', 7187), ('envelope', 7188), ('events.', 7189), ('exchange.', 7190), ('factor.', 7191), ('faded.', 7192), ('flirty', 7193), ('football', 7194), ('form.', 7195), ('grow.', 7196), ('guarantee', 7197), ('impressive.', 7198), ('index', 7199), ('london', 7200), ('nylons', 7201), ('owner', 7202), ('penny!', 7203), ('pet', 7204), ('pierced', 7205), ('rack', 7206), ('replaced.', 7207), ('rubber.', 7208), ('sassy', 7209), ('screen.', 7210), ('seemingly', 7211), ('setting,', 7212), ('shy', 7213), ('silky,', 7214), ('skimpy', 7215), ('skinny.', 7216), ('softer.', 7217), ('straight.', 7218), ('struggled', 7219), ('stuffer', 7220), ('substitute', 7221), ('them).', 7222), ('toed', 7223), ('unattractive', 7224), ('upside', 7225), ('vision', 7226), ('warehouse', 7227), ('wise.', 7228), ('worthy', 7229), ('(after', 7230), ('(of', 7231), ('1353110400', 7232), ('afternoon', 7233), ('awkwardly', 7234), ('balaclava', 7235), ('both,', 7236), ('breezy', 7237), ('building', 7238), ('camera', 7239), ('careful.', 7240), ('clingy.', 7241), ('comfortable!!!', 7242), ('cruise.', 7243), ('defeats', 7244), ('differently.', 7245), ('discover', 7246), ('door.', 7247), ('energy', 7248), ('false', 7249), ('fat.', 7250), ('feels.', 7251), ('flaws.', 7252), ('form-fitting', 7253), ('fraying', 7254), ('freshwater', 7255), ('getting.', 7256), ('glare', 7257), ('glossy', 7258), ('haha.', 7259), ('horse', 7260), ('indicate', 7261), ('insanely', 7262), ('instruction', 7263), ('kids,', 7264), ('laptop', 7265), ('lenght', 7266), ('material!', 7267), (\"mom's\", 7268), ('nice...', 7269), ('ny', 7270), ('official', 7271), ('or,', 7272), ('padded.', 7273), ('piercing', 7274), ('played', 7275), ('puppy', 7276), ('ratings', 7277), ('regardless,', 7278), ('replacements', 7279), ('section.', 7280), ('slippage', 7281), ('slippery.', 7282), ('soon,', 7283), ('stability.', 7284), ('steal.', 7285), ('suede,', 7286), ('teach', 7287), ('thigh,', 7288), ('those,', 7289), ('ultimately', 7290), ('variation', 7291), ('wing', 7292), ('yet!', 7293), ('(only', 7294), ('1/2&#34;', 7295), ('1351728000', 7296), ('advertising', 7297), ('backless', 7298), ('beloved', 7299), ('binding.', 7300), ('birth', 7301), ('calling', 7302), ('classics', 7303), ('cleaner', 7304), ('cloud', 7305), ('collar.', 7306), ('corset,', 7307), ('cushioned.', 7308), ('cycle.', 7309), ('daughter-in-law', 7310), ('fifth', 7311), (\"fit's\", 7312), ('grandmother', 7313), ('guess,', 7314), ('heat,', 7315), ('hurting.', 7316), ('icy', 7317), ('italian', 7318), ('job!', 7319), ('kid.', 7320), ('m/l', 7321), ('machine,', 7322), ('nicer.', 7323), ('placing', 7324), ('plain,', 7325), ('presents', 7326), ('prongs', 7327), ('reached', 7328), ('recommending', 7329), ('reset', 7330), ('rock!', 7331), ('slipping.', 7332), ('smooths', 7333), ('southern', 7334), ('stiffness', 7335), ('stink', 7336), (\"today's\", 7337), ('unsightly', 7338), ('yard.', 7339), (\"year's\", 7340), ('1350432000', 7341), ('1353628800', 7342), ('1405987200', 7343), ('5.11', 7344), (':).', 7345), ('ban', 7346), ('beige.', 7347), ('bib', 7348), ('cage', 7349), ('climbing', 7350), ('completely.', 7351), ('dependable', 7352), ('eco', 7353), ('fashion,', 7354), ('fortune', 7355), ('grain', 7356), ('granted', 7357), ('honey', 7358), ('judge', 7359), ('justify', 7360), ('lake', 7361), ('lesser', 7362), ('lighter,', 7363), ('minimus', 7364), ('notice.', 7365), ('period,', 7366), ('prettiest', 7367), ('puffy', 7368), ('relaxing', 7369), ('ruffle', 7370), ('runner.', 7371), ('runs,', 7372), ('sad.', 7373), ('seasons.', 7374), ('securely.', 7375), ('shortly', 7376), ('silhouette', 7377), ('slightest', 7378), ('sloppy.', 7379), ('softener', 7380), ('spent.', 7381), ('tan.', 7382), ('terrain', 7383), ('themselves.', 7384), ('training.', 7385), ('underside', 7386), ('utility', 7387), ('will,', 7388), ('wooden', 7389), ('york', 7390), ('12-14', 7391), ('32&#34;', 7392), (\"5'7&#34;,\", 7393), ('acceptable.', 7394), ('baby,', 7395), ('blend.', 7396), ('bras!', 7397), ('bringing', 7398), ('buck', 7399), ('buena', 7400), ('carhartt.', 7401), ('cleavage,', 7402), ('clunky.', 7403), ('compartments.', 7404), ('cover.', 7405), ('curious', 7406), (\"doesn't.\", 7407), ('fit:', 7408), ('fits!', 7409), ('forms', 7410), ('glove!', 7411), ('heals', 7412), ('heavily', 7413), ('hopefully,', 7414), ('hrs', 7415), ('it.it', 7416), (\"keen's\", 7417), ('land', 7418), (\"lee's\", 7419), ('manufacturer.', 7420), ('me.the', 7421), ('message', 7422), ('moccasin', 7423), ('nursing.', 7424), ('paisley', 7425), ('petticoat', 7426), ('prefect', 7427), ('pregnancy.', 7428), ('reported', 7429), ('scrunched', 7430), ('set!', 7431), ('sore.', 7432), ('sorta', 7433), ('spandex.', 7434), ('steel.', 7435), ('stinky', 7436), ('switching', 7437), ('tan,', 7438), ('taper', 7439), ('tone.', 7440), ('tools', 7441), ('versatility', 7442), ('yo', 7443), ('(:', 7444), ('(us', 7445), ('46', 7446), (\"5'11\", 7447), ('accessories.', 7448), ('accordingly.', 7449), ('adult.', 7450), ('appropriate.', 7451), ('arrive,', 7452), ('average,', 7453), ('bummer.', 7454), ('colour,', 7455), ('difference,', 7456), ('expense', 7457), ('fashioned', 7458), ('fiber', 7459), ('fooled', 7460), ('friends,', 7461), ('gowns', 7462), ('gravel', 7463), ('inch.', 7464), ('joint', 7465), ('joke', 7466), ('manufacture', 7467), ('pastel', 7468), ('patterned', 7469), ('practical,', 7470), ('pregnant.', 7471), ('requiring', 7472), ('result,', 7473), ('san', 7474), ('sandles', 7475), ('scarves.', 7476), ('seam.', 7477), ('selection.', 7478), ('similar.', 7479), ('sites', 7480), ('size:', 7481), ('skid', 7482), ('small)', 7483), ('smashed', 7484), ('soak', 7485), ('softer,', 7486), ('sorry,', 7487), ('st.', 7488), ('start.', 7489), ('static', 7490), ('stumbled', 7491), ('success', 7492), ('surprisingly,', 7493), ('that?', 7494), ('tolerate', 7495), ('tough.', 7496), ('trainer', 7497), ('unlined', 7498), ('vibrant,', 7499), ('waste.', 7500), ('watchband', 7501), ('weekly', 7502), ('whoever', 7503), ('16,', 7504), ('30&#34;', 7505), ('all-day', 7506), ('ballerina', 7507), ('barefoot,', 7508), ('besides,', 7509), ('blister.', 7510), ('buy!!', 7511), ('cash,', 7512), ('caveat', 7513), ('church.', 7514), ('claimed', 7515), ('colorado', 7516), ('colorful.', 7517), ('combine', 7518), ('complains', 7519), ('core', 7520), ('decoration', 7521), ('dial,', 7522), ('elbow', 7523), ('emu', 7524), ('favourite', 7525), ('fellow', 7526), ('frame,', 7527), ('grabbed', 7528), ('helps!', 7529), ('hem.', 7530), ('horrible,', 7531), ('hurry', 7532), ('inseam,', 7533), ('lifted', 7534), ('love!!', 7535), ('oakley', 7536), ('on-line', 7537), ('open,', 7538), ('owns', 7539), ('parents', 7540), ('parking', 7541), ('peek', 7542), ('performs', 7543), ('pleated', 7544), ('pool,', 7545), ('ralph', 7546), ('recently.', 7547), ('roman', 7548), ('scarfs', 7549), ('scheme', 7550), ('skechers.', 7551), ('soul', 7552), ('struggling', 7553), ('swing', 7554), ('terrible,', 7555), ('tucking', 7556), ('tumble', 7557), ('ventilation', 7558), ('well.the', 7559), ('wider,', 7560), ('world,', 7561), ('xs.', 7562), ('(usually', 7563), ('1346889600', 7564), ('1349827200', 7565), ('1351468800', 7566), ('1351555200', 7567), (\"8's\", 7568), ('absorbent', 7569), ('accident', 7570), ('arm,', 7571), ('armor', 7572), ('ass', 7573), ('awhile,', 7574), ('bills.', 7575), ('bolero', 7576), ('book.', 7577), ('boots!!', 7578), ('bop', 7579), ('braclet', 7580), ('cautious', 7581), ('chair', 7582), ('cheep', 7583), ('choice!', 7584), ('clip.', 7585), ('crochet', 7586), ('crossed', 7587), ('cushions', 7588), ('dear', 7589), ('desired.', 7590), (\"driver's\", 7591), ('dull.', 7592), ('ear,', 7593), ('either!', 7594), ('embarrassing', 7595), ('enhance', 7596), ('evenings', 7597), (\"everyone's\", 7598), ('experiences', 7599), ('explained', 7600), ('exposing', 7601), ('facing', 7602), ('feed', 7603), ('florida.', 7604), ('for...', 7605), ('formed', 7606), ('fuzz', 7607), ('general.', 7608), ('gladly', 7609), ('grows', 7610), ('hefty', 7611), ('images', 7612), ('impossible.', 7613), ('instructions.', 7614), ('interest', 7615), ('lbs)', 7616), ('lined.', 7617), ('ll', 7618), ('longevity', 7619), ('mans', 7620), ('me;', 7621), ('mother,', 7622), ('mouth', 7623), ('net', 7624), ('obviously,', 7625), ('on...', 7626), ('pendants.', 7627), ('plans', 7628), ('pliable', 7629), ('pumps.', 7630), ('reviewers.', 7631), ('sanuks', 7632), ('saves', 7633), ('shinny', 7634), ('shrinking.', 7635), ('spaces', 7636), ('stamp', 7637), ('tactical', 7638), ('tendon', 7639), ('thinner.', 7640), ('three.', 7641), ('training,', 7642), ('under.', 7643), ('uses.', 7644), ('vendors', 7645), ('wicked', 7646), ('xlarge', 7647), ('(all', 7648), ('(without', 7649), ('105', 7650), ('1349308800', 7651), ('1350518400', 7652), ('1405641600', 7653), ('1405814400', 7654), ('36&#34;', 7655), (\"5'11&#34;\", 7656), ('6mm', 7657), ('accentuate', 7658), ('al', 7659), ('b.', 7660), ('badly.', 7661), ('basically,', 7662), ('beret', 7663), ('bridge', 7664), ('btw,', 7665), ('business.', 7666), ('cheaper,', 7667), ('chips', 7668), ('comfy!!', 7669), ('compromise', 7670), ('copy', 7671), ('crocs!', 7672), ('cushioned,', 7673), ('diapers', 7674), ('driving.', 7675), ('east', 7676), ('edge.', 7677), ('exercise,', 7678), ('fray', 7679), ('frustrated', 7680), ('frustrating', 7681), ('gas', 7682), ('granddaughters', 7683), ('internal', 7684), ('ipad', 7685), ('jazz', 7686), ('jessica', 7687), ('knocked', 7688), ('knots', 7689), ('less,', 7690), ('love!!!', 7691), ('low-cut', 7692), ('magnifying', 7693), ('metal,', 7694), ('monkey', 7695), ('music', 7696), ('nails', 7697), ('owls', 7698), ('partially', 7699), ('perfectly.i', 7700), ('production', 7701), ('quest', 7702), ('realy', 7703), ('reasonable,', 7704), ('rotating', 7705), (\"shoe's\", 7706), ('signature', 7707), ('spandex,', 7708), ('still.', 7709), ('sunday', 7710), ('surgical', 7711), ('testing', 7712), ('toasty.', 7713), ('tunic.', 7714), ('uggs,', 7715), ('undone.', 7716), ('unravel', 7717), ('unusually', 7718), ('why?', 7719), ('wireless', 7720), ('\"', 7721), ('(2', 7722), ('1322179200', 7723), ('2-4', 7724), ('5\\'3\"', 7725), ('5\\'8\"', 7726), ('5-6', 7727), ('again...', 7728), ('attempted', 7729), ('automatically', 7730), ('baggallini', 7731), ('balanced', 7732), ('bands,', 7733), ('belts,', 7734), ('blah', 7735), ('blends', 7736), ('boy,', 7737), ('bridesmaid', 7738), ('climate.', 7739), ('clouds', 7740), ('complaint,', 7741), ('cork', 7742), ('cropped', 7743), ('cushy,', 7744), ('dangerous', 7745), ('deck', 7746), ('designed.', 7747), ('detail,', 7748), ('dinner.', 7749), ('drops', 7750), ('each.', 7751), ('early.', 7752), ('enclosed', 7753), ('encourage', 7754), ('fibers', 7755), ('fills', 7756), ('firmer', 7757), ('flattened', 7758), ('floor,', 7759), ('footbed,', 7760), ('fussy', 7761), ('future,', 7762), ('gear.', 7763), ('insert.', 7764), ('inspired', 7765), ('jog', 7766), ('joke.', 7767), ('laundry.', 7768), ('lifetime', 7769), ('liquid', 7770), ('locally.', 7771), ('nerve', 7772), ('offered.', 7773), ('remaining', 7774), ('resistant,', 7775), ('retailer', 7776), ('ruching', 7777), ('social', 7778), ('strike', 7779), ('symbol', 7780), ('tell,', 7781), ('test.', 7782), ('toys', 7783), ('truck', 7784), ('up...', 7785), ('walked.', 7786), ('weather!', 7787), ('went.', 7788), ('$60', 7789), (\"'em.\", 7790), (\"(don't\", 7791), ('(probably', 7792), ('1346976000', 7793), ('190', 7794), ('36b', 7795), ('3t', 7796), (\"5'5&#34;,\", 7797), (\"80's\", 7798), ('alarms', 7799), ('asks', 7800), ('beware!', 7801), ('boobs,', 7802), ('brass', 7803), ('carry.', 7804), ('cart', 7805), (\"children's\", 7806), ('children.', 7807), ('classes.', 7808), ('doubled', 7809), ('fair,', 7810), ('fancy.', 7811), ('fit.i', 7812), ('flopping', 7813), ('function,', 7814), ('guys,', 7815), ('ice.', 7816), ('ideal.', 7817), ('jewelry!', 7818), ('kayano', 7819), ('liked,', 7820), ('linen', 7821), ('minecraft', 7822), ('moms', 7823), ('normally.', 7824), ('october', 7825), ('odd,', 7826), ('oval', 7827), ('own!', 7828), (\"people's\", 7829), ('pieces,', 7830), ('precious', 7831), ('pronation', 7832), ('push-up', 7833), ('reaching', 7834), ('results.', 7835), ('road.', 7836), ('rubber,', 7837), ('rugged,', 7838), ('scale', 7839), ('settle', 7840), ('shut', 7841), ('source', 7842), ('speaking', 7843), ('spice', 7844), ('styling,', 7845), ('surprise!', 7846), ('tones', 7847), ('town,', 7848), ('trial', 7849), ('trouble.', 7850), ('varying', 7851), ('vegas', 7852), ('won', 7853), ('wrap.', 7854), ('\"the', 7855), ('(unlike', 7856), ('1/3', 7857), ('1347926400', 7858), ('3&#34;', 7859), ('4t', 7860), (\"501's\", 7861), ('after.', 7862), ('also!', 7863), ('alternative.', 7864), ('aside,', 7865), ('batman', 7866), ('beaded', 7867), ('beware,', 7868), ('bonus,', 7869), ('bounce.', 7870), ('boy.', 7871), ('breast.', 7872), ('capris,', 7873), ('center.', 7874), ('concerned.', 7875), ('costly', 7876), ('definetly', 7877), ('del', 7878), ('delivered.', 7879), ('delivers', 7880), ('expose', 7881), ('extends', 7882), ('favorites!', 7883), ('floors,', 7884), ('gathering', 7885), ('gauge', 7886), ('gemstone', 7887), ('goodwill', 7888), ('gross', 7889), ('herself', 7890), ('holidays.', 7891), ('hoped,', 7892), ('it-', 7893), ('lasting.', 7894), ('lever', 7895), ('limit', 7896), ('notch.', 7897), ('olga', 7898), ('partial', 7899), ('pearls,', 7900), ('pile', 7901), ('protector', 7902), ('release', 7903), ('remembered', 7904), ('sagging', 7905), ('satisfied!', 7906), ('sex', 7907), ('shoe...', 7908), ('sideways', 7909), ('signal', 7910), ('sizes!', 7911), ('sky', 7912), ('slip-ons', 7913), ('smallish', 7914), ('spilling', 7915), ('stage', 7916), ('straight,', 7917), ('strain', 7918), ('structured', 7919), ('student', 7920), ('substantial,', 7921), ('suffered', 7922), ('tank,', 7923), ('target.', 7924), ('tee,', 7925), ('texture,', 7926), ('touched', 7927), ('uniboob', 7928), ('unpleasant', 7929), ('volume', 7930), ('wearable,', 7931), ('what.', 7932), ('whom', 7933), ('wolf', 7934), ('$20.', 7935), ('$6', 7936), (\"(that's\", 7937), ('1344211200', 7938), ('18k', 7939), ('2t', 7940), ('8m', 7941), ('allen', 7942), ('anywhere,', 7943), ('applied', 7944), ('black)', 7945), ('bulkier', 7946), ('cable', 7947), ('central', 7948), ('charts', 7949), ('claw', 7950), ('coins', 7951), ('cramped', 7952), ('crotch,', 7953), ('definition', 7954), ('enter', 7955), ('expensive!', 7956), ('fee', 7957), ('fishnet', 7958), ('flair', 7959), ('flesh', 7960), ('floating', 7961), ('furry', 7962), ('further.', 7963), ('garment,', 7964), ('garters', 7965), ('hooks.', 7966), ('human', 7967), ('incredible.', 7968), ('jet', 7969), ('konov', 7970), ('lenses.', 7971), ('license,', 7972), ('loads', 7973), ('massage', 7974), ('moc', 7975), ('nautica', 7976), ('nice!!', 7977), ('nike,', 7978), ('occasion,', 7979), ('partner', 7980), ('por', 7981), ('quality;', 7982), ('regards', 7983), ('restaurant', 7984), ('rich.', 7985), ('round,', 7986), ('senior', 7987), ('shear', 7988), ('shoe;', 7989), ('shoes)', 7990), ('situations', 7991), ('size),', 7992), ('snugly.', 7993), ('spa', 7994), ('stairs', 7995), ('strand', 7996), ('strangely', 7997), ('swap', 7998), ('toebox', 7999), ('trash.', 8000), ('trifold', 8001), ('trunk', 8002), ('underarm', 8003), ('undergarment', 8004), ('why,', 8005), ('xoxo', 8006), ('$12', 8007), ('&#8211;', 8008), ('1348444800', 8009), ('5\\'2\"', 8010), ('5-star', 8011), ('70', 8012), ('batch', 8013), ('beauty.', 8014), ('brightly', 8015), ('broke,', 8016), ('budget.', 8017), ('clarity', 8018), ('clings', 8019), ('craftsmanship.', 8020), ('dainty,', 8021), ('diamond.', 8022), ('displays', 8023), ('dockers.', 8024), ('empire', 8025), ('empty', 8026), ('enormous', 8027), ('extensive', 8028), ('fave', 8029), ('finest', 8030), ('fleece,', 8031), ('fluff', 8032), (\"girl's\", 8033), ('great;', 8034), ('haha', 8035), ('handful', 8036), ('heavier,', 8037), ('her!', 8038), ('id,', 8039), ('initially,', 8040), ('inserts,', 8041), ('insurance', 8042), ('jewelery', 8043), ('k.', 8044), ('lab', 8045), ('loops.', 8046), ('luggage', 8047), (\"manufacturer's\", 8048), ('markers', 8049), ('means,', 8050), ('mud,', 8051), ('nicely!', 8052), ('occasions,', 8053), ('patricia', 8054), ('percent', 8055), ('possible,', 8056), ('recommends', 8057), ('relative', 8058), ('rfid', 8059), ('rise.', 8060), ('rockports', 8061), ('rocks.', 8062), ('screws', 8063), ('second.', 8064), ('seen,', 8065), ('sharp,', 8066), ('shoes).', 8067), ('shoes;', 8068), ('size&#34;', 8069), ('spill', 8070), ('stole', 8071), ('sub', 8072), ('surface.', 8073), ('surfaces,', 8074), ('tag,', 8075), ('undershirts.', 8076), ('varies', 8077), ('x-small', 8078), ('$10.', 8079), ('$7', 8080), ('&lt;3', 8081), ('(almost', 8082), ('(including', 8083), ('1347235200', 8084), ('1348531200', 8085), ('1350259200', 8086), ('1351123200', 8087), ('1353196800', 8088), ('arrival.', 8089), ('attaches', 8090), ('benefits', 8091), ('bootcut', 8092), ('border', 8093), ('bustier', 8094), ('cats', 8095), ('coldest', 8096), ('competitive', 8097), ('contain', 8098), ('costing', 8099), ('countdown', 8100), ('criticism', 8101), ('dang', 8102), ('direction', 8103), ('display.', 8104), ('distances.', 8105), ('don&#8217;t', 8106), ('emergency', 8107), ('experiencing', 8108), ('fading.', 8109), ('fair.', 8110), ('flaw.', 8111), ('flip-flop', 8112), ('fly.', 8113), ('good-looking', 8114), ('grip.', 8115), ('gt', 8116), ('gun', 8117), ('him!', 8118), ('hopeful', 8119), ('hose.', 8120), ('i.e.', 8121), ('imperfections', 8122), ('kidding', 8123), ('legged', 8124), (\"levi's,\", 8125), ('mocs', 8126), ('more!!', 8127), ('o.k.', 8128), ('on.i', 8129), ('pace', 8130), ('performance.', 8131), ('photos,', 8132), ('qualities', 8133), ('reliable.', 8134), ('rocket', 8135), ('sandle', 8136), ('scrunch', 8137), ('secondly,', 8138), ('sheep', 8139), ('sleek,', 8140), ('slits', 8141), ('spaghetti', 8142), ('subdued', 8143), ('sweats.', 8144), ('swimming.', 8145), ('technically', 8146), ('them.they', 8147), ('thickness,', 8148), ('timing', 8149), ('treadmill.', 8150), ('twisting', 8151), ('underpants', 8152), ('union', 8153), ('waistline.', 8154), ('wake', 8155), ('wear.i', 8156), ('winding', 8157), ('wranglers', 8158), ('wrinkles.', 8159), ('\"i', 8160), ('&#34;break', 8161), ('(both', 8162), ('(different', 8163), ('1325030400', 8164), ('1344470400', 8165), ('1351814400', 8166), ('20%', 8167), (\"5'6&#34;,\", 8168), ('505', 8169), ('aa', 8170), ('above,', 8171), ('attracted', 8172), ('blocking', 8173), ('blues', 8174), ('camis', 8175), ('car,', 8176), ('cloudy', 8177), ('compression.', 8178), ('cover-up', 8179), ('crossbody', 8180), ('cute...', 8181), ('cycle,', 8182), ('dd.', 8183), ('decades', 8184), ('defects', 8185), ('destroyed', 8186), ('diamonds,', 8187), ('dragging', 8188), ('ease.', 8189), ('etc...', 8190), ('felt.', 8191), ('finishing', 8192), ('flexees', 8193), ('gaudy.', 8194), ('goofy', 8195), ('handled', 8196), ('help,', 8197), ('helped.', 8198), ('hour,', 8199), ('international', 8200), ('ironed', 8201), ('jackets.', 8202), ('john', 8203), ('johns', 8204), ('l/xl', 8205), ('large)', 8206), ('le', 8207), ('lug', 8208), ('mailbox', 8209), ('minimizes', 8210), ('neoprene', 8211), ('noticeable,', 8212), ('numbers.', 8213), ('pack,', 8214), ('paw', 8215), ('petals', 8216), ('pirate', 8217), ('pleased,', 8218), ('powered', 8219), ('price!!!', 8220), ('reads', 8221), ('received,', 8222), ('regularly.', 8223), ('remarkably', 8224), ('rise,', 8225), ('seal', 8226), ('soled', 8227), ('styling.', 8228), ('supplier', 8229), ('tabs', 8230), ('tapers', 8231), ('tent', 8232), ('twice,', 8233), ('umbrella', 8234), ('usable', 8235), ('warmest', 8236), ('without.', 8237), ('womans', 8238), ('worse,', 8239), ('year!', 8240), ('&#60;3', 8241), ('1347408000', 8242), ('1348099200', 8243), ('1405728000', 8244), ('6.5.', 8245), ('8mm', 8246), ('bargain!', 8247), ('battery,', 8248), ('behind.', 8249), ('bothering', 8250), ('bracelets,', 8251), ('bridesmaids', 8252), ('chances', 8253), ('compensate', 8254), ('convertible', 8255), ('crap.', 8256), ('debated', 8257), ('deceiving', 8258), ('delight', 8259), ('dollars,', 8260), ('drives', 8261), ('dyed', 8262), ('ebay', 8263), ('em.', 8264), ('everyday!', 8265), ('exposed.', 8266), ('exquisite', 8267), ('eyes,', 8268), ('fan!', 8269), ('flared', 8270), ('fragile.', 8271), ('from,', 8272), ('gaping', 8273), ('ghost', 8274), ('goal', 8275), ('great...', 8276), ('h', 8277), ('half,', 8278), ('heavyweight', 8279), ('hesitated', 8280), ('hole,', 8281), ('incorrect', 8282), ('knocking', 8283), ('length!', 8284), ('minimizing', 8285), ('mustard', 8286), ('needed!', 8287), ('newport', 8288), ('odor.', 8289), ('opening,', 8290), ('pairs!', 8291), ('palm', 8292), ('pen', 8293), ('pokes', 8294), ('protection,', 8295), ('rust', 8296), ('seeking', 8297), ('seriously.', 8298), ('shame,', 8299), ('shinier', 8300), ('silky.', 8301), ('spacious', 8302), ('special,', 8303), ('specialty', 8304), ('tights!', 8305), ('timex.', 8306), ('tshirts', 8307), ('unbeatable', 8308), ('up&#34;', 8309), ('vacation,', 8310), ('washer.', 8311), ('weighed', 8312), ('wirefree', 8313), ('women!', 8314), ('wool.', 8315), ('&#34;go', 8316), ('10.5,', 8317), ('1347321600', 8318), (\"5'4&#34;,\", 8319), ('5k', 8320), ('6&#34;', 8321), ('absorbs', 8322), ('addicted', 8323), ('adults', 8324), ('agreed', 8325), ('appropriately', 8326), ('bearpaws', 8327), ('bibs', 8328), ('bling.', 8329), ('bound', 8330), ('bridal', 8331), ('bullet', 8332), ('burning', 8333), ('buttoned', 8334), ('calendar', 8335), ('cobalt', 8336), ('color)', 8337), ('conforms', 8338), ('constricting.', 8339), ('details.', 8340), ('died', 8341), ('evenly', 8342), ('fit!!', 8343), ('flashy.', 8344), ('flipflops', 8345), ('fuss', 8346), ('good.i', 8347), ('healthy', 8348), ('heart.', 8349), ('hunter', 8350), ('immediate', 8351), ('insoles,', 8352), ('kors', 8353), ('lauren', 8354), ('layer,', 8355), ('lumpy', 8356), ('marks.', 8357), ('men,', 8358), ('michigan', 8359), ('mistake,', 8360), ('mountains', 8361), ('november', 8362), ('organic', 8363), ('page.', 8364), ('painfully', 8365), ('panty.', 8366), ('pregnant,', 8367), ('price.i', 8368), ('price?', 8369), ('pronounced', 8370), ('receipt', 8371), ('scuba', 8372), ('shape-ups', 8373), ('speaks', 8374), ('speedy', 8375), ('such,', 8376), ('sweatpants.', 8377), ('temps.', 8378), ('thankfully,', 8379), ('theres', 8380), ('toning', 8381), ('trainers', 8382), ('treatment', 8383), ('trek', 8384), ('trim.', 8385), ('two-tone', 8386), ('unnecessary', 8387), ('unwearable.', 8388), ('update.', 8389), ('wal-mart', 8390), ('walmart.', 8391), ('wardrobe!', 8392), ('wasting', 8393), ('weighing', 8394), ('workouts,', 8395), ('yourself,', 8396), ('zone', 8397), ('13.', 8398), ('1350172800', 8399), ('1351382400', 8400), ('1352678400', 8401), ('155', 8402), ('3-pack', 8403), ('7-8', 8404), ('achieve', 8405), ('arizona', 8406), ('awesome!!!', 8407), ('beautiful!!!', 8408), ('beside', 8409), ('bite', 8410), ('black!', 8411), ('boyfriend,', 8412), ('built,', 8413), ('built-in', 8414), ('bulging', 8415), ('candy', 8416), ('carhart', 8417), ('cement', 8418), ('changes.', 8419), ('collars', 8420), ('comfortable.the', 8421), ('como', 8422), ('connect', 8423), ('curvy,', 8424), ('dangling', 8425), ('descriptions', 8426), ('desire', 8427), ('dirt,', 8428), ('dissapointed.', 8429), ('dusty', 8430), ('edit', 8431), ('eliminate', 8432), ('em!', 8433), ('everyone,', 8434), ('expectation', 8435), ('exposure', 8436), ('farm', 8437), ('frankly,', 8438), ('garbage.', 8439), ('gifts,', 8440), ('got,', 8441), ('hammer', 8442), ('happens.', 8443), ('havaianas', 8444), ('heading', 8445), ('hiked', 8446), ('hotter', 8447), ('indeed.', 8448), ('intricate', 8449), ('jammies', 8450), ('leggins', 8451), ('levis.', 8452), ('man-made', 8453), ('markings', 8454), ('mileage', 8455), ('miss.', 8456), ('missing.', 8457), ('movements', 8458), ('new!', 8459), ('non-skid', 8460), ('nonetheless.', 8461), ('okay...', 8462), ('one)', 8463), ('option,', 8464), ('originals', 8465), ('perky', 8466), ('positioned', 8467), ('pre', 8468), ('proof.', 8469), ('regrets', 8470), ('reports', 8471), ('researched', 8472), ('ribs', 8473), ('rim', 8474), ('satchel', 8475), ('saturday', 8476), ('seamstress', 8477), ('secured', 8478), ('shoe!!', 8479), ('skiing', 8480), ('sleepers', 8481), ('so...', 8482), ('space,', 8483), ('splash', 8484), ('sports,', 8485), ('stable.', 8486), ('stolen', 8487), ('suitcase', 8488), ('suits.', 8489), ('temperatures.', 8490), ('tender', 8491), ('though...', 8492), ('tightly.', 8493), ('trails.', 8494), ('treads', 8495), ('trips.', 8496), ('underware', 8497), ('velcro.', 8498), ('walkers', 8499), ('what,', 8500), ('wishing', 8501), ('youth', 8502), ('&#34;no', 8503), ('1323216000', 8504), ('3xl', 8505), (\"5'2&#34;,\", 8506), (\"5'7,\", 8507), ('5\\'9\"', 8508), ('aggressive', 8509), ('arrow', 8510), ('august', 8511), ('auto', 8512), ('avenue', 8513), ('backpacking', 8514), ('beer', 8515), ('believed', 8516), ('boss', 8517), ('brief.', 8518), ('built.', 8519), ('but..', 8520), ('by.', 8521), ('cap,', 8522), ('cares', 8523), ('circulation.', 8524), ('clue', 8525), ('compress', 8526), ('confortable,', 8527), ('coordinate', 8528), ('coupon', 8529), ('coverup', 8530), ('crossfit', 8531), ('curvy.', 8532), ('d3', 8533), ('designed,', 8534), ('detachable', 8535), ('donated', 8536), ('doubt,', 8537), ('eating', 8538), ('economical', 8539), ('eyelets', 8540), ('fails', 8541), ('feet.i', 8542), ('forever!', 8543), ('garage', 8544), ('happened.', 8545), ('hats,', 8546), ('headed', 8547), ('high-end', 8548), ('important,', 8549), ('internet.', 8550), ('janes', 8551), ('jewelers', 8552), ('jock', 8553), ('jogging,', 8554), ('laugh', 8555), ('lg', 8556), ('lifestride', 8557), ('means.', 8558), ('miles,', 8559), ('monday', 8560), ('mood', 8561), ('naked', 8562), ('needle', 8563), ('ok...', 8564), ('orthaheels', 8565), ('oversize', 8566), ('peep', 8567), ('periods.', 8568), ('pillow', 8569), ('pink!', 8570), ('prices,', 8571), ('puddles', 8572), ('punch', 8573), ('relieved', 8574), ('ridge', 8575), ('rubbing.', 8576), ('scissors', 8577), ('shoelaces', 8578), ('stomach,', 8579), ('summertime', 8580), ('sweaters,', 8581), ('talked', 8582), ('them?', 8583), ('thinnest', 8584), ('ties.', 8585), ('trendy.', 8586), ('wardrobe,', 8587), ('washable,', 8588), ('worn!', 8589), ('(there', 8590), ('(think', 8591), ('130lbs', 8592), ('1327449600', 8593), ('1344988800', 8594), ('1347148800', 8595), ('3-6', 8596), ('300', 8597), ('32\"', 8598), ('action', 8599), ('anklet', 8600), ('apprehensive', 8601), ('bifold', 8602), ('bill!', 8603), ('buckle,', 8604), ('burnt', 8605), ('chewed', 8606), ('christmas!', 8607), ('cone', 8608), ('consistent.', 8609), ('conventional', 8610), ('cuddly', 8611), ('damaging', 8612), ('delightful', 8613), ('detergent', 8614), (\"don't,\", 8615), ('dropping', 8616), ('essentials', 8617), ('este', 8618), ('existing', 8619), ('fall/winter', 8620), ('flight', 8621), ('guessed', 8622), ('hearing', 8623), ('holders', 8624), ('hype', 8625), ('inaccurate', 8626), ('included.', 8627), ('killer', 8628), ('kindle', 8629), ('lap', 8630), ('launders', 8631), ('lighter.', 8632), ('lower.', 8633), ('lume', 8634), ('mature', 8635), ('members', 8636), ('messy', 8637), ('none.', 8638), ('oldest', 8639), ('outline', 8640), ('panties!', 8641), ('producto', 8642), ('professionally', 8643), ('retains', 8644), ('safely', 8645), ('sam', 8646), ('sherpa', 8647), ('shimmer', 8648), ('shortened', 8649), ('site,', 8650), ('situation.', 8651), ('sketcher', 8652), ('softened', 8653), ('stopper', 8654), ('suffering', 8655), ('thong.', 8656), ('tracking', 8657), ('tummy,', 8658), ('twelve', 8659), ('u117785953', 8660), ('u761252500', 8661), ('unfortunately.', 8662), ('up.i', 8663), ('urban', 8664), ('used,', 8665), ('waaaay', 8666), ('whatsoever', 8667), ('words.', 8668), ('\"one', 8669), ('(by', 8670), ('1325721600', 8671), ('1345593600', 8672), ('1346112000', 8673), ('1346198400', 8674), ('1348704000', 8675), ('1352505600', 8676), ('16.', 8677), ('34\"', 8678), ('5\\'10\"', 8679), ('baggier', 8680), ('bodysuit', 8681), ('boots!!!', 8682), ('centered', 8683), ('charging', 8684), ('chic.', 8685), ('chip', 8686), ('choose.', 8687), ('church,', 8688), ('clouds.', 8689), ('coach', 8690), ('complements.', 8691), ('complicated', 8692), ('complimentary', 8693), ('contains', 8694), ('contoured', 8695), ('correctly,', 8696), ('creep', 8697), ('dainty.', 8698), ('dancing.', 8699), ('discontinue', 8700), ('discontinued.', 8701), ('docker', 8702), ('draped', 8703), ('early,', 8704), ('ee', 8705), ('fog', 8706), ('fulfilled', 8707), ('glows', 8708), ('graphics', 8709), ('heaven.', 8710), ('heft', 8711), ('industrial', 8712), ('intact', 8713), ('kamik', 8714), ('lengths.', 8715), ('letters', 8716), ('lightening', 8717), ('like!', 8718), ('location', 8719), ('makeup', 8720), ('mama', 8721), ('me..', 8722), ('mustache', 8723), ('necklaces.', 8724), ('nude.', 8725), ('older,', 8726), ('opaque,', 8727), ('operate', 8728), ('over-sized', 8729), ('party,', 8730), ('picks', 8731), ('piercings', 8732), ('pilling.', 8733), ('pjs.', 8734), ('poked', 8735), ('pregnancy,', 8736), ('promptly,', 8737), ('purposes,', 8738), ('quality...', 8739), ('ray-ban', 8740), ('realizing', 8741), ('reddish', 8742), ('reluctant', 8743), ('removed.', 8744), ('replacement,', 8745), ('scent', 8746), ('separates', 8747), ('shopper', 8748), ('silk,', 8749), ('sleep.', 8750), ('snugly,', 8751), ('solitaire', 8752), ('spoiled', 8753), ('substance', 8754), ('sufficiently', 8755), ('sweet.', 8756), ('taller.', 8757), ('torture', 8758), ('trotters', 8759), ('unzip', 8760), ('vegan', 8761), ('vest,', 8762), ('vibrams', 8763), ('visiting', 8764), ('$80', 8765), ('(2)', 8766), ('(black', 8767), ('10&#34;', 8768), ('1326931200', 8769), ('1342483200', 8770), ('1343001600', 8771), ('1349913600', 8772), ('1350604800', 8773), ('18\"', 8774), ('23', 8775), ('55', 8776), ('65', 8777), ('albeit', 8778), ('alleviate', 8779), ('any.', 8780), ('array', 8781), ('attached.', 8782), ('bells', 8783), ('bodysuits', 8784), ('cents', 8785), ('charges', 8786), ('cloth,', 8787), ('cloud.', 8788), ('code', 8789), ('contained', 8790), ('cozy!', 8791), ('customers.', 8792), ('damage.', 8793), ('daylight', 8794), ('demi', 8795), ('destroy', 8796), ('details,', 8797), ('dirty,', 8798), ('disagree', 8799), ('distance.', 8800), ('dolman', 8801), ('else!', 8802), ('famous', 8803), ('forgotten', 8804), ('garden.', 8805), ('girlfriend.', 8806), ('good...', 8807), ('hems', 8808), ('infant', 8809), ('kudos', 8810), ('law.', 8811), ('leaf', 8812), ('leak', 8813), ('maroon', 8814), ('maybe.', 8815), ('modest.', 8816), ('molds', 8817), ('moment.', 8818), ('monitor', 8819), ('names', 8820), ('nope', 8821), ('orthotics.', 8822), ('perfection.', 8823), ('polar', 8824), ('prominent', 8825), ('rating,', 8826), ('related', 8827), ('remove.', 8828), ('reveal', 8829), ('review:', 8830), ('sacrifice', 8831), ('seconds.', 8832), ('separation', 8833), ('shame.', 8834), ('sheet', 8835), ('shine,', 8836), ('shiney', 8837), ('skechers,', 8838), ('so-so', 8839), ('spurs', 8840), ('standing,', 8841), ('steam', 8842), ('strapped', 8843), ('suggested.', 8844), ('surgery,', 8845), ('ticking', 8846), ('time)', 8847), ('transparent.', 8848), ('turquoise.', 8849), ('twin', 8850), ('undo', 8851), ('waterproofing', 8852), ('wearer.', 8853), ('whats', 8854), ('wind,', 8855), ('wool,', 8856), ('zippers.', 8857), ('!!!!!', 8858), ('\"no', 8859), ('.....', 8860), ('1&#34;', 8861), ('1,', 8862), ('13,', 8863), ('1342742400', 8864), ('3-5', 8865), ('30\"', 8866), ('40d', 8867), ('activities,', 8868), ('advertise', 8869), ('again!!', 8870), ('aluminum', 8871), ('assured', 8872), ('beige,', 8873), ('blanket', 8874), ('blowing', 8875), ('bone.', 8876), ('books', 8877), ('bottoms,', 8878), ('break,', 8879), ('btw', 8880), ('cami.', 8881), ('chaffing', 8882), ('character', 8883), ('charge.', 8884), ('cloths', 8885), ('comfortable..', 8886), ('consistency', 8887), ('contemporary', 8888), ('convenient.', 8889), ('coolest', 8890), ('country.', 8891), ('coz', 8892), ('crushed', 8893), ('d.', 8894), ('day)', 8895), ('death', 8896), ('draws', 8897), ('easiest', 8898), ('endless', 8899), ('euro', 8900), ('exactly.', 8901), ('fasciitis,', 8902), ('feathers', 8903), ('fiona', 8904), ('firm,', 8905), ('fotl', 8906), ('get!', 8907), ('illumination', 8908), ('intention', 8909), ('interesting.', 8910), (\"isn't.\", 8911), ('kinvara', 8912), ('lands', 8913), ('lbs.,', 8914), ('martens', 8915), ('merchandise', 8916), ('mule', 8917), ('natural.', 8918), ('nonetheless,', 8919), ('notes', 8920), ('nubuck', 8921), ('nuts', 8922), (\"o'clock\", 8923), ('pains', 8924), ('persons', 8925), ('place!', 8926), ('please,', 8927), ('pointing', 8928), ('pooch', 8929), ('powder', 8930), ('precisely', 8931), ('raining', 8932), ('reducing', 8933), ('refused', 8934), ('remember,', 8935), ('robe!', 8936), ('roller', 8937), ('rows', 8938), ('satisfaction', 8939), (\"seller's\", 8940), ('skecher', 8941), ('slightly.', 8942), ('slinky', 8943), ('solves', 8944), ('swimsuit.', 8945), ('t.', 8946), ('tended', 8947), ('through!', 8948), ('to!', 8949), ('too.i', 8950), ('tread.', 8951), ('tremendous', 8952), ('tunics', 8953), ('unraveling', 8954), ('usage', 8955), ('visual', 8956), ('weirdly', 8957), ('well..', 8958), ('wrinkle.', 8959), ('yarn', 8960), ('&#34;the', 8961), ('1323302400', 8962), ('1326412800', 8963), ('1330041600', 8964), ('1339113600', 8965), ('1345420800', 8966), ('1346803200', 8967), ('1347580800', 8968), ('1348617600', 8969), (\"6'1&#34;\", 8970), ('a.', 8971), ('afghanistan', 8972), ('aging', 8973), (\"ain't\", 8974), ('alpine', 8975), ('amazon)', 8976), ('armholes', 8977), ('ate', 8978), ('becuase', 8979), ('begun', 8980), ('believe.', 8981), ('bicycle', 8982), ('brand)', 8983), ('careful,', 8984), ('chemicals', 8985), ('chores', 8986), ('closure,', 8987), ('color...', 8988), ('conditions,', 8989), ('convert', 8990), ('desperate', 8991), ('dinner,', 8992), ('disapointed', 8993), (\"docker's\", 8994), ('doll', 8995), ('durable!', 8996), ('emblem', 8997), ('ends.', 8998), ('ex', 8999), ('eye,', 9000), ('farther', 9001), ('february', 9002), ('feelings', 9003), ('foot)', 9004), ('gradually', 9005), ('graduation', 9006), ('gripping', 9007), ('gusset', 9008), ('haan', 9009), ('habit', 9010), ('heusen', 9011), ('hooks,', 9012), ('impressed,', 9013), ('in\"', 9014), ('information.', 9015), ('lately,', 9016), ('locking', 9017), ('loom.', 9018), ('loosening', 9019), ('lump', 9020), ('maintains', 9021), ('models,', 9022), ('mortar', 9023), ('night!', 9024), ('noticed.', 9025), ('offer.', 9026), ('ones!', 9027), ('opt', 9028), ('percentile', 9029), ('perry', 9030), ('pleats', 9031), ('pre-pregnancy', 9032), ('pricier', 9033), ('prime,', 9034), ('prove', 9035), ('purses.', 9036), ('recall', 9037), ('recommended,', 9038), ('relieve', 9039), ('revealing.', 9040), ('rocking', 9041), ('sandy', 9042), ('separating', 9043), ('shake', 9044), ('shops', 9045), ('skeleton', 9046), ('soaking', 9047), ('steal!', 9048), ('straighten', 9049), ('supper', 9050), ('surrounding', 9051), ('tea', 9052), ('trimmed', 9053), ('up)', 9054), ('vamp', 9055), ('wearings.', 9056), ('wristband', 9057), ('youre', 9058), ('(most', 9059), ('(over', 9060), ('(some', 9061), ('.the', 9062), ('1325635200', 9063), ('1337040000', 9064), ('1338422400', 9065), ('1340582400', 9066), ('1340928000', 9067), ('1344556800', 9068), ('1347753600', 9069), ('1349222400', 9070), ('1349395200', 9071), ('3)', 9072), (\"5'5,\", 9073), (\"5'8&#34;,\", 9074), ('6ft', 9075), (':)i', 9076), ('abuse.', 9077), ('airy,', 9078), ('alegria', 9079), ('australia', 9080), ('begins', 9081), ('blouses.', 9082), ('bother.', 9083), ('bout', 9084), ('breastfeeding', 9085), ('brother.', 9086), ('bugs', 9087), ('bulova', 9088), ('came.', 9089), ('camisoles', 9090), ('carpenter', 9091), ('cars', 9092), ('category', 9093), ('classy!', 9094), ('clunky,', 9095), ('coobie', 9096), ('craft', 9097), ('detract', 9098), ('dip', 9099), (\"diver's\", 9100), ('edgy', 9101), ('encore', 9102), ('encountered', 9103), ('even.', 9104), ('ever!!!', 9105), ('everyone!', 9106), ('faith', 9107), ('feet)', 9108), ('filigree', 9109), ('fyi,', 9110), ('gathered', 9111), ('glass.', 9112), ('heal.', 9113), ('heavier.', 9114), ('heck,', 9115), ('hemming', 9116), ('hook.', 9117), ('humidity', 9118), ('informed', 9119), ('intended.', 9120), ('involved', 9121), ('jungle', 9122), ('leery', 9123), ('light-weight,', 9124), ('logo.', 9125), ('logos', 9126), ('looser,', 9127), ('lying', 9128), ('magnets', 9129), ('matter,', 9130), ('maui', 9131), ('maybe,', 9132), ('mediocre', 9133), ('midsection', 9134), ('min', 9135), ('mommy', 9136), ('must.', 9137), ('nightgown.', 9138), ('packaged,', 9139), ('perfect...', 9140), ('presented', 9141), ('prob', 9142), ('pun', 9143), ('reccommend', 9144), ('recovery', 9145), ('refer', 9146), ('reflects', 9147), ('remotely', 9148), ('retained', 9149), ('rocks,', 9150), ('sack', 9151), ('savings', 9152), ('screwed', 9153), ('shoveling', 9154), ('silly.', 9155), ('similar,', 9156), ('simulated', 9157), ('sitting.', 9158), ('size.the', 9159), ('slippery,', 9160), ('slots,', 9161), ('soreness', 9162), ('stacked', 9163), ('stockings,', 9164), ('sunglass', 9165), ('supple.', 9166), ('surgeries', 9167), ('sweatshirt,', 9168), ('tailoring', 9169), ('them!!!!', 9170), ('them-', 9171), ('threads.', 9172), ('today!', 9173), ('tops!', 9174), ('utilitarian', 9175), ('variations', 9176), ('vents', 9177), ('weary', 9178), ('weekends.', 9179), ('&#34;normal&#34;', 9180), ('125lbs', 9181), ('1324944000', 9182), ('1345075200', 9183), ('1345161600', 9184), ('1346025600', 9185), ('1346371200', 9186), ('1348790400', 9187), ('1350000000', 9188), ('2011', 9189), ('2x,', 9190), ('3\"', 9191), ('32d', 9192), (\"5'2,\", 9193), (\"50's\", 9194), ('6th', 9195), ('95%', 9196), ('adjustment.', 9197), ('alright,', 9198), ('attracts', 9199), ('bat', 9200), ('breeze.', 9201), ('bulge.', 9202), ('buxton', 9203), ('came,', 9204), ('card.', 9205), ('cardigan,', 9206), ('co-workers', 9207), ('coast', 9208), ('coat!', 9209), ('color!!', 9210), ('colors!!', 9211), ('damaged.', 9212), ('deco', 9213), ('deep.', 9214), ('design!', 9215), ('dry!', 9216), ('duper', 9217), ('enjoy.', 9218), ('exercises', 9219), ('expanding', 9220), ('expectations,', 9221), ('foot!', 9222), ('functions.', 9223), ('had!', 9224), ('hideous', 9225), ('himself', 9226), ('hinge', 9227), ('history', 9228), ('hoody', 9229), ('illusion', 9230), ('indicates', 9231), ('jealous', 9232), ('kimono', 9233), ('labels', 9234), ('lace-up', 9235), ('last!', 9236), ('layers.', 9237), ('legs!', 9238), ('listed.', 9239), ('low-rise', 9240), ('maintenance', 9241), ('meeting', 9242), ('mention,', 9243), ('nylon,', 9244), ('onesie', 9245), ('ought', 9246), ('outdoors,', 9247), ('outs', 9248), ('passing', 9249), ('patient', 9250), ('peridot', 9251), ('pills', 9252), ('policy.', 9253), ('proportions', 9254), ('provided.', 9255), ('quickly!', 9256), ('requirements', 9257), ('rough,', 9258), ('rule', 9259), ('s.', 9260), ('sage', 9261), ('sanita', 9262), ('shapeless', 9263), ('shrunk.', 9264), ('slack', 9265), ('smalls', 9266), ('splints', 9267), ('splurge', 9268), ('stuhrling', 9269), ('summery', 9270), ('technical', 9271), ('tees.', 9272), ('that.i', 9273), ('theirs', 9274), ('thus,', 9275), ('timepiece.', 9276), ('tired.', 9277), ('too...', 9278), ('triangle', 9279), ('variety.', 9280), ('wink', 9281), ('wonderfully,', 9282), ('$2', 9283), ('1336521600', 9284), ('1343174400', 9285), ('1343260800', 9286), ('1347494400', 9287), ('1347840000', 9288), ('1348012800', 9289), ('2014', 9290), ('24/7', 9291), ('36\"', 9292), ('8/10', 9293), (';', 9294), ('advance', 9295), ('alterations', 9296), ('angry', 9297), ('approx', 9298), ('backlight', 9299), ('between.', 9300), ('brief,', 9301), ('busty,', 9302), ('buying,', 9303), ('c.', 9304), ('cherry', 9305), ('clog.', 9306), ('coated', 9307), ('collection!', 9308), ('complaints,', 9309), ('dad.', 9310), ('def.', 9311), ('department.', 9312), ('desperately', 9313), ('developing', 9314), ('dg', 9315), ('donating', 9316), ('drab', 9317), ('dress!!', 9318), ('drier', 9319), ('electric', 9320), ('etc)', 9321), ('expected...', 9322), ('eye-catching', 9323), ('fabrics.', 9324), ('fabulous,', 9325), ('family,', 9326), ('footless', 9327), ('generation', 9328), ('give,', 9329), ('happier!', 9330), (\"he'd\", 9331), ('helmet', 9332), ('image,', 9333), ('indoors.', 9334), ('investment.', 9335), ('izod', 9336), ('jewlery', 9337), ('jobs', 9338), ('kipling', 9339), ('leads', 9340), ('lies', 9341), ('likes.', 9342), ('liner.', 9343), ('me),', 9344), ('mentioning', 9345), ('mine!', 9346), ('mock', 9347), ('moisture.', 9348), ('mother-in-law', 9349), ('noisy', 9350), ('nope.', 9351), ('ouch!', 9352), ('patches', 9353), ('patience', 9354), ('pliers', 9355), ('pockets!', 9356), ('present,', 9357), ('problematic', 9358), ('prom', 9359), ('raved', 9360), ('reference.', 9361), ('repeatedly', 9362), ('rest.', 9363), ('resulting', 9364), ('rotation', 9365), ('saddle', 9366), ('satisfactory', 9367), ('saver', 9368), ('shape!', 9369), ('size..', 9370), ('sleepwear', 9371), ('snaps.', 9372), ('sounded', 9373), ('spenco', 9374), ('standard.', 9375), ('stays.', 9376), ('story.', 9377), ('sunlight.', 9378), ('surprised,', 9379), ('surprises', 9380), ('toes!', 9381), ('transfer', 9382), ('uber', 9383), ('unwearable', 9384), ('usa,', 9385), (\"wasn't.\", 9386), ('watched', 9387), ('widths.', 9388), ('workout,', 9389), ('yr.', 9390), ('$35', 9391), ('$8', 9392), ('(what', 9393), ('1326153600', 9394), ('1329177600', 9395), ('1329350400', 9396), ('1341792000', 9397), ('1344297600', 9398), ('185', 9399), ('1928', 9400), (\"5'6,\", 9401), ('6-12', 9402), ('all...', 9403), ('all.i', 9404), ('angelina', 9405), ('aspects', 9406), ('at,', 9407), ('beat!', 9408), ('beginning.', 9409), ('bow.', 9410), ('boxed', 9411), ('bra...', 9412), ('bye', 9413), ('carefully.', 9414), ('chestnut', 9415), ('cleo', 9416), ('collar,', 9417), ('conceal', 9418), ('continually', 9419), ('countless', 9420), ('crazy,', 9421), ('crotchless', 9422), ('cumbersome', 9423), ('cushy.', 9424), ('daughters.', 9425), ('distinct', 9426), ('downfall', 9427), ('drawn', 9428), ('effect,', 9429), ('eliminated', 9430), ('exciting', 9431), ('eyelet', 9432), ('fab', 9433), ('fatigue', 9434), ('fiancee', 9435), ('fingerless', 9436), ('flawless', 9437), ('footie', 9438), ('forest', 9439), ('framed', 9440), ('freely', 9441), ('frills', 9442), ('funny,', 9443), ('garments.', 9444), ('great..', 9445), ('happening', 9446), ('hardest', 9447), ('hero', 9448), ('hood,', 9449), ('hose,', 9450), ('hurts.', 9451), ('in.i', 9452), ('indeed,', 9453), ('italy', 9454), ('jack', 9455), ('keep.', 9456), ('knit.', 9457), ('label,', 9458), ('lately.', 9459), ('laughed', 9460), ('legging.', 9461), ('letter', 9462), ('lit', 9463), ('lower,', 9464), ('match,', 9465), ('me!!', 9466), ('mindful', 9467), ('named', 9468), ('neuropathy', 9469), ('numbers,', 9470), ('one.i', 9471), ('organize', 9472), ('out.i', 9473), ('picky.', 9474), ('piercing.', 9475), ('pinch,', 9476), ('possibility', 9477), ('private', 9478), ('professional,', 9479), ('purely', 9480), ('re-ordered', 9481), ('reduces', 9482), ('regard', 9483), ('respect', 9484), ('responded', 9485), ('reverse', 9486), ('routine', 9487), ('safe,', 9488), ('satisfied,', 9489), ('scream', 9490), ('selecting', 9491), ('september', 9492), ('shift.', 9493), ('shoe.i', 9494), ('situations.', 9495), ('skinnier', 9496), ('smelling', 9497), ('spongy', 9498), ('steel,', 9499), ('stored', 9500), ('stuffing', 9501), ('submariner', 9502), ('suggestions', 9503), ('swimming,', 9504), ('take.', 9505), ('tango', 9506), ('these.i', 9507), ('trail.', 9508), ('travels', 9509), ('underwear!', 9510), ('warmers.', 9511), ('wore.', 9512), ('x-large.', 9513), ('youthful', 9514), ('(good', 9515), ('(these', 9516), (').', 9517), ('1\"', 9518), ('10m', 9519), ('1323648000', 9520), ('1325116800', 9521), ('1325203200', 9522), ('1329782400', 9523), ('1331596800', 9524), ('1333929600', 9525), ('1337212800', 9526), ('1337644800', 9527), ('1339804800', 9528), ('1341878400', 9529), ('3x.', 9530), (\"6'3&#34;\", 9531), ('across.', 9532), ('aerobic', 9533), ('aesthetic', 9534), ('annoying,', 9535), ('anyway!', 9536), ('appearing', 9537), ('applies', 9538), ('asleep', 9539), ('avoiding', 9540), ('backs.', 9541), ('balloon', 9542), ('bean', 9543), ('below.', 9544), ('big...', 9545), ('blazer.', 9546), ('causal', 9547), ('chains.', 9548), ('charming', 9549), ('check.', 9550), ('chicken', 9551), ('clumsy', 9552), ('cognac', 9553), ('combinations', 9554), ('competition', 9555), ('complaints!', 9556), ('cos', 9557), ('cosmetic', 9558), ('costume!', 9559), ('cuff.', 9560), ('cushiony.', 9561), ('dancing,', 9562), ('dd,', 9563), ('dramatic', 9564), ('dress-up', 9565), ('drying,', 9566), ('dumb', 9567), ('easter', 9568), ('efficient', 9569), ('emails', 9570), ('ending', 9571), ('fascitis', 9572), ('fighting', 9573), ('fit\"', 9574), ('fit&#34;', 9575), ('flattens', 9576), ('found,', 9577), ('gaining', 9578), ('goodwill.', 9579), ('ground,', 9580), ('heartbeat.', 9581), ('heavenly', 9582), ('hiker', 9583), ('horizontal', 9584), ('informal', 9585), ('itching', 9586), ('kaspersky', 9587), ('knit,', 9588), ('labor', 9589), ('laundering', 9590), ('leaning', 9591), ('lilyette', 9592), ('loaded', 9593), ('loss.', 9594), ('lousy', 9595), ('mark.', 9596), ('measurements,', 9597), ('midweight', 9598), ('murano', 9599), ('off...', 9600), ('omg!', 9601), ('organization', 9602), ('paris', 9603), ('pebble', 9604), ('peeking', 9605), ('pictured!', 9606), ('pilled', 9607), ('plate', 9608), ('position.', 9609), ('posting', 9610), ('produced', 9611), ('pumas', 9612), ('rag', 9613), ('regular.', 9614), ('runners.', 9615), ('scrubs.', 9616), ('seam,', 9617), ('shaped,', 9618), ('shawl.', 9619), ('shield', 9620), ('shipper', 9621), ('shoot', 9622), ('shrinkage,', 9623), ('storm', 9624), ('stuff!', 9625), ('superb.', 9626), ('these;', 9627), ('thirty', 9628), ('this?', 9629), ('threading', 9630), ('tick', 9631), ('time).', 9632), ('to&#34;', 9633), ('transaction', 9634), ('u232908133', 9635), ('up\"', 9636), ('vests', 9637), ('wayfarer', 9638), ('yard,', 9639), ('yrs.', 9640), ('zippers,', 9641), ('$20,', 9642), ('(sometimes', 9643), ('10+', 9644), ('12-18', 9645), ('120lbs', 9646), ('1334707200', 9647), ('1334793600', 9648), ('1339372800', 9649), ('1339545600', 9650), ('1341360000', 9651), ('1346457600', 9652), ('1351296000', 9653), ('4mm', 9654), (\"6'2&#34;\", 9655), ('7/8', 9656), ('8w', 9657), (\"9's\", 9658), ('alarm,', 9659), ('all-around', 9660), ('another!', 9661), ('anticipated,', 9662), (\"anyone's\", 9663), ('associated', 9664), ('backings', 9665), ('backwards', 9666), ('book,', 9667), ('both!', 9668), ('can,', 9669), ('cent', 9670), ('choker', 9671), ('citrine', 9672), ('clearance', 9673), ('co-worker', 9674), ('co.', 9675), ('computer.', 9676), ('concert', 9677), ('converted', 9678), ('crepe', 9679), ('cufflinks', 9680), ('cultured', 9681), ('danced', 9682), ('day.i', 9683), ('degrees.', 9684), ('designers', 9685), ('difference!', 9686), ('dirt.', 9687), ('edges,', 9688), ('effort.', 9689), ('event,', 9690), ('excited.', 9691), ('fit.the', 9692), ('fixing', 9693), ('girls!', 9694), ('glide', 9695), ('grandaughter', 9696), ('heels!', 9697), ('hilfiger', 9698), ('hills', 9699), ('hippy', 9700), ('hoodie!', 9701), ('i&#8217;m', 9702), ('individually', 9703), ('industry', 9704), ('it....', 9705), ('jackets,', 9706), ('lastly,', 9707), ('luck!', 9708), ('marketing', 9709), ('medium)', 9710), ('method', 9711), ('mid-calf', 9712), ('moments', 9713), ('neckline,', 9714), ('negatives', 9715), ('nice-looking', 9716), ('opener', 9717), ('organized.', 9718), ('oversized.', 9719), ('pads.', 9720), ('pairing', 9721), ('perfect.i', 9722), ('points.', 9723), ('project', 9724), ('prong', 9725), ('receipts', 9726), ('removal', 9727), ('represent', 9728), ('reserve', 9729), ('restrictive', 9730), ('returned,', 9731), ('sad,', 9732), ('scarves,', 9733), ('seattle', 9734), ('shapely', 9735), ('skulls', 9736), ('sleeve,', 9737), ('small!!', 9738), ('smoothed', 9739), ('studs,', 9740), ('success.', 9741), ('tacky.', 9742), ('tamarac', 9743), ('terrain.', 9744), ('themed', 9745), ('thoughts', 9746), ('time.the', 9747), ('too!!!', 9748), ('traveling,', 9749), ('u026509570', 9750), ('u263068464', 9751), ('watch...', 9752), ('whatever,', 9753), ('xxxl', 9754), ('youtube', 9755), ('(5', 9756), ('1326758400', 9757), ('1329436800', 9758), ('1336867200', 9759), ('1342656000', 9760), ('1344816000', 9761), ('1345248000', 9762), ('1345680000', 9763), ('1347062400', 9764), ('1349049600', 9765), ('1349136000', 9766), ('5&#34;', 9767), (\"7's\", 9768), ('81/2', 9769), (':p', 9770), ('accidently', 9771), ('appreciated.', 9772), ('aviator', 9773), ('banana', 9774), ('bank.', 9775), ('basket', 9776), ('beading', 9777), ('beatiful', 9778), ('been.', 9779), ('biking,', 9780), ('bobs', 9781), ('breaths', 9782), ('broader', 9783), ('buen', 9784), ('cardigans', 9785), ('chance,', 9786), ('cleans', 9787), ('clever', 9788), ('clothes!', 9789), ('coarse', 9790), ('color;', 9791), ('compartments,', 9792), ('concrete.', 9793), ('consumer', 9794), ('continuous', 9795), ('counting', 9796), ('critical', 9797), ('crowd', 9798), ('cuffs.', 9799), ('dearfoams', 9800), ('described!', 9801), ('doubts', 9802), ('dried.', 9803), ('duty.', 9804), ('esta', 9805), ('eve', 9806), ('ever!!', 9807), ('excessively', 9808), ('fake,', 9809), ('filling', 9810), ('flop,', 9811), ('foam.', 9812), ('gigantic', 9813), ('girlfriends', 9814), ('google', 9815), ('gore', 9816), ('handle.', 9817), ('hemmed.', 9818), ('hike.', 9819), ('ignore', 9820), ('imo.', 9821), (\"invicta's\", 9822), ('kelly', 9823), ('khakis.', 9824), ('knee-high', 9825), ('long-sleeve', 9826), ('loop.', 9827), ('marathons', 9828), ('mo', 9829), ('mode', 9830), ('more?', 9831), ('neighbor', 9832), ('nieces', 9833), ('no!', 9834), ('nose.', 9835), ('one...', 9836), ('orderd', 9837), ('overnight.', 9838), ('page,', 9839), ('paper,', 9840), ('paper.', 9841), ('peeled', 9842), ('pinch.', 9843), ('pinkie', 9844), ('pouch,', 9845), ('prefer,', 9846), ('rainbows', 9847), ('raincoat', 9848), ('reduction', 9849), ('repurchase', 9850), ('rush', 9851), ('scheduled', 9852), ('seldom', 9853), ('shades.', 9854), ('shoe)', 9855), ('sleeping,', 9856), ('small).', 9857), ('sooner.', 9858), ('springs', 9859), ('springy', 9860), ('states.', 9861), ('stopping', 9862), ('summers.', 9863), ('teardrop', 9864), ('thousands', 9865), ('trendy,', 9866), ('tshirt.', 9867), ('two!', 9868), ('u006786670', 9869), ('u637042280', 9870), ('uni-boob', 9871), ('useful,', 9872), ('w.', 9873), ('wire-free', 9874), ('wisconsin', 9875), ('wishes', 9876), ('zumba.', 9877), ('&#34;large&#34;', 9878), ('(depending', 9879), ('(two', 9880), ('1324857600', 9881), ('1328659200', 9882), ('1337299200', 9883), ('1338940800', 9884), ('1340409600', 9885), ('1340755200', 9886), ('1342051200', 9887), ('1347667200', 9888), ('1348185600', 9889), ('1350086400', 9890), ('1351900800', 9891), ('3mm', 9892), ('4\"', 9893), ('5\\'4\",', 9894), ('adventure', 9895), ('armitron', 9896), ('assure', 9897), ('beanie.', 9898), ('bezel.', 9899), ('biker', 9900), ('bill,', 9901), ('blouse!', 9902), ('boned', 9903), ('borrowed', 9904), ('bus', 9905), ('buttery', 9906), ('c,', 9907), ('caribbean', 9908), ('casually.', 9909), ('chuck', 9910), ('color.i', 9911), ('complaining.', 9912), ('connects', 9913), ('costco', 9914), ('creative', 9915), ('crush', 9916), ('cumulus', 9917), (\"cz's\", 9918), ('darker,', 9919), ('defined', 9920), ('diff', 9921), ('disappear', 9922), ('dresser', 9923), ('earring,', 9924), ('edging', 9925), ('edmonds', 9926), ('effective.', 9927), ('eliminates', 9928), ('eu', 9929), ('expectations!', 9930), ('expected;', 9931), ('extras', 9932), ('eyeglass', 9933), ('faint', 9934), ('feb', 9935), ('flush', 9936), ('focus', 9937), ('freya', 9938), ('garish', 9939), ('generous.', 9940), ('gloves!', 9941), ('goddess', 9942), ('greenish', 9943), ('handed', 9944), ('hesitation.', 9945), ('higher,', 9946), ('hugged', 9947), ('imo', 9948), ('impressed!', 9949), ('impressions', 9950), ('irish', 9951), ('keens.', 9952), ('killed', 9953), (\"kohl's\", 9954), ('leather!', 9955), ('left,', 9956), ('limits', 9957), ('many.', 9958), ('mesh.', 9959), ('mules', 9960), ('needs,', 9961), ('nice.i', 9962), ('noting', 9963), ('off.i', 9964), (\"ol'\", 9965), ('oz', 9966), ('patty.', 9967), ('payed', 9968), ('pays', 9969), ('pee', 9970), ('pens,', 9971), ('perspiration', 9972), ('pinches', 9973), ('please.', 9974), ('preference,', 9975), ('price;', 9976), ('pride', 9977), ('profile,', 9978), ('proportioned', 9979), ('rains', 9980), ('receives', 9981), ('recomended', 9982), ('regrets.', 9983), ('reordering', 9984), ('restrict', 9985), ('resulted', 9986), ('rider', 9987), ('rocks!', 9988), ('rub.', 9989), ('ruins', 9990), ('s,', 9991), ('sausage', 9992), ('section,', 9993), ('sexiest', 9994), ('sidewalks', 9995), ('silk.', 9996), ('size-', 9997), ('slingback', 9998), ('slush', 9999)]\n"
          ],
          "name": "stdout"
        }
      ]
    },
    {
      "cell_type": "code",
      "metadata": {
        "id": "_1D7pQQHXern",
        "colab_type": "code",
        "colab": {
          "base_uri": "https://localhost:8080/",
          "height": 470
        },
        "outputId": "c7b0e6f9-1545-4e55-8ffc-0677aca360b2"
      },
      "source": [
        "# Creating a histogram to see the length of healines\n",
        "\n",
        "d2l.set_figsize((3.5, 2.5))\n",
        "d2l.plt.hist([len(line) for line in df['Full_Text']], bins=range(0, 200, 5))"
      ],
      "execution_count": null,
      "outputs": [
        {
          "output_type": "execute_result",
          "data": {
            "text/plain": [
              "(array([1.1000e+01, 8.0400e+02, 7.6600e+02, 6.8400e+02, 6.8560e+03,\n",
              "        2.8596e+04, 2.2842e+04, 1.7832e+04, 1.4978e+04, 1.2604e+04,\n",
              "        1.0770e+04, 9.0980e+03, 7.9740e+03, 6.9350e+03, 6.1490e+03,\n",
              "        5.4260e+03, 4.7290e+03, 4.0850e+03, 3.6510e+03, 3.2070e+03,\n",
              "        2.9050e+03, 2.4980e+03, 2.2070e+03, 2.0300e+03, 1.8910e+03,\n",
              "        1.6800e+03, 1.5240e+03, 1.4080e+03, 1.2160e+03, 1.1330e+03,\n",
              "        1.0190e+03, 9.3800e+02, 8.0200e+02, 7.6100e+02, 7.0800e+02,\n",
              "        6.5700e+02, 5.8500e+02, 5.0400e+02, 5.8200e+02]),\n",
              " array([  0,   5,  10,  15,  20,  25,  30,  35,  40,  45,  50,  55,  60,\n",
              "         65,  70,  75,  80,  85,  90,  95, 100, 105, 110, 115, 120, 125,\n",
              "        130, 135, 140, 145, 150, 155, 160, 165, 170, 175, 180, 185, 190,\n",
              "        195]),\n",
              " <a list of 39 Patch objects>)"
            ]
          },
          "metadata": {
            "tags": []
          },
          "execution_count": 19
        },
        {
          "output_type": "display_data",
          "data": {
            "text/plain": [
              "<Figure size 252x180 with 1 Axes>"
            ],
            "image/svg+xml": "<?xml version=\"1.0\" encoding=\"utf-8\" standalone=\"no\"?>\n<!DOCTYPE svg PUBLIC \"-//W3C//DTD SVG 1.1//EN\"\n  \"http://www.w3.org/Graphics/SVG/1.1/DTD/svg11.dtd\">\n<!-- Created with matplotlib (https://matplotlib.org/) -->\n<svg height=\"170.66057pt\" version=\"1.1\" viewBox=\"0 0 253.731425 170.66057\" width=\"253.731425pt\" xmlns=\"http://www.w3.org/2000/svg\" xmlns:xlink=\"http://www.w3.org/1999/xlink\">\n <defs>\n  <style type=\"text/css\">\n*{stroke-linecap:butt;stroke-linejoin:round;}\n  </style>\n </defs>\n <g id=\"figure_1\">\n  <g id=\"patch_1\">\n   <path d=\"M 0 170.66057 \nL 253.731425 170.66057 \nL 253.731425 0 \nL 0 0 \nz\n\" style=\"fill:none;\"/>\n  </g>\n  <g id=\"axes_1\">\n   <g id=\"patch_2\">\n    <path d=\"M 46.0125 146.782445 \nL 241.3125 146.782445 \nL 241.3125 10.882445 \nL 46.0125 10.882445 \nz\n\" style=\"fill:#ffffff;\"/>\n   </g>\n   <g id=\"patch_3\">\n    <path clip-path=\"url(#p4eda153bd3)\" d=\"M 54.889773 146.782445 \nL 59.44222 146.782445 \nL 59.44222 146.732658 \nL 54.889773 146.732658 \nz\n\" style=\"fill:#1f77b4;\"/>\n   </g>\n   <g id=\"patch_4\">\n    <path clip-path=\"url(#p4eda153bd3)\" d=\"M 59.44222 146.782445 \nL 63.994668 146.782445 \nL 63.994668 143.143455 \nL 59.44222 143.143455 \nz\n\" style=\"fill:#1f77b4;\"/>\n   </g>\n   <g id=\"patch_5\">\n    <path clip-path=\"url(#p4eda153bd3)\" d=\"M 63.994668 146.782445 \nL 68.547115 146.782445 \nL 68.547115 143.315447 \nL 63.994668 143.315447 \nz\n\" style=\"fill:#1f77b4;\"/>\n   </g>\n   <g id=\"patch_6\">\n    <path clip-path=\"url(#p4eda153bd3)\" d=\"M 68.547115 146.782445 \nL 73.099563 146.782445 \nL 73.099563 143.686588 \nL 68.547115 143.686588 \nz\n\" style=\"fill:#1f77b4;\"/>\n   </g>\n   <g id=\"patch_7\">\n    <path clip-path=\"url(#p4eda153bd3)\" d=\"M 73.099563 146.782445 \nL 77.65201 146.782445 \nL 77.65201 115.751452 \nL 73.099563 115.751452 \nz\n\" style=\"fill:#1f77b4;\"/>\n   </g>\n   <g id=\"patch_8\">\n    <path clip-path=\"url(#p4eda153bd3)\" d=\"M 77.65201 146.782445 \nL 82.204458 146.782445 \nL 82.204458 17.353874 \nL 77.65201 17.353874 \nz\n\" style=\"fill:#1f77b4;\"/>\n   </g>\n   <g id=\"patch_9\">\n    <path clip-path=\"url(#p4eda153bd3)\" d=\"M 82.204458 146.782445 \nL 86.756906 146.782445 \nL 86.756906 43.397097 \nL 82.204458 43.397097 \nz\n\" style=\"fill:#1f77b4;\"/>\n   </g>\n   <g id=\"patch_10\">\n    <path clip-path=\"url(#p4eda153bd3)\" d=\"M 86.756906 146.782445 \nL 91.309353 146.782445 \nL 91.309353 66.072895 \nL 86.756906 66.072895 \nz\n\" style=\"fill:#1f77b4;\"/>\n   </g>\n   <g id=\"patch_11\">\n    <path clip-path=\"url(#p4eda153bd3)\" d=\"M 91.309353 146.782445 \nL 95.861801 146.782445 \nL 95.861801 78.990406 \nL 91.309353 78.990406 \nz\n\" style=\"fill:#1f77b4;\"/>\n   </g>\n   <g id=\"patch_12\">\n    <path clip-path=\"url(#p4eda153bd3)\" d=\"M 95.861801 146.782445 \nL 100.414248 146.782445 \nL 100.414248 89.735386 \nL 95.861801 89.735386 \nz\n\" style=\"fill:#1f77b4;\"/>\n   </g>\n   <g id=\"patch_13\">\n    <path clip-path=\"url(#p4eda153bd3)\" d=\"M 100.414248 146.782445 \nL 104.966696 146.782445 \nL 104.966696 98.036267 \nL 100.414248 98.036267 \nz\n\" style=\"fill:#1f77b4;\"/>\n   </g>\n   <g id=\"patch_14\">\n    <path clip-path=\"url(#p4eda153bd3)\" d=\"M 104.966696 146.782445 \nL 109.519143 146.782445 \nL 109.519143 105.603919 \nL 104.966696 105.603919 \nz\n\" style=\"fill:#1f77b4;\"/>\n   </g>\n   <g id=\"patch_15\">\n    <path clip-path=\"url(#p4eda153bd3)\" d=\"M 109.519143 146.782445 \nL 114.071591 146.782445 \nL 114.071591 110.691264 \nL 109.519143 110.691264 \nz\n\" style=\"fill:#1f77b4;\"/>\n   </g>\n   <g id=\"patch_16\">\n    <path clip-path=\"url(#p4eda153bd3)\" d=\"M 114.071591 146.782445 \nL 118.624038 146.782445 \nL 118.624038 115.393889 \nL 114.071591 115.393889 \nz\n\" style=\"fill:#1f77b4;\"/>\n   </g>\n   <g id=\"patch_17\">\n    <path clip-path=\"url(#p4eda153bd3)\" d=\"M 118.624038 146.782445 \nL 123.176486 146.782445 \nL 123.176486 118.95141 \nL 118.624038 118.95141 \nz\n\" style=\"fill:#1f77b4;\"/>\n   </g>\n   <g id=\"patch_18\">\n    <path clip-path=\"url(#p4eda153bd3)\" d=\"M 123.176486 146.782445 \nL 127.728934 146.782445 \nL 127.728934 122.223786 \nL 123.176486 122.223786 \nz\n\" style=\"fill:#1f77b4;\"/>\n   </g>\n   <g id=\"patch_19\">\n    <path clip-path=\"url(#p4eda153bd3)\" d=\"M 127.728934 146.782445 \nL 132.281381 146.782445 \nL 132.281381 125.378483 \nL 127.728934 125.378483 \nz\n\" style=\"fill:#1f77b4;\"/>\n   </g>\n   <g id=\"patch_20\">\n    <path clip-path=\"url(#p4eda153bd3)\" d=\"M 132.281381 146.782445 \nL 136.833829 146.782445 \nL 136.833829 128.293296 \nL 132.281381 128.293296 \nz\n\" style=\"fill:#1f77b4;\"/>\n   </g>\n   <g id=\"patch_21\">\n    <path clip-path=\"url(#p4eda153bd3)\" d=\"M 136.833829 146.782445 \nL 141.386276 146.782445 \nL 141.386276 130.257627 \nL 136.833829 130.257627 \nz\n\" style=\"fill:#1f77b4;\"/>\n   </g>\n   <g id=\"patch_22\">\n    <path clip-path=\"url(#p4eda153bd3)\" d=\"M 141.386276 146.782445 \nL 145.938724 146.782445 \nL 145.938724 132.267218 \nL 141.386276 132.267218 \nz\n\" style=\"fill:#1f77b4;\"/>\n   </g>\n   <g id=\"patch_23\">\n    <path clip-path=\"url(#p4eda153bd3)\" d=\"M 145.938724 146.782445 \nL 150.491171 146.782445 \nL 150.491171 133.634103 \nL 145.938724 133.634103 \nz\n\" style=\"fill:#1f77b4;\"/>\n   </g>\n   <g id=\"patch_24\">\n    <path clip-path=\"url(#p4eda153bd3)\" d=\"M 150.491171 146.782445 \nL 155.043619 146.782445 \nL 155.043619 135.476229 \nL 150.491171 135.476229 \nz\n\" style=\"fill:#1f77b4;\"/>\n   </g>\n   <g id=\"patch_25\">\n    <path clip-path=\"url(#p4eda153bd3)\" d=\"M 155.043619 146.782445 \nL 159.596066 146.782445 \nL 159.596066 136.793326 \nL 155.043619 136.793326 \nz\n\" style=\"fill:#1f77b4;\"/>\n   </g>\n   <g id=\"patch_26\">\n    <path clip-path=\"url(#p4eda153bd3)\" d=\"M 159.596066 146.782445 \nL 164.148514 146.782445 \nL 164.148514 137.594447 \nL 159.596066 137.594447 \nz\n\" style=\"fill:#1f77b4;\"/>\n   </g>\n   <g id=\"patch_27\">\n    <path clip-path=\"url(#p4eda153bd3)\" d=\"M 164.148514 146.782445 \nL 168.700962 146.782445 \nL 168.700962 138.223576 \nL 164.148514 138.223576 \nz\n\" style=\"fill:#1f77b4;\"/>\n   </g>\n   <g id=\"patch_28\">\n    <path clip-path=\"url(#p4eda153bd3)\" d=\"M 168.700962 146.782445 \nL 173.253409 146.782445 \nL 173.253409 139.178584 \nL 168.700962 139.178584 \nz\n\" style=\"fill:#1f77b4;\"/>\n   </g>\n   <g id=\"patch_29\">\n    <path clip-path=\"url(#p4eda153bd3)\" d=\"M 173.253409 146.782445 \nL 177.805857 146.782445 \nL 177.805857 139.884657 \nL 173.253409 139.884657 \nz\n\" style=\"fill:#1f77b4;\"/>\n   </g>\n   <g id=\"patch_30\">\n    <path clip-path=\"url(#p4eda153bd3)\" d=\"M 177.805857 146.782445 \nL 182.358304 146.782445 \nL 182.358304 140.409686 \nL 177.805857 140.409686 \nz\n\" style=\"fill:#1f77b4;\"/>\n   </g>\n   <g id=\"patch_31\">\n    <path clip-path=\"url(#p4eda153bd3)\" d=\"M 182.358304 146.782445 \nL 186.910752 146.782445 \nL 186.910752 141.278698 \nL 182.358304 141.278698 \nz\n\" style=\"fill:#1f77b4;\"/>\n   </g>\n   <g id=\"patch_32\">\n    <path clip-path=\"url(#p4eda153bd3)\" d=\"M 186.910752 146.782445 \nL 191.463199 146.782445 \nL 191.463199 141.654365 \nL 186.910752 141.654365 \nz\n\" style=\"fill:#1f77b4;\"/>\n   </g>\n   <g id=\"patch_33\">\n    <path clip-path=\"url(#p4eda153bd3)\" d=\"M 191.463199 146.782445 \nL 196.015647 146.782445 \nL 196.015647 142.170342 \nL 191.463199 142.170342 \nz\n\" style=\"fill:#1f77b4;\"/>\n   </g>\n   <g id=\"patch_34\">\n    <path clip-path=\"url(#p4eda153bd3)\" d=\"M 196.015647 146.782445 \nL 200.568094 146.782445 \nL 200.568094 142.536956 \nL 196.015647 142.536956 \nz\n\" style=\"fill:#1f77b4;\"/>\n   </g>\n   <g id=\"patch_35\">\n    <path clip-path=\"url(#p4eda153bd3)\" d=\"M 200.568094 146.782445 \nL 205.120542 146.782445 \nL 205.120542 143.152507 \nL 200.568094 143.152507 \nz\n\" style=\"fill:#1f77b4;\"/>\n   </g>\n   <g id=\"patch_36\">\n    <path clip-path=\"url(#p4eda153bd3)\" d=\"M 205.120542 146.782445 \nL 209.67299 146.782445 \nL 209.67299 143.338077 \nL 205.120542 143.338077 \nz\n\" style=\"fill:#1f77b4;\"/>\n   </g>\n   <g id=\"patch_37\">\n    <path clip-path=\"url(#p4eda153bd3)\" d=\"M 209.67299 146.782445 \nL 214.225437 146.782445 \nL 214.225437 143.577961 \nL 209.67299 143.577961 \nz\n\" style=\"fill:#1f77b4;\"/>\n   </g>\n   <g id=\"patch_38\">\n    <path clip-path=\"url(#p4eda153bd3)\" d=\"M 214.225437 146.782445 \nL 218.777885 146.782445 \nL 218.777885 143.808793 \nL 214.225437 143.808793 \nz\n\" style=\"fill:#1f77b4;\"/>\n   </g>\n   <g id=\"patch_39\">\n    <path clip-path=\"url(#p4eda153bd3)\" d=\"M 218.777885 146.782445 \nL 223.330332 146.782445 \nL 223.330332 144.134672 \nL 218.777885 144.134672 \nz\n\" style=\"fill:#1f77b4;\"/>\n   </g>\n   <g id=\"patch_40\">\n    <path clip-path=\"url(#p4eda153bd3)\" d=\"M 223.330332 146.782445 \nL 227.88278 146.782445 \nL 227.88278 144.501287 \nL 223.330332 144.501287 \nz\n\" style=\"fill:#1f77b4;\"/>\n   </g>\n   <g id=\"patch_41\">\n    <path clip-path=\"url(#p4eda153bd3)\" d=\"M 227.88278 146.782445 \nL 232.435227 146.782445 \nL 232.435227 144.148251 \nL 227.88278 144.148251 \nz\n\" style=\"fill:#1f77b4;\"/>\n   </g>\n   <g id=\"matplotlib.axis_1\">\n    <g id=\"xtick_1\">\n     <g id=\"line2d_1\">\n      <defs>\n       <path d=\"M 0 0 \nL 0 3.5 \n\" id=\"m3d0d0d2739\" style=\"stroke:#000000;stroke-width:0.8;\"/>\n      </defs>\n      <g>\n       <use style=\"stroke:#000000;stroke-width:0.8;\" x=\"54.889773\" xlink:href=\"#m3d0d0d2739\" y=\"146.782445\"/>\n      </g>\n     </g>\n     <g id=\"text_1\">\n      <!-- 0 -->\n      <defs>\n       <path d=\"M 31.78125 66.40625 \nQ 24.171875 66.40625 20.328125 58.90625 \nQ 16.5 51.421875 16.5 36.375 \nQ 16.5 21.390625 20.328125 13.890625 \nQ 24.171875 6.390625 31.78125 6.390625 \nQ 39.453125 6.390625 43.28125 13.890625 \nQ 47.125 21.390625 47.125 36.375 \nQ 47.125 51.421875 43.28125 58.90625 \nQ 39.453125 66.40625 31.78125 66.40625 \nz\nM 31.78125 74.21875 \nQ 44.046875 74.21875 50.515625 64.515625 \nQ 56.984375 54.828125 56.984375 36.375 \nQ 56.984375 17.96875 50.515625 8.265625 \nQ 44.046875 -1.421875 31.78125 -1.421875 \nQ 19.53125 -1.421875 13.0625 8.265625 \nQ 6.59375 17.96875 6.59375 36.375 \nQ 6.59375 54.828125 13.0625 64.515625 \nQ 19.53125 74.21875 31.78125 74.21875 \nz\n\" id=\"DejaVuSans-48\"/>\n      </defs>\n      <g transform=\"translate(51.708523 161.380883)scale(0.1 -0.1)\">\n       <use xlink:href=\"#DejaVuSans-48\"/>\n      </g>\n     </g>\n    </g>\n    <g id=\"xtick_2\">\n     <g id=\"line2d_2\">\n      <g>\n       <use style=\"stroke:#000000;stroke-width:0.8;\" x=\"100.414248\" xlink:href=\"#m3d0d0d2739\" y=\"146.782445\"/>\n      </g>\n     </g>\n     <g id=\"text_2\">\n      <!-- 50 -->\n      <defs>\n       <path d=\"M 10.796875 72.90625 \nL 49.515625 72.90625 \nL 49.515625 64.59375 \nL 19.828125 64.59375 \nL 19.828125 46.734375 \nQ 21.96875 47.46875 24.109375 47.828125 \nQ 26.265625 48.1875 28.421875 48.1875 \nQ 40.625 48.1875 47.75 41.5 \nQ 54.890625 34.8125 54.890625 23.390625 \nQ 54.890625 11.625 47.5625 5.09375 \nQ 40.234375 -1.421875 26.90625 -1.421875 \nQ 22.3125 -1.421875 17.546875 -0.640625 \nQ 12.796875 0.140625 7.71875 1.703125 \nL 7.71875 11.625 \nQ 12.109375 9.234375 16.796875 8.0625 \nQ 21.484375 6.890625 26.703125 6.890625 \nQ 35.15625 6.890625 40.078125 11.328125 \nQ 45.015625 15.765625 45.015625 23.390625 \nQ 45.015625 31 40.078125 35.4375 \nQ 35.15625 39.890625 26.703125 39.890625 \nQ 22.75 39.890625 18.8125 39.015625 \nQ 14.890625 38.140625 10.796875 36.28125 \nz\n\" id=\"DejaVuSans-53\"/>\n      </defs>\n      <g transform=\"translate(94.051748 161.380883)scale(0.1 -0.1)\">\n       <use xlink:href=\"#DejaVuSans-53\"/>\n       <use x=\"63.623047\" xlink:href=\"#DejaVuSans-48\"/>\n      </g>\n     </g>\n    </g>\n    <g id=\"xtick_3\">\n     <g id=\"line2d_3\">\n      <g>\n       <use style=\"stroke:#000000;stroke-width:0.8;\" x=\"145.938724\" xlink:href=\"#m3d0d0d2739\" y=\"146.782445\"/>\n      </g>\n     </g>\n     <g id=\"text_3\">\n      <!-- 100 -->\n      <defs>\n       <path d=\"M 12.40625 8.296875 \nL 28.515625 8.296875 \nL 28.515625 63.921875 \nL 10.984375 60.40625 \nL 10.984375 69.390625 \nL 28.421875 72.90625 \nL 38.28125 72.90625 \nL 38.28125 8.296875 \nL 54.390625 8.296875 \nL 54.390625 0 \nL 12.40625 0 \nz\n\" id=\"DejaVuSans-49\"/>\n      </defs>\n      <g transform=\"translate(136.394974 161.380883)scale(0.1 -0.1)\">\n       <use xlink:href=\"#DejaVuSans-49\"/>\n       <use x=\"63.623047\" xlink:href=\"#DejaVuSans-48\"/>\n       <use x=\"127.246094\" xlink:href=\"#DejaVuSans-48\"/>\n      </g>\n     </g>\n    </g>\n    <g id=\"xtick_4\">\n     <g id=\"line2d_4\">\n      <g>\n       <use style=\"stroke:#000000;stroke-width:0.8;\" x=\"191.463199\" xlink:href=\"#m3d0d0d2739\" y=\"146.782445\"/>\n      </g>\n     </g>\n     <g id=\"text_4\">\n      <!-- 150 -->\n      <g transform=\"translate(181.919449 161.380883)scale(0.1 -0.1)\">\n       <use xlink:href=\"#DejaVuSans-49\"/>\n       <use x=\"63.623047\" xlink:href=\"#DejaVuSans-53\"/>\n       <use x=\"127.246094\" xlink:href=\"#DejaVuSans-48\"/>\n      </g>\n     </g>\n    </g>\n    <g id=\"xtick_5\">\n     <g id=\"line2d_5\">\n      <g>\n       <use style=\"stroke:#000000;stroke-width:0.8;\" x=\"236.987675\" xlink:href=\"#m3d0d0d2739\" y=\"146.782445\"/>\n      </g>\n     </g>\n     <g id=\"text_5\">\n      <!-- 200 -->\n      <defs>\n       <path d=\"M 19.1875 8.296875 \nL 53.609375 8.296875 \nL 53.609375 0 \nL 7.328125 0 \nL 7.328125 8.296875 \nQ 12.9375 14.109375 22.625 23.890625 \nQ 32.328125 33.6875 34.8125 36.53125 \nQ 39.546875 41.84375 41.421875 45.53125 \nQ 43.3125 49.21875 43.3125 52.78125 \nQ 43.3125 58.59375 39.234375 62.25 \nQ 35.15625 65.921875 28.609375 65.921875 \nQ 23.96875 65.921875 18.8125 64.3125 \nQ 13.671875 62.703125 7.8125 59.421875 \nL 7.8125 69.390625 \nQ 13.765625 71.78125 18.9375 73 \nQ 24.125 74.21875 28.421875 74.21875 \nQ 39.75 74.21875 46.484375 68.546875 \nQ 53.21875 62.890625 53.21875 53.421875 \nQ 53.21875 48.921875 51.53125 44.890625 \nQ 49.859375 40.875 45.40625 35.40625 \nQ 44.1875 33.984375 37.640625 27.21875 \nQ 31.109375 20.453125 19.1875 8.296875 \nz\n\" id=\"DejaVuSans-50\"/>\n      </defs>\n      <g transform=\"translate(227.443925 161.380883)scale(0.1 -0.1)\">\n       <use xlink:href=\"#DejaVuSans-50\"/>\n       <use x=\"63.623047\" xlink:href=\"#DejaVuSans-48\"/>\n       <use x=\"127.246094\" xlink:href=\"#DejaVuSans-48\"/>\n      </g>\n     </g>\n    </g>\n   </g>\n   <g id=\"matplotlib.axis_2\">\n    <g id=\"ytick_1\">\n     <g id=\"line2d_6\">\n      <defs>\n       <path d=\"M 0 0 \nL -3.5 0 \n\" id=\"m86a6401f16\" style=\"stroke:#000000;stroke-width:0.8;\"/>\n      </defs>\n      <g>\n       <use style=\"stroke:#000000;stroke-width:0.8;\" x=\"46.0125\" xlink:href=\"#m86a6401f16\" y=\"146.782445\"/>\n      </g>\n     </g>\n     <g id=\"text_6\">\n      <!-- 0 -->\n      <g transform=\"translate(32.65 150.581664)scale(0.1 -0.1)\">\n       <use xlink:href=\"#DejaVuSans-48\"/>\n      </g>\n     </g>\n    </g>\n    <g id=\"ytick_2\">\n     <g id=\"line2d_7\">\n      <g>\n       <use style=\"stroke:#000000;stroke-width:0.8;\" x=\"46.0125\" xlink:href=\"#m86a6401f16\" y=\"101.52137\"/>\n      </g>\n     </g>\n     <g id=\"text_7\">\n      <!-- 10000 -->\n      <g transform=\"translate(7.2 105.320588)scale(0.1 -0.1)\">\n       <use xlink:href=\"#DejaVuSans-49\"/>\n       <use x=\"63.623047\" xlink:href=\"#DejaVuSans-48\"/>\n       <use x=\"127.246094\" xlink:href=\"#DejaVuSans-48\"/>\n       <use x=\"190.869141\" xlink:href=\"#DejaVuSans-48\"/>\n       <use x=\"254.492188\" xlink:href=\"#DejaVuSans-48\"/>\n      </g>\n     </g>\n    </g>\n    <g id=\"ytick_3\">\n     <g id=\"line2d_8\">\n      <g>\n       <use style=\"stroke:#000000;stroke-width:0.8;\" x=\"46.0125\" xlink:href=\"#m86a6401f16\" y=\"56.260294\"/>\n      </g>\n     </g>\n     <g id=\"text_8\">\n      <!-- 20000 -->\n      <g transform=\"translate(7.2 60.059513)scale(0.1 -0.1)\">\n       <use xlink:href=\"#DejaVuSans-50\"/>\n       <use x=\"63.623047\" xlink:href=\"#DejaVuSans-48\"/>\n       <use x=\"127.246094\" xlink:href=\"#DejaVuSans-48\"/>\n       <use x=\"190.869141\" xlink:href=\"#DejaVuSans-48\"/>\n       <use x=\"254.492188\" xlink:href=\"#DejaVuSans-48\"/>\n      </g>\n     </g>\n    </g>\n    <g id=\"ytick_4\">\n     <g id=\"line2d_9\">\n      <g>\n       <use style=\"stroke:#000000;stroke-width:0.8;\" x=\"46.0125\" xlink:href=\"#m86a6401f16\" y=\"10.999219\"/>\n      </g>\n     </g>\n     <g id=\"text_9\">\n      <!-- 30000 -->\n      <defs>\n       <path d=\"M 40.578125 39.3125 \nQ 47.65625 37.796875 51.625 33 \nQ 55.609375 28.21875 55.609375 21.1875 \nQ 55.609375 10.40625 48.1875 4.484375 \nQ 40.765625 -1.421875 27.09375 -1.421875 \nQ 22.515625 -1.421875 17.65625 -0.515625 \nQ 12.796875 0.390625 7.625 2.203125 \nL 7.625 11.71875 \nQ 11.71875 9.328125 16.59375 8.109375 \nQ 21.484375 6.890625 26.8125 6.890625 \nQ 36.078125 6.890625 40.9375 10.546875 \nQ 45.796875 14.203125 45.796875 21.1875 \nQ 45.796875 27.640625 41.28125 31.265625 \nQ 36.765625 34.90625 28.71875 34.90625 \nL 20.21875 34.90625 \nL 20.21875 43.015625 \nL 29.109375 43.015625 \nQ 36.375 43.015625 40.234375 45.921875 \nQ 44.09375 48.828125 44.09375 54.296875 \nQ 44.09375 59.90625 40.109375 62.90625 \nQ 36.140625 65.921875 28.71875 65.921875 \nQ 24.65625 65.921875 20.015625 65.03125 \nQ 15.375 64.15625 9.8125 62.3125 \nL 9.8125 71.09375 \nQ 15.4375 72.65625 20.34375 73.4375 \nQ 25.25 74.21875 29.59375 74.21875 \nQ 40.828125 74.21875 47.359375 69.109375 \nQ 53.90625 64.015625 53.90625 55.328125 \nQ 53.90625 49.265625 50.4375 45.09375 \nQ 46.96875 40.921875 40.578125 39.3125 \nz\n\" id=\"DejaVuSans-51\"/>\n      </defs>\n      <g transform=\"translate(7.2 14.798437)scale(0.1 -0.1)\">\n       <use xlink:href=\"#DejaVuSans-51\"/>\n       <use x=\"63.623047\" xlink:href=\"#DejaVuSans-48\"/>\n       <use x=\"127.246094\" xlink:href=\"#DejaVuSans-48\"/>\n       <use x=\"190.869141\" xlink:href=\"#DejaVuSans-48\"/>\n       <use x=\"254.492188\" xlink:href=\"#DejaVuSans-48\"/>\n      </g>\n     </g>\n    </g>\n   </g>\n   <g id=\"patch_42\">\n    <path d=\"M 46.0125 146.782445 \nL 46.0125 10.882445 \n\" style=\"fill:none;stroke:#000000;stroke-linecap:square;stroke-linejoin:miter;stroke-width:0.8;\"/>\n   </g>\n   <g id=\"patch_43\">\n    <path d=\"M 241.3125 146.782445 \nL 241.3125 10.882445 \n\" style=\"fill:none;stroke:#000000;stroke-linecap:square;stroke-linejoin:miter;stroke-width:0.8;\"/>\n   </g>\n   <g id=\"patch_44\">\n    <path d=\"M 46.0125 146.782445 \nL 241.3125 146.782445 \n\" style=\"fill:none;stroke:#000000;stroke-linecap:square;stroke-linejoin:miter;stroke-width:0.8;\"/>\n   </g>\n   <g id=\"patch_45\">\n    <path d=\"M 46.0125 10.882445 \nL 241.3125 10.882445 \n\" style=\"fill:none;stroke:#000000;stroke-linecap:square;stroke-linejoin:miter;stroke-width:0.8;\"/>\n   </g>\n  </g>\n </g>\n <defs>\n  <clipPath id=\"p4eda153bd3\">\n   <rect height=\"135.9\" width=\"195.3\" x=\"46.0125\" y=\"10.882445\"/>\n  </clipPath>\n </defs>\n</svg>\n"
          },
          "metadata": {
            "tags": [],
            "needs_background": "light"
          }
        }
      ]
    },
    {
      "cell_type": "code",
      "metadata": {
        "id": "usGSDjbsXhBf",
        "colab_type": "code",
        "colab": {}
      },
      "source": [
        "train_df, test_df = train_test_split(df, test_size=0.2, random_state = 4)"
      ],
      "execution_count": null,
      "outputs": []
    },
    {
      "cell_type": "code",
      "metadata": {
        "id": "MAocyHswXjAG",
        "colab_type": "code",
        "colab": {
          "base_uri": "https://localhost:8080/",
          "height": 34
        },
        "outputId": "0bcdb09e-a57b-4351-d08f-60c182e066cb"
      },
      "source": [
        "len(train_df), len(test_df)"
      ],
      "execution_count": null,
      "outputs": [
        {
          "output_type": "execute_result",
          "data": {
            "text/plain": [
              "(160000, 40000)"
            ]
          },
          "metadata": {
            "tags": []
          },
          "execution_count": 21
        }
      ]
    },
    {
      "cell_type": "code",
      "metadata": {
        "id": "sdZq2qnjXlLr",
        "colab_type": "code",
        "colab": {}
      },
      "source": [
        "x_train = train_df['Full_Text']\n",
        "y_train = train_df['Category_ID']\n",
        "x_test = test_df['Full_Text']\n",
        "y_test = test_df['Category_ID']"
      ],
      "execution_count": null,
      "outputs": []
    },
    {
      "cell_type": "code",
      "metadata": {
        "id": "Od7Jqs-0Xm09",
        "colab_type": "code",
        "colab": {}
      },
      "source": [
        "train_label = list(y_train)\n",
        "test_label = list(y_test)"
      ],
      "execution_count": null,
      "outputs": []
    },
    {
      "cell_type": "code",
      "metadata": {
        "id": "u30joP4aXotm",
        "colab_type": "code",
        "colab": {
          "base_uri": "https://localhost:8080/",
          "height": 34
        },
        "outputId": "7d46dc33-8df6-460e-a438-b30fb1f8aea4"
      },
      "source": [
        "num_steps = 200\n",
        "\n",
        "train_vocab = np.array([d2l.truncate_pad(vocab[line], num_steps, vocab['<pad>']) for line in x_train])\n",
        "test_vocab = np.array([d2l.truncate_pad(vocab[line], num_steps, vocab['<pad>']) for line in x_test])\n",
        "\n",
        "print(f'{train_vocab.shape}, {test_vocab.shape}')"
      ],
      "execution_count": null,
      "outputs": [
        {
          "output_type": "stream",
          "text": [
            "(160000, 200), (40000, 200)\n"
          ],
          "name": "stdout"
        }
      ]
    },
    {
      "cell_type": "code",
      "metadata": {
        "id": "nzu0hxTxXqme",
        "colab_type": "code",
        "colab": {}
      },
      "source": [
        "batch_size = 256\n",
        "train_iter = d2l.load_array((train_vocab, train_label), batch_size)   \n",
        "test_iter = d2l.load_array((test_vocab, test_label), batch_size, is_train = False) "
      ],
      "execution_count": null,
      "outputs": []
    },
    {
      "cell_type": "code",
      "metadata": {
        "id": "1jAgtREZXsu3",
        "colab_type": "code",
        "colab": {
          "base_uri": "https://localhost:8080/",
          "height": 51
        },
        "outputId": "5427e51c-8d77-47af-ea16-6d345459f924"
      },
      "source": [
        "for X, y in train_iter:\n",
        "    print('X', X.shape, 'y', y.shape)\n",
        "    break\n",
        "'# batches:', len(train_iter)"
      ],
      "execution_count": null,
      "outputs": [
        {
          "output_type": "stream",
          "text": [
            "X (256, 200) y (256,)\n"
          ],
          "name": "stdout"
        },
        {
          "output_type": "execute_result",
          "data": {
            "text/plain": [
              "('# batches:', 625)"
            ]
          },
          "metadata": {
            "tags": []
          },
          "execution_count": 26
        }
      ]
    },
    {
      "cell_type": "code",
      "metadata": {
        "id": "zB0CF1_DSrLu",
        "colab_type": "code",
        "colab": {
          "base_uri": "https://localhost:8080/",
          "height": 51
        },
        "outputId": "d552a81f-83b4-4804-c22e-ab93c5002a1c"
      },
      "source": [
        "glove_embedding = text.embedding.create('glove', pretrained_file_name='glove.6B.300d.txt')\n",
        "embeds = glove_embedding.get_vecs_by_tokens(vocab.idx_to_token)\n",
        "embeds.shape"
      ],
      "execution_count": null,
      "outputs": [
        {
          "output_type": "stream",
          "text": [
            "Downloading /root/.mxnet/embeddings/glove/glove.6B.zip from https://apache-mxnet.s3-accelerate.dualstack.amazonaws.com/gluon/embeddings/glove/glove.6B.zip...\n"
          ],
          "name": "stdout"
        },
        {
          "output_type": "execute_result",
          "data": {
            "text/plain": [
              "(124856, 300)"
            ]
          },
          "metadata": {
            "tags": []
          },
          "execution_count": 27
        }
      ]
    },
    {
      "cell_type": "markdown",
      "metadata": {
        "id": "b3xpfT-e8Wib",
        "colab_type": "text"
      },
      "source": [
        "**MaxPoolCNN**"
      ]
    },
    {
      "cell_type": "code",
      "metadata": {
        "id": "7I4180RV8hIB",
        "colab_type": "code",
        "colab": {}
      },
      "source": [
        "class TextCNN(nn.Block):\n",
        "    def __init__(self, vocab_size, embed_size, kernel_sizes, num_channels,\n",
        "                 **kwargs):\n",
        "        super(TextCNN, self).__init__(**kwargs)\n",
        "        self.embedding = nn.Embedding(vocab_size, embed_size)\n",
        "        self.constant_embedding = nn.Embedding(vocab_size, embed_size)\n",
        "        self.dropout = nn.Dropout(0.5)\n",
        "        self.decoder = nn.Dense(5)\n",
        "        self.pool = nn.GlobalMaxPool1D()\n",
        "        self.convs = nn.Sequential()\n",
        "        for c, k in zip(num_channels, kernel_sizes):\n",
        "            self.convs.add(nn.Conv1D(c, k, activation='relu'))\n",
        "\n",
        "    def forward(self, inputs):\n",
        "        embeddings = np.concatenate((\n",
        "            self.embedding(inputs), self.constant_embedding(inputs)), axis=2)\n",
        "        embeddings = embeddings.transpose(0, 2, 1)\n",
        "        encoding = np.concatenate([\n",
        "            np.squeeze(self.pool(conv(embeddings)), axis=-1)\n",
        "            for conv in self.convs], axis=1)\n",
        "        outputs = self.decoder(self.dropout(encoding))\n",
        "        return outputs"
      ],
      "execution_count": null,
      "outputs": []
    },
    {
      "cell_type": "code",
      "metadata": {
        "id": "Bfg8JOar8nKV",
        "colab_type": "code",
        "colab": {}
      },
      "source": [
        "embed_size, kernel_sizes, nums_channels = 300, [3, 4, 5], [100, 100, 100]\n",
        "ctx = d2l.try_all_gpus()\n",
        "net = TextCNN(len(vocab), embed_size, kernel_sizes, nums_channels)\n",
        "net.initialize(init.Xavier(), ctx=ctx)"
      ],
      "execution_count": null,
      "outputs": []
    },
    {
      "cell_type": "code",
      "metadata": {
        "id": "1xiTPGBZ84ks",
        "colab_type": "code",
        "colab": {}
      },
      "source": [
        "net.embedding.weight.set_data(embeds)\n",
        "net.embedding.collect_params().setattr('grad_req', 'null')"
      ],
      "execution_count": null,
      "outputs": []
    },
    {
      "cell_type": "code",
      "metadata": {
        "id": "ErzcYqTK86Nd",
        "colab_type": "code",
        "colab": {
          "base_uri": "https://localhost:8080/",
          "height": 301
        },
        "outputId": "647fd32a-61a2-432b-f6fa-b61a9a0c5e69"
      },
      "source": [
        "lr, num_epochs = 0.01, 10\n",
        "trainer = gluon.Trainer(net.collect_params(), 'adam', {'learning_rate': lr, 'wd': 1e-4})\n",
        "loss = gluon.loss.SoftmaxCrossEntropyLoss()\n",
        "d2l.train_ch13(net, train_iter, test_iter, loss, trainer, num_epochs, ctx)"
      ],
      "execution_count": null,
      "outputs": [
        {
          "output_type": "stream",
          "text": [
            "loss 0.405, train acc 0.866, test acc 0.872\n",
            "5191.6 examples/sec on [gpu(0)]\n"
          ],
          "name": "stdout"
        },
        {
          "output_type": "display_data",
          "data": {
            "text/plain": [
              "<Figure size 252x180 with 1 Axes>"
            ],
            "image/svg+xml": "<?xml version=\"1.0\" encoding=\"utf-8\" standalone=\"no\"?>\n<!DOCTYPE svg PUBLIC \"-//W3C//DTD SVG 1.1//EN\"\n  \"http://www.w3.org/Graphics/SVG/1.1/DTD/svg11.dtd\">\n<!-- Created with matplotlib (https://matplotlib.org/) -->\n<svg height=\"184.455469pt\" version=\"1.1\" viewBox=\"0 0 238.965625 184.455469\" width=\"238.965625pt\" xmlns=\"http://www.w3.org/2000/svg\" xmlns:xlink=\"http://www.w3.org/1999/xlink\">\n <defs>\n  <style type=\"text/css\">\n*{stroke-linecap:butt;stroke-linejoin:round;}\n  </style>\n </defs>\n <g id=\"figure_1\">\n  <g id=\"patch_1\">\n   <path d=\"M 0 184.455469 \nL 238.965625 184.455469 \nL 238.965625 -0 \nL 0 -0 \nz\n\" style=\"fill:none;\"/>\n  </g>\n  <g id=\"axes_1\">\n   <g id=\"patch_2\">\n    <path d=\"M 30.103125 146.899219 \nL 225.403125 146.899219 \nL 225.403125 10.999219 \nL 30.103125 10.999219 \nz\n\" style=\"fill:#ffffff;\"/>\n   </g>\n   <g id=\"matplotlib.axis_1\">\n    <g id=\"xtick_1\">\n     <g id=\"line2d_1\">\n      <path clip-path=\"url(#p0241b9c829)\" d=\"M 30.103125 146.899219 \nL 30.103125 10.999219 \n\" style=\"fill:none;stroke:#b0b0b0;stroke-linecap:square;stroke-width:0.8;\"/>\n     </g>\n     <g id=\"line2d_2\">\n      <defs>\n       <path d=\"M 0 0 \nL 0 3.5 \n\" id=\"m4a0b1a8d46\" style=\"stroke:#000000;stroke-width:0.8;\"/>\n      </defs>\n      <g>\n       <use style=\"stroke:#000000;stroke-width:0.8;\" x=\"30.103125\" xlink:href=\"#m4a0b1a8d46\" y=\"146.899219\"/>\n      </g>\n     </g>\n     <g id=\"text_1\">\n      <!-- 0 -->\n      <defs>\n       <path d=\"M 31.78125 66.40625 \nQ 24.171875 66.40625 20.328125 58.90625 \nQ 16.5 51.421875 16.5 36.375 \nQ 16.5 21.390625 20.328125 13.890625 \nQ 24.171875 6.390625 31.78125 6.390625 \nQ 39.453125 6.390625 43.28125 13.890625 \nQ 47.125 21.390625 47.125 36.375 \nQ 47.125 51.421875 43.28125 58.90625 \nQ 39.453125 66.40625 31.78125 66.40625 \nz\nM 31.78125 74.21875 \nQ 44.046875 74.21875 50.515625 64.515625 \nQ 56.984375 54.828125 56.984375 36.375 \nQ 56.984375 17.96875 50.515625 8.265625 \nQ 44.046875 -1.421875 31.78125 -1.421875 \nQ 19.53125 -1.421875 13.0625 8.265625 \nQ 6.59375 17.96875 6.59375 36.375 \nQ 6.59375 54.828125 13.0625 64.515625 \nQ 19.53125 74.21875 31.78125 74.21875 \nz\n\" id=\"DejaVuSans-48\"/>\n      </defs>\n      <g transform=\"translate(26.921875 161.497656)scale(0.1 -0.1)\">\n       <use xlink:href=\"#DejaVuSans-48\"/>\n      </g>\n     </g>\n    </g>\n    <g id=\"xtick_2\">\n     <g id=\"line2d_3\">\n      <path clip-path=\"url(#p0241b9c829)\" d=\"M 69.163125 146.899219 \nL 69.163125 10.999219 \n\" style=\"fill:none;stroke:#b0b0b0;stroke-linecap:square;stroke-width:0.8;\"/>\n     </g>\n     <g id=\"line2d_4\">\n      <g>\n       <use style=\"stroke:#000000;stroke-width:0.8;\" x=\"69.163125\" xlink:href=\"#m4a0b1a8d46\" y=\"146.899219\"/>\n      </g>\n     </g>\n     <g id=\"text_2\">\n      <!-- 2 -->\n      <defs>\n       <path d=\"M 19.1875 8.296875 \nL 53.609375 8.296875 \nL 53.609375 0 \nL 7.328125 0 \nL 7.328125 8.296875 \nQ 12.9375 14.109375 22.625 23.890625 \nQ 32.328125 33.6875 34.8125 36.53125 \nQ 39.546875 41.84375 41.421875 45.53125 \nQ 43.3125 49.21875 43.3125 52.78125 \nQ 43.3125 58.59375 39.234375 62.25 \nQ 35.15625 65.921875 28.609375 65.921875 \nQ 23.96875 65.921875 18.8125 64.3125 \nQ 13.671875 62.703125 7.8125 59.421875 \nL 7.8125 69.390625 \nQ 13.765625 71.78125 18.9375 73 \nQ 24.125 74.21875 28.421875 74.21875 \nQ 39.75 74.21875 46.484375 68.546875 \nQ 53.21875 62.890625 53.21875 53.421875 \nQ 53.21875 48.921875 51.53125 44.890625 \nQ 49.859375 40.875 45.40625 35.40625 \nQ 44.1875 33.984375 37.640625 27.21875 \nQ 31.109375 20.453125 19.1875 8.296875 \nz\n\" id=\"DejaVuSans-50\"/>\n      </defs>\n      <g transform=\"translate(65.981875 161.497656)scale(0.1 -0.1)\">\n       <use xlink:href=\"#DejaVuSans-50\"/>\n      </g>\n     </g>\n    </g>\n    <g id=\"xtick_3\">\n     <g id=\"line2d_5\">\n      <path clip-path=\"url(#p0241b9c829)\" d=\"M 108.223125 146.899219 \nL 108.223125 10.999219 \n\" style=\"fill:none;stroke:#b0b0b0;stroke-linecap:square;stroke-width:0.8;\"/>\n     </g>\n     <g id=\"line2d_6\">\n      <g>\n       <use style=\"stroke:#000000;stroke-width:0.8;\" x=\"108.223125\" xlink:href=\"#m4a0b1a8d46\" y=\"146.899219\"/>\n      </g>\n     </g>\n     <g id=\"text_3\">\n      <!-- 4 -->\n      <defs>\n       <path d=\"M 37.796875 64.3125 \nL 12.890625 25.390625 \nL 37.796875 25.390625 \nz\nM 35.203125 72.90625 \nL 47.609375 72.90625 \nL 47.609375 25.390625 \nL 58.015625 25.390625 \nL 58.015625 17.1875 \nL 47.609375 17.1875 \nL 47.609375 0 \nL 37.796875 0 \nL 37.796875 17.1875 \nL 4.890625 17.1875 \nL 4.890625 26.703125 \nz\n\" id=\"DejaVuSans-52\"/>\n      </defs>\n      <g transform=\"translate(105.041875 161.497656)scale(0.1 -0.1)\">\n       <use xlink:href=\"#DejaVuSans-52\"/>\n      </g>\n     </g>\n    </g>\n    <g id=\"xtick_4\">\n     <g id=\"line2d_7\">\n      <path clip-path=\"url(#p0241b9c829)\" d=\"M 147.283125 146.899219 \nL 147.283125 10.999219 \n\" style=\"fill:none;stroke:#b0b0b0;stroke-linecap:square;stroke-width:0.8;\"/>\n     </g>\n     <g id=\"line2d_8\">\n      <g>\n       <use style=\"stroke:#000000;stroke-width:0.8;\" x=\"147.283125\" xlink:href=\"#m4a0b1a8d46\" y=\"146.899219\"/>\n      </g>\n     </g>\n     <g id=\"text_4\">\n      <!-- 6 -->\n      <defs>\n       <path d=\"M 33.015625 40.375 \nQ 26.375 40.375 22.484375 35.828125 \nQ 18.609375 31.296875 18.609375 23.390625 \nQ 18.609375 15.53125 22.484375 10.953125 \nQ 26.375 6.390625 33.015625 6.390625 \nQ 39.65625 6.390625 43.53125 10.953125 \nQ 47.40625 15.53125 47.40625 23.390625 \nQ 47.40625 31.296875 43.53125 35.828125 \nQ 39.65625 40.375 33.015625 40.375 \nz\nM 52.59375 71.296875 \nL 52.59375 62.3125 \nQ 48.875 64.0625 45.09375 64.984375 \nQ 41.3125 65.921875 37.59375 65.921875 \nQ 27.828125 65.921875 22.671875 59.328125 \nQ 17.53125 52.734375 16.796875 39.40625 \nQ 19.671875 43.65625 24.015625 45.921875 \nQ 28.375 48.1875 33.59375 48.1875 \nQ 44.578125 48.1875 50.953125 41.515625 \nQ 57.328125 34.859375 57.328125 23.390625 \nQ 57.328125 12.15625 50.6875 5.359375 \nQ 44.046875 -1.421875 33.015625 -1.421875 \nQ 20.359375 -1.421875 13.671875 8.265625 \nQ 6.984375 17.96875 6.984375 36.375 \nQ 6.984375 53.65625 15.1875 63.9375 \nQ 23.390625 74.21875 37.203125 74.21875 \nQ 40.921875 74.21875 44.703125 73.484375 \nQ 48.484375 72.75 52.59375 71.296875 \nz\n\" id=\"DejaVuSans-54\"/>\n      </defs>\n      <g transform=\"translate(144.101875 161.497656)scale(0.1 -0.1)\">\n       <use xlink:href=\"#DejaVuSans-54\"/>\n      </g>\n     </g>\n    </g>\n    <g id=\"xtick_5\">\n     <g id=\"line2d_9\">\n      <path clip-path=\"url(#p0241b9c829)\" d=\"M 186.343125 146.899219 \nL 186.343125 10.999219 \n\" style=\"fill:none;stroke:#b0b0b0;stroke-linecap:square;stroke-width:0.8;\"/>\n     </g>\n     <g id=\"line2d_10\">\n      <g>\n       <use style=\"stroke:#000000;stroke-width:0.8;\" x=\"186.343125\" xlink:href=\"#m4a0b1a8d46\" y=\"146.899219\"/>\n      </g>\n     </g>\n     <g id=\"text_5\">\n      <!-- 8 -->\n      <defs>\n       <path d=\"M 31.78125 34.625 \nQ 24.75 34.625 20.71875 30.859375 \nQ 16.703125 27.09375 16.703125 20.515625 \nQ 16.703125 13.921875 20.71875 10.15625 \nQ 24.75 6.390625 31.78125 6.390625 \nQ 38.8125 6.390625 42.859375 10.171875 \nQ 46.921875 13.96875 46.921875 20.515625 \nQ 46.921875 27.09375 42.890625 30.859375 \nQ 38.875 34.625 31.78125 34.625 \nz\nM 21.921875 38.8125 \nQ 15.578125 40.375 12.03125 44.71875 \nQ 8.5 49.078125 8.5 55.328125 \nQ 8.5 64.0625 14.71875 69.140625 \nQ 20.953125 74.21875 31.78125 74.21875 \nQ 42.671875 74.21875 48.875 69.140625 \nQ 55.078125 64.0625 55.078125 55.328125 \nQ 55.078125 49.078125 51.53125 44.71875 \nQ 48 40.375 41.703125 38.8125 \nQ 48.828125 37.15625 52.796875 32.3125 \nQ 56.78125 27.484375 56.78125 20.515625 \nQ 56.78125 9.90625 50.3125 4.234375 \nQ 43.84375 -1.421875 31.78125 -1.421875 \nQ 19.734375 -1.421875 13.25 4.234375 \nQ 6.78125 9.90625 6.78125 20.515625 \nQ 6.78125 27.484375 10.78125 32.3125 \nQ 14.796875 37.15625 21.921875 38.8125 \nz\nM 18.3125 54.390625 \nQ 18.3125 48.734375 21.84375 45.5625 \nQ 25.390625 42.390625 31.78125 42.390625 \nQ 38.140625 42.390625 41.71875 45.5625 \nQ 45.3125 48.734375 45.3125 54.390625 \nQ 45.3125 60.0625 41.71875 63.234375 \nQ 38.140625 66.40625 31.78125 66.40625 \nQ 25.390625 66.40625 21.84375 63.234375 \nQ 18.3125 60.0625 18.3125 54.390625 \nz\n\" id=\"DejaVuSans-56\"/>\n      </defs>\n      <g transform=\"translate(183.161875 161.497656)scale(0.1 -0.1)\">\n       <use xlink:href=\"#DejaVuSans-56\"/>\n      </g>\n     </g>\n    </g>\n    <g id=\"xtick_6\">\n     <g id=\"line2d_11\">\n      <path clip-path=\"url(#p0241b9c829)\" d=\"M 225.403125 146.899219 \nL 225.403125 10.999219 \n\" style=\"fill:none;stroke:#b0b0b0;stroke-linecap:square;stroke-width:0.8;\"/>\n     </g>\n     <g id=\"line2d_12\">\n      <g>\n       <use style=\"stroke:#000000;stroke-width:0.8;\" x=\"225.403125\" xlink:href=\"#m4a0b1a8d46\" y=\"146.899219\"/>\n      </g>\n     </g>\n     <g id=\"text_6\">\n      <!-- 10 -->\n      <defs>\n       <path d=\"M 12.40625 8.296875 \nL 28.515625 8.296875 \nL 28.515625 63.921875 \nL 10.984375 60.40625 \nL 10.984375 69.390625 \nL 28.421875 72.90625 \nL 38.28125 72.90625 \nL 38.28125 8.296875 \nL 54.390625 8.296875 \nL 54.390625 0 \nL 12.40625 0 \nz\n\" id=\"DejaVuSans-49\"/>\n      </defs>\n      <g transform=\"translate(219.040625 161.497656)scale(0.1 -0.1)\">\n       <use xlink:href=\"#DejaVuSans-49\"/>\n       <use x=\"63.623047\" xlink:href=\"#DejaVuSans-48\"/>\n      </g>\n     </g>\n    </g>\n    <g id=\"text_7\">\n     <!-- epoch -->\n     <defs>\n      <path d=\"M 56.203125 29.59375 \nL 56.203125 25.203125 \nL 14.890625 25.203125 \nQ 15.484375 15.921875 20.484375 11.0625 \nQ 25.484375 6.203125 34.421875 6.203125 \nQ 39.59375 6.203125 44.453125 7.46875 \nQ 49.3125 8.734375 54.109375 11.28125 \nL 54.109375 2.78125 \nQ 49.265625 0.734375 44.1875 -0.34375 \nQ 39.109375 -1.421875 33.890625 -1.421875 \nQ 20.796875 -1.421875 13.15625 6.1875 \nQ 5.515625 13.8125 5.515625 26.8125 \nQ 5.515625 40.234375 12.765625 48.109375 \nQ 20.015625 56 32.328125 56 \nQ 43.359375 56 49.78125 48.890625 \nQ 56.203125 41.796875 56.203125 29.59375 \nz\nM 47.21875 32.234375 \nQ 47.125 39.59375 43.09375 43.984375 \nQ 39.0625 48.390625 32.421875 48.390625 \nQ 24.90625 48.390625 20.390625 44.140625 \nQ 15.875 39.890625 15.1875 32.171875 \nz\n\" id=\"DejaVuSans-101\"/>\n      <path d=\"M 18.109375 8.203125 \nL 18.109375 -20.796875 \nL 9.078125 -20.796875 \nL 9.078125 54.6875 \nL 18.109375 54.6875 \nL 18.109375 46.390625 \nQ 20.953125 51.265625 25.265625 53.625 \nQ 29.59375 56 35.59375 56 \nQ 45.5625 56 51.78125 48.09375 \nQ 58.015625 40.1875 58.015625 27.296875 \nQ 58.015625 14.40625 51.78125 6.484375 \nQ 45.5625 -1.421875 35.59375 -1.421875 \nQ 29.59375 -1.421875 25.265625 0.953125 \nQ 20.953125 3.328125 18.109375 8.203125 \nz\nM 48.6875 27.296875 \nQ 48.6875 37.203125 44.609375 42.84375 \nQ 40.53125 48.484375 33.40625 48.484375 \nQ 26.265625 48.484375 22.1875 42.84375 \nQ 18.109375 37.203125 18.109375 27.296875 \nQ 18.109375 17.390625 22.1875 11.75 \nQ 26.265625 6.109375 33.40625 6.109375 \nQ 40.53125 6.109375 44.609375 11.75 \nQ 48.6875 17.390625 48.6875 27.296875 \nz\n\" id=\"DejaVuSans-112\"/>\n      <path d=\"M 30.609375 48.390625 \nQ 23.390625 48.390625 19.1875 42.75 \nQ 14.984375 37.109375 14.984375 27.296875 \nQ 14.984375 17.484375 19.15625 11.84375 \nQ 23.34375 6.203125 30.609375 6.203125 \nQ 37.796875 6.203125 41.984375 11.859375 \nQ 46.1875 17.53125 46.1875 27.296875 \nQ 46.1875 37.015625 41.984375 42.703125 \nQ 37.796875 48.390625 30.609375 48.390625 \nz\nM 30.609375 56 \nQ 42.328125 56 49.015625 48.375 \nQ 55.71875 40.765625 55.71875 27.296875 \nQ 55.71875 13.875 49.015625 6.21875 \nQ 42.328125 -1.421875 30.609375 -1.421875 \nQ 18.84375 -1.421875 12.171875 6.21875 \nQ 5.515625 13.875 5.515625 27.296875 \nQ 5.515625 40.765625 12.171875 48.375 \nQ 18.84375 56 30.609375 56 \nz\n\" id=\"DejaVuSans-111\"/>\n      <path d=\"M 48.78125 52.59375 \nL 48.78125 44.1875 \nQ 44.96875 46.296875 41.140625 47.34375 \nQ 37.3125 48.390625 33.40625 48.390625 \nQ 24.65625 48.390625 19.8125 42.84375 \nQ 14.984375 37.3125 14.984375 27.296875 \nQ 14.984375 17.28125 19.8125 11.734375 \nQ 24.65625 6.203125 33.40625 6.203125 \nQ 37.3125 6.203125 41.140625 7.25 \nQ 44.96875 8.296875 48.78125 10.40625 \nL 48.78125 2.09375 \nQ 45.015625 0.34375 40.984375 -0.53125 \nQ 36.96875 -1.421875 32.421875 -1.421875 \nQ 20.0625 -1.421875 12.78125 6.34375 \nQ 5.515625 14.109375 5.515625 27.296875 \nQ 5.515625 40.671875 12.859375 48.328125 \nQ 20.21875 56 33.015625 56 \nQ 37.15625 56 41.109375 55.140625 \nQ 45.0625 54.296875 48.78125 52.59375 \nz\n\" id=\"DejaVuSans-99\"/>\n      <path d=\"M 54.890625 33.015625 \nL 54.890625 0 \nL 45.90625 0 \nL 45.90625 32.71875 \nQ 45.90625 40.484375 42.875 44.328125 \nQ 39.84375 48.1875 33.796875 48.1875 \nQ 26.515625 48.1875 22.3125 43.546875 \nQ 18.109375 38.921875 18.109375 30.90625 \nL 18.109375 0 \nL 9.078125 0 \nL 9.078125 75.984375 \nL 18.109375 75.984375 \nL 18.109375 46.1875 \nQ 21.34375 51.125 25.703125 53.5625 \nQ 30.078125 56 35.796875 56 \nQ 45.21875 56 50.046875 50.171875 \nQ 54.890625 44.34375 54.890625 33.015625 \nz\n\" id=\"DejaVuSans-104\"/>\n     </defs>\n     <g transform=\"translate(112.525 175.175781)scale(0.1 -0.1)\">\n      <use xlink:href=\"#DejaVuSans-101\"/>\n      <use x=\"61.523438\" xlink:href=\"#DejaVuSans-112\"/>\n      <use x=\"125\" xlink:href=\"#DejaVuSans-111\"/>\n      <use x=\"186.181641\" xlink:href=\"#DejaVuSans-99\"/>\n      <use x=\"241.162109\" xlink:href=\"#DejaVuSans-104\"/>\n     </g>\n    </g>\n   </g>\n   <g id=\"matplotlib.axis_2\">\n    <g id=\"ytick_1\">\n     <g id=\"line2d_13\">\n      <path clip-path=\"url(#p0241b9c829)\" d=\"M 30.103125 146.899219 \nL 225.403125 146.899219 \n\" style=\"fill:none;stroke:#b0b0b0;stroke-linecap:square;stroke-width:0.8;\"/>\n     </g>\n     <g id=\"line2d_14\">\n      <defs>\n       <path d=\"M 0 0 \nL -3.5 0 \n\" id=\"m6d11d66847\" style=\"stroke:#000000;stroke-width:0.8;\"/>\n      </defs>\n      <g>\n       <use style=\"stroke:#000000;stroke-width:0.8;\" x=\"30.103125\" xlink:href=\"#m6d11d66847\" y=\"146.899219\"/>\n      </g>\n     </g>\n     <g id=\"text_8\">\n      <!-- 0.0 -->\n      <defs>\n       <path d=\"M 10.6875 12.40625 \nL 21 12.40625 \nL 21 0 \nL 10.6875 0 \nz\n\" id=\"DejaVuSans-46\"/>\n      </defs>\n      <g transform=\"translate(7.2 150.698437)scale(0.1 -0.1)\">\n       <use xlink:href=\"#DejaVuSans-48\"/>\n       <use x=\"63.623047\" xlink:href=\"#DejaVuSans-46\"/>\n       <use x=\"95.410156\" xlink:href=\"#DejaVuSans-48\"/>\n      </g>\n     </g>\n    </g>\n    <g id=\"ytick_2\">\n     <g id=\"line2d_15\">\n      <path clip-path=\"url(#p0241b9c829)\" d=\"M 30.103125 119.719219 \nL 225.403125 119.719219 \n\" style=\"fill:none;stroke:#b0b0b0;stroke-linecap:square;stroke-width:0.8;\"/>\n     </g>\n     <g id=\"line2d_16\">\n      <g>\n       <use style=\"stroke:#000000;stroke-width:0.8;\" x=\"30.103125\" xlink:href=\"#m6d11d66847\" y=\"119.719219\"/>\n      </g>\n     </g>\n     <g id=\"text_9\">\n      <!-- 0.2 -->\n      <g transform=\"translate(7.2 123.518437)scale(0.1 -0.1)\">\n       <use xlink:href=\"#DejaVuSans-48\"/>\n       <use x=\"63.623047\" xlink:href=\"#DejaVuSans-46\"/>\n       <use x=\"95.410156\" xlink:href=\"#DejaVuSans-50\"/>\n      </g>\n     </g>\n    </g>\n    <g id=\"ytick_3\">\n     <g id=\"line2d_17\">\n      <path clip-path=\"url(#p0241b9c829)\" d=\"M 30.103125 92.539219 \nL 225.403125 92.539219 \n\" style=\"fill:none;stroke:#b0b0b0;stroke-linecap:square;stroke-width:0.8;\"/>\n     </g>\n     <g id=\"line2d_18\">\n      <g>\n       <use style=\"stroke:#000000;stroke-width:0.8;\" x=\"30.103125\" xlink:href=\"#m6d11d66847\" y=\"92.539219\"/>\n      </g>\n     </g>\n     <g id=\"text_10\">\n      <!-- 0.4 -->\n      <g transform=\"translate(7.2 96.338437)scale(0.1 -0.1)\">\n       <use xlink:href=\"#DejaVuSans-48\"/>\n       <use x=\"63.623047\" xlink:href=\"#DejaVuSans-46\"/>\n       <use x=\"95.410156\" xlink:href=\"#DejaVuSans-52\"/>\n      </g>\n     </g>\n    </g>\n    <g id=\"ytick_4\">\n     <g id=\"line2d_19\">\n      <path clip-path=\"url(#p0241b9c829)\" d=\"M 30.103125 65.359219 \nL 225.403125 65.359219 \n\" style=\"fill:none;stroke:#b0b0b0;stroke-linecap:square;stroke-width:0.8;\"/>\n     </g>\n     <g id=\"line2d_20\">\n      <g>\n       <use style=\"stroke:#000000;stroke-width:0.8;\" x=\"30.103125\" xlink:href=\"#m6d11d66847\" y=\"65.359219\"/>\n      </g>\n     </g>\n     <g id=\"text_11\">\n      <!-- 0.6 -->\n      <g transform=\"translate(7.2 69.158437)scale(0.1 -0.1)\">\n       <use xlink:href=\"#DejaVuSans-48\"/>\n       <use x=\"63.623047\" xlink:href=\"#DejaVuSans-46\"/>\n       <use x=\"95.410156\" xlink:href=\"#DejaVuSans-54\"/>\n      </g>\n     </g>\n    </g>\n    <g id=\"ytick_5\">\n     <g id=\"line2d_21\">\n      <path clip-path=\"url(#p0241b9c829)\" d=\"M 30.103125 38.179219 \nL 225.403125 38.179219 \n\" style=\"fill:none;stroke:#b0b0b0;stroke-linecap:square;stroke-width:0.8;\"/>\n     </g>\n     <g id=\"line2d_22\">\n      <g>\n       <use style=\"stroke:#000000;stroke-width:0.8;\" x=\"30.103125\" xlink:href=\"#m6d11d66847\" y=\"38.179219\"/>\n      </g>\n     </g>\n     <g id=\"text_12\">\n      <!-- 0.8 -->\n      <g transform=\"translate(7.2 41.978437)scale(0.1 -0.1)\">\n       <use xlink:href=\"#DejaVuSans-48\"/>\n       <use x=\"63.623047\" xlink:href=\"#DejaVuSans-46\"/>\n       <use x=\"95.410156\" xlink:href=\"#DejaVuSans-56\"/>\n      </g>\n     </g>\n    </g>\n    <g id=\"ytick_6\">\n     <g id=\"line2d_23\">\n      <path clip-path=\"url(#p0241b9c829)\" d=\"M 30.103125 10.999219 \nL 225.403125 10.999219 \n\" style=\"fill:none;stroke:#b0b0b0;stroke-linecap:square;stroke-width:0.8;\"/>\n     </g>\n     <g id=\"line2d_24\">\n      <g>\n       <use style=\"stroke:#000000;stroke-width:0.8;\" x=\"30.103125\" xlink:href=\"#m6d11d66847\" y=\"10.999219\"/>\n      </g>\n     </g>\n     <g id=\"text_13\">\n      <!-- 1.0 -->\n      <g transform=\"translate(7.2 14.798437)scale(0.1 -0.1)\">\n       <use xlink:href=\"#DejaVuSans-49\"/>\n       <use x=\"63.623047\" xlink:href=\"#DejaVuSans-46\"/>\n       <use x=\"95.410156\" xlink:href=\"#DejaVuSans-48\"/>\n      </g>\n     </g>\n    </g>\n   </g>\n   <g id=\"line2d_25\">\n    <path clip-path=\"url(#p0241b9c829)\" d=\"M 33.977877 100.630982 \nL 37.883877 87.072986 \nL 41.789877 83.266352 \nL 45.695877 82.187836 \nL 49.601877 81.700637 \nL 53.507877 85.273145 \nL 57.413877 84.115348 \nL 61.319877 83.332882 \nL 65.225877 83.473238 \nL 69.131877 83.293031 \nL 73.037877 90.138628 \nL 76.943877 87.993061 \nL 80.849877 86.943984 \nL 84.755877 86.512649 \nL 88.661877 85.91835 \nL 92.567877 91.43826 \nL 96.473877 89.002481 \nL 100.379877 88.236269 \nL 104.285877 87.378431 \nL 108.191877 86.650448 \nL 112.097877 93.838711 \nL 116.003877 91.176031 \nL 119.909877 89.982012 \nL 123.815877 88.665458 \nL 127.721877 88.086245 \nL 131.627877 96.349494 \nL 135.533877 93.359003 \nL 139.439877 91.71716 \nL 143.345877 90.237442 \nL 147.251877 89.917957 \nL 151.157877 96.493154 \nL 155.063877 94.029173 \nL 158.969877 92.584618 \nL 162.875877 91.387356 \nL 166.781877 90.466557 \nL 170.687877 96.496232 \nL 174.593877 94.21295 \nL 178.499877 92.457791 \nL 182.405877 91.603078 \nL 186.311877 90.896669 \nL 190.217877 94.99575 \nL 194.123877 93.593423 \nL 198.029877 92.510442 \nL 201.935877 91.568138 \nL 205.841877 90.692636 \nL 209.747877 97.612895 \nL 213.653877 95.415783 \nL 217.559877 93.772789 \nL 221.465877 92.462769 \nL 225.371877 91.827547 \n\" style=\"fill:none;stroke:#1f77b4;stroke-linecap:square;stroke-width:1.5;\"/>\n   </g>\n   <g id=\"line2d_26\">\n    <path clip-path=\"url(#p0241b9c829)\" d=\"M 33.977877 25.816566 \nL 37.883877 31.534983 \nL 41.789877 33.496331 \nL 45.695877 34.125577 \nL 49.601877 34.471697 \nL 53.507877 32.369494 \nL 57.413877 33.106327 \nL 61.319877 33.466603 \nL 65.225877 33.503409 \nL 69.131877 33.528041 \nL 73.037877 29.9148 \nL 76.943877 30.728077 \nL 80.849877 31.433766 \nL 84.755877 31.701673 \nL 88.661877 31.949902 \nL 92.567877 28.891303 \nL 96.473877 30.108033 \nL 100.379877 30.658003 \nL 104.285877 31.102863 \nL 108.191877 31.380821 \nL 112.097877 28.220297 \nL 116.003877 29.341472 \nL 119.909877 29.902059 \nL 123.815877 30.425487 \nL 127.721877 30.666497 \nL 131.627877 27.617241 \nL 135.533877 28.736292 \nL 139.439877 29.347134 \nL 143.345877 29.889319 \nL 147.251877 29.99634 \nL 151.157877 27.464353 \nL 155.063877 28.235161 \nL 158.969877 28.787962 \nL 162.875877 29.248041 \nL 166.781877 29.609025 \nL 170.687877 27.226528 \nL 174.593877 28.097137 \nL 178.499877 28.817691 \nL 182.405877 29.201325 \nL 186.311877 29.507949 \nL 190.217877 27.498328 \nL 194.123877 28.328592 \nL 198.029877 28.787962 \nL 201.935877 29.215127 \nL 205.841877 29.595435 \nL 209.747877 27.188306 \nL 213.653877 27.959114 \nL 217.559877 28.425562 \nL 221.465877 28.878562 \nL 225.371877 29.209819 \n\" style=\"fill:none;stroke:#bf00bf;stroke-dasharray:5.55,2.4;stroke-dashoffset:0;stroke-width:1.5;\"/>\n   </g>\n   <g id=\"line2d_27\">\n    <path clip-path=\"url(#p0241b9c829)\" d=\"M 49.633125 31.971986 \nL 69.163125 30.901774 \nL 88.693125 29.828164 \nL 108.223125 29.260781 \nL 127.753125 29.430656 \nL 147.283125 28.622051 \nL 166.813125 28.666219 \nL 186.343125 28.509934 \nL 205.873125 29.682071 \nL 225.403125 28.353649 \n\" style=\"fill:none;stroke:#008000;stroke-dasharray:9.6,2.4,1.5,2.4;stroke-dashoffset:0;stroke-width:1.5;\"/>\n   </g>\n   <g id=\"patch_3\">\n    <path d=\"M 30.103125 146.899219 \nL 30.103125 10.999219 \n\" style=\"fill:none;stroke:#000000;stroke-linecap:square;stroke-linejoin:miter;stroke-width:0.8;\"/>\n   </g>\n   <g id=\"patch_4\">\n    <path d=\"M 225.403125 146.899219 \nL 225.403125 10.999219 \n\" style=\"fill:none;stroke:#000000;stroke-linecap:square;stroke-linejoin:miter;stroke-width:0.8;\"/>\n   </g>\n   <g id=\"patch_5\">\n    <path d=\"M 30.103125 146.899219 \nL 225.403125 146.899219 \n\" style=\"fill:none;stroke:#000000;stroke-linecap:square;stroke-linejoin:miter;stroke-width:0.8;\"/>\n   </g>\n   <g id=\"patch_6\">\n    <path d=\"M 30.103125 10.999219 \nL 225.403125 10.999219 \n\" style=\"fill:none;stroke:#000000;stroke-linecap:square;stroke-linejoin:miter;stroke-width:0.8;\"/>\n   </g>\n   <g id=\"legend_1\">\n    <g id=\"patch_7\">\n     <path d=\"M 37.103125 141.899219 \nL 114.871875 141.899219 \nQ 116.871875 141.899219 116.871875 139.899219 \nL 116.871875 96.864844 \nQ 116.871875 94.864844 114.871875 94.864844 \nL 37.103125 94.864844 \nQ 35.103125 94.864844 35.103125 96.864844 \nL 35.103125 139.899219 \nQ 35.103125 141.899219 37.103125 141.899219 \nz\n\" style=\"fill:#ffffff;opacity:0.8;stroke:#cccccc;stroke-linejoin:miter;\"/>\n    </g>\n    <g id=\"line2d_28\">\n     <path d=\"M 39.103125 102.963281 \nL 59.103125 102.963281 \n\" style=\"fill:none;stroke:#1f77b4;stroke-linecap:square;stroke-width:1.5;\"/>\n    </g>\n    <g id=\"line2d_29\"/>\n    <g id=\"text_14\">\n     <!-- train loss -->\n     <defs>\n      <path d=\"M 18.3125 70.21875 \nL 18.3125 54.6875 \nL 36.8125 54.6875 \nL 36.8125 47.703125 \nL 18.3125 47.703125 \nL 18.3125 18.015625 \nQ 18.3125 11.328125 20.140625 9.421875 \nQ 21.96875 7.515625 27.59375 7.515625 \nL 36.8125 7.515625 \nL 36.8125 0 \nL 27.59375 0 \nQ 17.1875 0 13.234375 3.875 \nQ 9.28125 7.765625 9.28125 18.015625 \nL 9.28125 47.703125 \nL 2.6875 47.703125 \nL 2.6875 54.6875 \nL 9.28125 54.6875 \nL 9.28125 70.21875 \nz\n\" id=\"DejaVuSans-116\"/>\n      <path d=\"M 41.109375 46.296875 \nQ 39.59375 47.171875 37.8125 47.578125 \nQ 36.03125 48 33.890625 48 \nQ 26.265625 48 22.1875 43.046875 \nQ 18.109375 38.09375 18.109375 28.8125 \nL 18.109375 0 \nL 9.078125 0 \nL 9.078125 54.6875 \nL 18.109375 54.6875 \nL 18.109375 46.1875 \nQ 20.953125 51.171875 25.484375 53.578125 \nQ 30.03125 56 36.53125 56 \nQ 37.453125 56 38.578125 55.875 \nQ 39.703125 55.765625 41.0625 55.515625 \nz\n\" id=\"DejaVuSans-114\"/>\n      <path d=\"M 34.28125 27.484375 \nQ 23.390625 27.484375 19.1875 25 \nQ 14.984375 22.515625 14.984375 16.5 \nQ 14.984375 11.71875 18.140625 8.90625 \nQ 21.296875 6.109375 26.703125 6.109375 \nQ 34.1875 6.109375 38.703125 11.40625 \nQ 43.21875 16.703125 43.21875 25.484375 \nL 43.21875 27.484375 \nz\nM 52.203125 31.203125 \nL 52.203125 0 \nL 43.21875 0 \nL 43.21875 8.296875 \nQ 40.140625 3.328125 35.546875 0.953125 \nQ 30.953125 -1.421875 24.3125 -1.421875 \nQ 15.921875 -1.421875 10.953125 3.296875 \nQ 6 8.015625 6 15.921875 \nQ 6 25.140625 12.171875 29.828125 \nQ 18.359375 34.515625 30.609375 34.515625 \nL 43.21875 34.515625 \nL 43.21875 35.40625 \nQ 43.21875 41.609375 39.140625 45 \nQ 35.0625 48.390625 27.6875 48.390625 \nQ 23 48.390625 18.546875 47.265625 \nQ 14.109375 46.140625 10.015625 43.890625 \nL 10.015625 52.203125 \nQ 14.9375 54.109375 19.578125 55.046875 \nQ 24.21875 56 28.609375 56 \nQ 40.484375 56 46.34375 49.84375 \nQ 52.203125 43.703125 52.203125 31.203125 \nz\n\" id=\"DejaVuSans-97\"/>\n      <path d=\"M 9.421875 54.6875 \nL 18.40625 54.6875 \nL 18.40625 0 \nL 9.421875 0 \nz\nM 9.421875 75.984375 \nL 18.40625 75.984375 \nL 18.40625 64.59375 \nL 9.421875 64.59375 \nz\n\" id=\"DejaVuSans-105\"/>\n      <path d=\"M 54.890625 33.015625 \nL 54.890625 0 \nL 45.90625 0 \nL 45.90625 32.71875 \nQ 45.90625 40.484375 42.875 44.328125 \nQ 39.84375 48.1875 33.796875 48.1875 \nQ 26.515625 48.1875 22.3125 43.546875 \nQ 18.109375 38.921875 18.109375 30.90625 \nL 18.109375 0 \nL 9.078125 0 \nL 9.078125 54.6875 \nL 18.109375 54.6875 \nL 18.109375 46.1875 \nQ 21.34375 51.125 25.703125 53.5625 \nQ 30.078125 56 35.796875 56 \nQ 45.21875 56 50.046875 50.171875 \nQ 54.890625 44.34375 54.890625 33.015625 \nz\n\" id=\"DejaVuSans-110\"/>\n      <path id=\"DejaVuSans-32\"/>\n      <path d=\"M 9.421875 75.984375 \nL 18.40625 75.984375 \nL 18.40625 0 \nL 9.421875 0 \nz\n\" id=\"DejaVuSans-108\"/>\n      <path d=\"M 44.28125 53.078125 \nL 44.28125 44.578125 \nQ 40.484375 46.53125 36.375 47.5 \nQ 32.28125 48.484375 27.875 48.484375 \nQ 21.1875 48.484375 17.84375 46.4375 \nQ 14.5 44.390625 14.5 40.28125 \nQ 14.5 37.15625 16.890625 35.375 \nQ 19.28125 33.59375 26.515625 31.984375 \nL 29.59375 31.296875 \nQ 39.15625 29.25 43.1875 25.515625 \nQ 47.21875 21.78125 47.21875 15.09375 \nQ 47.21875 7.46875 41.1875 3.015625 \nQ 35.15625 -1.421875 24.609375 -1.421875 \nQ 20.21875 -1.421875 15.453125 -0.5625 \nQ 10.6875 0.296875 5.421875 2 \nL 5.421875 11.28125 \nQ 10.40625 8.6875 15.234375 7.390625 \nQ 20.0625 6.109375 24.8125 6.109375 \nQ 31.15625 6.109375 34.5625 8.28125 \nQ 37.984375 10.453125 37.984375 14.40625 \nQ 37.984375 18.0625 35.515625 20.015625 \nQ 33.0625 21.96875 24.703125 23.78125 \nL 21.578125 24.515625 \nQ 13.234375 26.265625 9.515625 29.90625 \nQ 5.8125 33.546875 5.8125 39.890625 \nQ 5.8125 47.609375 11.28125 51.796875 \nQ 16.75 56 26.8125 56 \nQ 31.78125 56 36.171875 55.265625 \nQ 40.578125 54.546875 44.28125 53.078125 \nz\n\" id=\"DejaVuSans-115\"/>\n     </defs>\n     <g transform=\"translate(67.103125 106.463281)scale(0.1 -0.1)\">\n      <use xlink:href=\"#DejaVuSans-116\"/>\n      <use x=\"39.208984\" xlink:href=\"#DejaVuSans-114\"/>\n      <use x=\"80.322266\" xlink:href=\"#DejaVuSans-97\"/>\n      <use x=\"141.601562\" xlink:href=\"#DejaVuSans-105\"/>\n      <use x=\"169.384766\" xlink:href=\"#DejaVuSans-110\"/>\n      <use x=\"232.763672\" xlink:href=\"#DejaVuSans-32\"/>\n      <use x=\"264.550781\" xlink:href=\"#DejaVuSans-108\"/>\n      <use x=\"292.333984\" xlink:href=\"#DejaVuSans-111\"/>\n      <use x=\"353.515625\" xlink:href=\"#DejaVuSans-115\"/>\n      <use x=\"405.615234\" xlink:href=\"#DejaVuSans-115\"/>\n     </g>\n    </g>\n    <g id=\"line2d_30\">\n     <path d=\"M 39.103125 117.641406 \nL 59.103125 117.641406 \n\" style=\"fill:none;stroke:#bf00bf;stroke-dasharray:5.55,2.4;stroke-dashoffset:0;stroke-width:1.5;\"/>\n    </g>\n    <g id=\"line2d_31\"/>\n    <g id=\"text_15\">\n     <!-- train acc -->\n     <g transform=\"translate(67.103125 121.141406)scale(0.1 -0.1)\">\n      <use xlink:href=\"#DejaVuSans-116\"/>\n      <use x=\"39.208984\" xlink:href=\"#DejaVuSans-114\"/>\n      <use x=\"80.322266\" xlink:href=\"#DejaVuSans-97\"/>\n      <use x=\"141.601562\" xlink:href=\"#DejaVuSans-105\"/>\n      <use x=\"169.384766\" xlink:href=\"#DejaVuSans-110\"/>\n      <use x=\"232.763672\" xlink:href=\"#DejaVuSans-32\"/>\n      <use x=\"264.550781\" xlink:href=\"#DejaVuSans-97\"/>\n      <use x=\"325.830078\" xlink:href=\"#DejaVuSans-99\"/>\n      <use x=\"380.810547\" xlink:href=\"#DejaVuSans-99\"/>\n     </g>\n    </g>\n    <g id=\"line2d_32\">\n     <path d=\"M 39.103125 132.319531 \nL 59.103125 132.319531 \n\" style=\"fill:none;stroke:#008000;stroke-dasharray:9.6,2.4,1.5,2.4;stroke-dashoffset:0;stroke-width:1.5;\"/>\n    </g>\n    <g id=\"line2d_33\"/>\n    <g id=\"text_16\">\n     <!-- test acc -->\n     <g transform=\"translate(67.103125 135.819531)scale(0.1 -0.1)\">\n      <use xlink:href=\"#DejaVuSans-116\"/>\n      <use x=\"39.208984\" xlink:href=\"#DejaVuSans-101\"/>\n      <use x=\"100.732422\" xlink:href=\"#DejaVuSans-115\"/>\n      <use x=\"152.832031\" xlink:href=\"#DejaVuSans-116\"/>\n      <use x=\"192.041016\" xlink:href=\"#DejaVuSans-32\"/>\n      <use x=\"223.828125\" xlink:href=\"#DejaVuSans-97\"/>\n      <use x=\"285.107422\" xlink:href=\"#DejaVuSans-99\"/>\n      <use x=\"340.087891\" xlink:href=\"#DejaVuSans-99\"/>\n     </g>\n    </g>\n   </g>\n  </g>\n </g>\n <defs>\n  <clipPath id=\"p0241b9c829\">\n   <rect height=\"135.9\" width=\"195.3\" x=\"30.103125\" y=\"10.999219\"/>\n  </clipPath>\n </defs>\n</svg>\n"
          },
          "metadata": {
            "tags": [],
            "needs_background": "light"
          }
        }
      ]
    }
  ]
}