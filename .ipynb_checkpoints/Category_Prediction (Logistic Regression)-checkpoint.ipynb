{
 "cells": [
  {
   "cell_type": "code",
   "execution_count": 1,
   "metadata": {},
   "outputs": [],
   "source": [
    "import gzip\n",
    "from collections import defaultdict\n",
    "import pandas as pd"
   ]
  },
  {
   "cell_type": "code",
   "execution_count": 2,
   "metadata": {},
   "outputs": [],
   "source": [
    "def readFile(f):\n",
    "    for l in open(f):\n",
    "        yield eval(l)"
   ]
  },
  {
   "cell_type": "code",
   "execution_count": 3,
   "metadata": {},
   "outputs": [],
   "source": [
    "Review_Text = []\n",
    "Category_ID = []\n",
    "Summary = []\n",
    "Helpful = []\n",
    "Reviewer_ID = []\n",
    "Review_Hash = []\n",
    "Review_Time = []\n",
    "\n",
    "for l in readFile(\"train.json\"):\n",
    "    a = l['reviewText']\n",
    "    b = l['categoryID']\n",
    "    c = l['summary']\n",
    "    d = l['helpful']\n",
    "    e = l['reviewerID']\n",
    "    f = l['reviewHash']\n",
    "    g = l['unixReviewTime']\n",
    "    Review_Text.append(a)\n",
    "    Category_ID.append(b)\n",
    "    Summary.append(c)\n",
    "    Helpful.append(d)\n",
    "    Reviewer_ID.append(e)\n",
    "    Review_Hash.append(f)\n",
    "    Review_Time.append(g)"
   ]
  },
  {
   "cell_type": "code",
   "execution_count": 4,
   "metadata": {},
   "outputs": [
    {
     "data": {
      "text/html": [
       "<div>\n",
       "<style scoped>\n",
       "    .dataframe tbody tr th:only-of-type {\n",
       "        vertical-align: middle;\n",
       "    }\n",
       "\n",
       "    .dataframe tbody tr th {\n",
       "        vertical-align: top;\n",
       "    }\n",
       "\n",
       "    .dataframe thead th {\n",
       "        text-align: right;\n",
       "    }\n",
       "</style>\n",
       "<table border=\"1\" class=\"dataframe\">\n",
       "  <thead>\n",
       "    <tr style=\"text-align: right;\">\n",
       "      <th></th>\n",
       "      <th>Review_Text</th>\n",
       "      <th>Summary</th>\n",
       "      <th>Reviewer_ID</th>\n",
       "      <th>Review_Hash</th>\n",
       "      <th>Review_Time</th>\n",
       "      <th>Category_ID</th>\n",
       "      <th>Full_Text</th>\n",
       "    </tr>\n",
       "  </thead>\n",
       "  <tbody>\n",
       "    <tr>\n",
       "      <td>0</td>\n",
       "      <td>The model in this picture has them rolled up a...</td>\n",
       "      <td>High Waisted</td>\n",
       "      <td>U490934656</td>\n",
       "      <td>R798569390</td>\n",
       "      <td>1380153600</td>\n",
       "      <td>0</td>\n",
       "      <td>The model in this picture has them rolled up a...</td>\n",
       "    </tr>\n",
       "    <tr>\n",
       "      <td>1</td>\n",
       "      <td>I love the look of this bra, it is what I want...</td>\n",
       "      <td>Beautiful but size runs small</td>\n",
       "      <td>U714157797</td>\n",
       "      <td>R436443063</td>\n",
       "      <td>1360195200</td>\n",
       "      <td>0</td>\n",
       "      <td>I love the look of this bra, it is what I want...</td>\n",
       "    </tr>\n",
       "    <tr>\n",
       "      <td>2</td>\n",
       "      <td>I am not comfortable with wearing my wedding b...</td>\n",
       "      <td>Great Alternative for Nurses</td>\n",
       "      <td>U507366950</td>\n",
       "      <td>R103439446</td>\n",
       "      <td>1394928000</td>\n",
       "      <td>0</td>\n",
       "      <td>I am not comfortable with wearing my wedding b...</td>\n",
       "    </tr>\n",
       "    <tr>\n",
       "      <td>3</td>\n",
       "      <td>Like the look of this top and really looks cut...</td>\n",
       "      <td>One size fits all...Questionable</td>\n",
       "      <td>U307862152</td>\n",
       "      <td>R486351639</td>\n",
       "      <td>1394409600</td>\n",
       "      <td>0</td>\n",
       "      <td>Like the look of this top and really looks cut...</td>\n",
       "    </tr>\n",
       "    <tr>\n",
       "      <td>4</td>\n",
       "      <td>I'm quite small and the XS fits me like a regu...</td>\n",
       "      <td>Great shirt</td>\n",
       "      <td>U742726598</td>\n",
       "      <td>R508664275</td>\n",
       "      <td>1375142400</td>\n",
       "      <td>0</td>\n",
       "      <td>I'm quite small and the XS fits me like a regu...</td>\n",
       "    </tr>\n",
       "  </tbody>\n",
       "</table>\n",
       "</div>"
      ],
      "text/plain": [
       "                                         Review_Text  \\\n",
       "0  The model in this picture has them rolled up a...   \n",
       "1  I love the look of this bra, it is what I want...   \n",
       "2  I am not comfortable with wearing my wedding b...   \n",
       "3  Like the look of this top and really looks cut...   \n",
       "4  I'm quite small and the XS fits me like a regu...   \n",
       "\n",
       "                            Summary Reviewer_ID Review_Hash Review_Time  \\\n",
       "0                      High Waisted  U490934656  R798569390  1380153600   \n",
       "1     Beautiful but size runs small  U714157797  R436443063  1360195200   \n",
       "2      Great Alternative for Nurses  U507366950  R103439446  1394928000   \n",
       "3  One size fits all...Questionable  U307862152  R486351639  1394409600   \n",
       "4                       Great shirt  U742726598  R508664275  1375142400   \n",
       "\n",
       "   Category_ID                                          Full_Text  \n",
       "0            0  The model in this picture has them rolled up a...  \n",
       "1            0  I love the look of this bra, it is what I want...  \n",
       "2            0  I am not comfortable with wearing my wedding b...  \n",
       "3            0  Like the look of this top and really looks cut...  \n",
       "4            0  I'm quite small and the XS fits me like a regu...  "
      ]
     },
     "execution_count": 4,
     "metadata": {},
     "output_type": "execute_result"
    }
   ],
   "source": [
    "df = pd.DataFrame({'Review_Text': Review_Text, 'Summary': Summary,'Reviewer_ID': Reviewer_ID, 'Review_Hash':Review_Hash, 'Review_Time': Review_Time, 'Category_ID': Category_ID})\n",
    "df['Review_Time'] = df['Review_Time'].astype('str')\n",
    "df['Full_Text'] = df[['Review_Text','Summary', 'Reviewer_ID']].agg(' '.join, axis = 1)\n",
    "df['Full_Text'] = df['Full_Text'].astype('str')\n",
    "df.head()"
   ]
  },
  {
   "cell_type": "code",
   "execution_count": 5,
   "metadata": {},
   "outputs": [
    {
     "name": "stdout",
     "output_type": "stream",
     "text": [
      "13025749\n"
     ]
    }
   ],
   "source": [
    "import logging\n",
    "import pandas as pd\n",
    "import numpy as np\n",
    "from numpy import random\n",
    "import gensim\n",
    "import nltk\n",
    "from sklearn.model_selection import train_test_split\n",
    "from sklearn.feature_extraction.text import CountVectorizer, TfidfVectorizer\n",
    "from sklearn.metrics import accuracy_score, confusion_matrix\n",
    "import matplotlib.pyplot as plt\n",
    "from nltk.corpus import stopwords\n",
    "%matplotlib inline\n",
    "\n",
    "print(df['Full_Text'].apply(lambda x: len(x.split(' '))).sum())"
   ]
  },
  {
   "cell_type": "code",
   "execution_count": 6,
   "metadata": {},
   "outputs": [
    {
     "data": {
      "text/plain": [
       "<matplotlib.axes._subplots.AxesSubplot at 0x1dbcec11648>"
      ]
     },
     "execution_count": 6,
     "metadata": {},
     "output_type": "execute_result"
    },
    {
     "data": {
      "image/png": "[encoded data removed]",
      "text/plain": [
       "<Figure size 720x288 with 1 Axes>"
      ]
     },
     "metadata": {
      "needs_background": "light"
     },
     "output_type": "display_data"
    }
   ],
   "source": [
    "my_tags = ['0','1','2','3','4']\n",
    "plt.figure(figsize=(10,4))\n",
    "df.Category_ID.value_counts().plot(kind='bar')"
   ]
  },
  {
   "cell_type": "code",
   "execution_count": 7,
   "metadata": {},
   "outputs": [],
   "source": [
    "X = df.Full_Text\n",
    "y = df.Category_ID\n",
    "X_train, X_test, y_train, y_test = train_test_split(X, y, test_size=0.2, random_state = 4)"
   ]
  },
  {
   "cell_type": "code",
   "execution_count": 8,
   "metadata": {},
   "outputs": [
    {
     "name": "stdout",
     "output_type": "stream",
     "text": [
      "accuracy 0.856275\n"
     ]
    }
   ],
   "source": [
    "from sklearn.naive_bayes import MultinomialNB\n",
    "from sklearn.pipeline import Pipeline\n",
    "from sklearn.feature_extraction.text import TfidfTransformer\n",
    "\n",
    "nb = Pipeline([('vect', CountVectorizer(analyzer='word', token_pattern=r'\\w{1,}', min_df=2)),\n",
    "               ('clf', MultinomialNB()),\n",
    "              ])\n",
    "nb.fit(X_train, y_train)\n",
    "\n",
    "from sklearn.metrics import classification_report\n",
    "y_pred = nb.predict(X_test)\n",
    "\n",
    "print('accuracy %s' % accuracy_score(y_pred, y_test))"
   ]
  },
  {
   "cell_type": "code",
   "execution_count": 9,
   "metadata": {},
   "outputs": [
    {
     "name": "stdout",
     "output_type": "stream",
     "text": [
      "accuracy 0.855975\n"
     ]
    }
   ],
   "source": [
    "from sklearn.linear_model import SGDClassifier\n",
    "\n",
    "sgd = Pipeline([('vect', CountVectorizer(analyzer='word', token_pattern=r'\\w{1,}', min_df=2)),\n",
    "                ('clf', SGDClassifier()),\n",
    "               ])\n",
    "sgd.fit(X_train, y_train)\n",
    "\n",
    "\n",
    "y_pred = sgd.predict(X_test)\n",
    "\n",
    "print('accuracy %s' % accuracy_score(y_pred, y_test))"
   ]
  },
  {
   "cell_type": "code",
   "execution_count": 10,
   "metadata": {},
   "outputs": [
    {
     "name": "stdout",
     "output_type": "stream",
     "text": [
      "accuracy 0.88035\n"
     ]
    }
   ],
   "source": [
    "from sklearn.linear_model import LogisticRegression\n",
    "\n",
    "logreg = Pipeline([('vect', CountVectorizer(analyzer='word', token_pattern=r'\\w{1,}', min_df=1)),\n",
    "                   ('clf', LogisticRegression(max_iter=100000)),\n",
    "               ])\n",
    "logreg.fit(X_train, y_train)\n",
    "\n",
    "\n",
    "y_pred = logreg.predict(X_test)\n",
    "\n",
    "print('accuracy %s' % accuracy_score(y_pred, y_test))"
   ]
  }
 ],
 "metadata": {
  "kernelspec": {
   "display_name": "Python 3",
   "language": "python",
   "name": "python3"
  },
  "language_info": {
   "codemirror_mode": {
    "name": "ipython",
    "version": 3
   },
   "file_extension": ".py",
   "mimetype": "text/x-python",
   "name": "python",
   "nbconvert_exporter": "python",
   "pygments_lexer": "ipython3",
   "version": "3.7.4"
  }
 },
 "nbformat": 4,
 "nbformat_minor": 4
}
