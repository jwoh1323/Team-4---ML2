{
 "cells": [
  {
   "cell_type": "code",
   "execution_count": 163,
   "metadata": {},
   "outputs": [],
   "source": [
    "import gzip\n",
    "from collections import defaultdict\n",
    "import numpy as np\n",
    "import pandas as pd\n",
    "import matplotlib.pyplot as plt\n",
    "from sklearn.utils import shuffle\n",
    "import random, heapq"
   ]
  },
  {
   "cell_type": "code",
   "execution_count": 178,
   "metadata": {},
   "outputs": [
    {
     "name": "stdout",
     "output_type": "stream",
     "text": [
      "Data length:  200000\n"
     ]
    }
   ],
   "source": [
    "data = []\n",
    "userRatings = defaultdict(list)\n",
    "\n",
    "def readGz(f):\n",
    "    for l in gzip.open(f):\n",
    "        yield eval(l)\n",
    "\n",
    "def readFile(f):\n",
    "    for l in open(f):\n",
    "        yield eval(l)\n",
    "#training and validation \n",
    "for l in readFile(\"train.json\"):\n",
    "    data.append(l)\n",
    "\n",
    "print(\"Data length: \" , len(data))\n",
    "df = pd.DataFrame.from_dict(data)\n",
    "\n",
    "\n",
    "validation_neg_pairs = set()\n",
    "for l in open(\"pairs_Purchase.txt\",'r'):\n",
    "    if l.startswith(\"reviewerID\"):\n",
    "        #header\n",
    "        continue\n",
    "    u,i = l.strip().split('-')\n",
    "    validation_neg_pairs.add((u,i))\n"
   ]
  },
  {
   "cell_type": "code",
   "execution_count": 165,
   "metadata": {},
   "outputs": [
    {
     "data": {
      "text/plain": [
       "I835857013    227\n",
       "I964877831    210\n",
       "I431429328    196\n",
       "I359425229    196\n",
       "I408729378    175\n",
       "             ... \n",
       "I875289577      1\n",
       "I237366629      1\n",
       "I302619354      1\n",
       "I345911319      1\n",
       "I082607986      1\n",
       "Name: itemID, Length: 19914, dtype: int64"
      ]
     },
     "execution_count": 165,
     "metadata": {},
     "output_type": "execute_result"
    }
   ],
   "source": [
    "#Most reviewed items\n",
    "items_count = df['itemID'].value_counts()\n",
    "items_count"
   ]
  },
  {
   "cell_type": "code",
   "execution_count": 166,
   "metadata": {},
   "outputs": [
    {
     "data": {
      "text/plain": [
       "<matplotlib.axes._subplots.AxesSubplot at 0x28edf30cd88>"
      ]
     },
     "execution_count": 166,
     "metadata": {},
     "output_type": "execute_result"
    },
    {
     "data": {
      "image/png": "[encoded data removed]",
      "text/plain": [
       "<Figure size 432x288 with 1 Axes>"
      ]
     },
     "metadata": {
      "needs_background": "light"
     },
     "output_type": "display_data"
    }
   ],
   "source": [
    "items_count.value_counts().plot()"
   ]
  },
  {
   "cell_type": "code",
   "execution_count": 167,
   "metadata": {},
   "outputs": [],
   "source": [
    "Popularity = 20"
   ]
  },
  {
   "cell_type": "code",
   "execution_count": 168,
   "metadata": {},
   "outputs": [],
   "source": [
    "item_cat_df = df[['categories','itemID']]\n",
    "df_item_uniqcat = item_cat_df.drop_duplicates(subset=['itemID'])\n",
    "df_item_uniqcat.set_index('itemID',inplace=True)"
   ]
  },
  {
   "cell_type": "code",
   "execution_count": 169,
   "metadata": {},
   "outputs": [],
   "source": [
    "def flatten_category(original_list):\n",
    "    item_cat_set = set()\n",
    "    for subcat in original_list:\n",
    "        for cat_str in subcat:\n",
    "            item_cat_set.add(cat_str)\n",
    "    return item_cat_set"
   ]
  },
  {
   "cell_type": "code",
   "execution_count": 170,
   "metadata": {},
   "outputs": [],
   "source": [
    "item_to_cat = {}  # itemID to set of string\n",
    "\n",
    "for idx,row in df_item_uniqcat.iterrows():\n",
    "    if idx not in item_to_cat:\n",
    "        item_to_cat[idx] = set()\n",
    "    item_to_cat[idx] |= flatten_category(row['categories'])"
   ]
  },
  {
   "cell_type": "code",
   "execution_count": 171,
   "metadata": {},
   "outputs": [],
   "source": [
    "user_to_cat = {}  # userID to set of strings\n",
    "\n",
    "for idx, row in df.iterrows():\n",
    "    userId,itemId = row['reviewerID'],row['itemID']\n",
    "    \n",
    "    if userId not in user_to_cat:\n",
    "        user_to_cat[userId] = set()\n",
    "        \n",
    "    user_to_cat[userId] |= item_to_cat[itemId]"
   ]
  },
  {
   "cell_type": "code",
   "execution_count": 172,
   "metadata": {},
   "outputs": [],
   "source": [
    "common_strings = 5"
   ]
  },
  {
   "cell_type": "code",
   "execution_count": 173,
   "metadata": {},
   "outputs": [],
   "source": [
    "def similarity(item_cat,user_cat):\n",
    "    return len(item_cat & user_cat) > common_strings \\\n",
    "    or float(len(item_cat & user_cat)) / len(item_cat | user_cat)"
   ]
  },
  {
   "cell_type": "code",
   "execution_count": 174,
   "metadata": {},
   "outputs": [],
   "source": [
    "def predictor_category(itemID, userID):\n",
    "    # check for Item and User\n",
    "    if itemId not in item_to_cat or userId not in user_to_cat:\n",
    "        return False \n",
    "    # predict based on similarity\n",
    "    return similarity(item_to_cat[itemId],user_to_cat[userId]) > Jac"
   ]
  },
  {
   "cell_type": "code",
   "execution_count": 175,
   "metadata": {},
   "outputs": [],
   "source": [
    "Jac = 0.17"
   ]
  },
  {
   "cell_type": "code",
   "execution_count": 176,
   "metadata": {},
   "outputs": [
    {
     "name": "stdout",
     "output_type": "stream",
     "text": [
      "popular items:  1742\n"
     ]
    }
   ],
   "source": [
    "popular_item_count = items_count[items_count > Popularity]\n",
    "print(\"popular items: \", len(popular_item_count))"
   ]
  },
  {
   "cell_type": "code",
   "execution_count": 177,
   "metadata": {},
   "outputs": [],
   "source": [
    "predictions = open(\"predictions_Purchase.txt\", 'w')\n",
    "predicted_true = 0\n",
    "predicted_false = 0\n",
    "lines = 0\n",
    "\n",
    "for l in open(\"pairs_Purchase.txt\"):\n",
    "    lines += 1\n",
    "    if l.startswith(\"reviewerID\"):\n",
    "        #header\n",
    "        predictions.write(l)\n",
    "        continue\n",
    "    u,i = l.strip().split('-')\n",
    "\n",
    "    # check the first predictor, if user purchased this category before \n",
    "    if i in popular_item_count:\n",
    "        predictions.write(u + '-' + i + \",1\\n\")\n",
    "        predicted_true += 1\n",
    "    else:\n",
    "        if predictor_category(i, u):\n",
    "            predictions.write(u + '-' + i + \",1\\n\")\n",
    "            predicted_true += 1\n",
    "        else:\n",
    "            predictions.write(u + '-' + i + \",0\\n\")\n",
    "            predicted_false += 1\n",
    "\n",
    "predictions.close()"
   ]
  },
  {
   "cell_type": "code",
   "execution_count": null,
   "metadata": {},
   "outputs": [],
   "source": []
  },
  {
   "cell_type": "code",
   "execution_count": null,
   "metadata": {},
   "outputs": [],
   "source": []
  },
  {
   "cell_type": "code",
   "execution_count": null,
   "metadata": {},
   "outputs": [],
   "source": []
  },
  {
   "cell_type": "code",
   "execution_count": null,
   "metadata": {},
   "outputs": [],
   "source": []
  }
 ],
 "metadata": {
  "kernelspec": {
   "display_name": "Python 3",
   "language": "python",
   "name": "python3"
  },
  "language_info": {
   "codemirror_mode": {
    "name": "ipython",
    "version": 3
   },
   "file_extension": ".py",
   "mimetype": "text/x-python",
   "name": "python",
   "nbconvert_exporter": "python",
   "pygments_lexer": "ipython3",
   "version": "3.7.7"
  }
 },
 "nbformat": 4,
 "nbformat_minor": 4
}
